{
  "cells": [
    {
      "cell_type": "markdown",
      "metadata": {
        "id": "zyNxILyrsa8F"
      },
      "source": [
        "# Home Work4 - Document Categorization using LSI"
      ]
    },
    {
      "cell_type": "markdown",
      "metadata": {
        "id": "kKsGzSVpheoE"
      },
      "source": [
        "## Read data and Data preprocessing"
      ]
    },
    {
      "cell_type": "code",
      "execution_count": null,
      "metadata": {
        "id": "fZNrdTnicLAQ"
      },
      "outputs": [],
      "source": [
        "import pandas as pd\n",
        "import numpy as np\n",
        "\n",
        "import matplotlib.pyplot as plt\n",
        "import seaborn as sns\n",
        "\n",
        "from sklearn.metrics import classification_report\n",
        "from sklearn.metrics import accuracy_score\n",
        "from sklearn import metrics\n",
        "\n",
        "import warnings\n",
        "warnings.filterwarnings('ignore')"
      ]
    },
    {
      "cell_type": "code",
      "execution_count": null,
      "metadata": {
        "colab": {
          "base_uri": "https://localhost:8080/"
        },
        "id": "rkd_EjeicVM6",
        "outputId": "71eb8bea-5bf0-48e8-e831-57921130430a"
      },
      "outputs": [
        {
          "name": "stdout",
          "output_type": "stream",
          "text": [
            "Mounted at /content/drive\n"
          ]
        }
      ],
      "source": [
        "from google.colab import drive\n",
        "drive.mount(\"/content/drive\")"
      ]
    },
    {
      "cell_type": "markdown",
      "metadata": {
        "id": "MeM4PoADQjmo"
      },
      "source": [
        "در هنگام خواندن این دیتاست به خطا می خوریم که در بعضی از سطرها تعداد ستون ها فرق دارد. تعداد ستون در اکثر سطرها یکی است اما در برخی از سطر ها به دلیل نامرتب بودن متن و استفاده از علامت کاما متن ها در چند ستون قرار گرفته اند. یک کار ممکن این است تا ماکسیمم تعداد ستون ها را بدست آوریم و تعداد ستون را برای همگی به همان تعداد در نظر بگیریم. ما در اینجا برای مثال این تعداد را ۸ انتخاب کردیم .اما ستون های اضافه ای که هستند شامل اطلاعات اضافه تری نیستند و همان ادامه ی متن هستند. که ما از آن ها ضرف نظر می کنیم.\n",
        "\n",
        "\n",
        " [لینک](https://sourceforge.net/projects/persica/) داداگان"
      ]
    },
    {
      "cell_type": "code",
      "execution_count": null,
      "metadata": {
        "colab": {
          "base_uri": "https://localhost:8080/",
          "height": 206
        },
        "id": "LVxlHqYQcbmB",
        "outputId": "5ea386a4-5887-4540-ede1-1f4dbdc2b246"
      },
      "outputs": [
        {
          "data": {
            "text/html": [
              "\n",
              "  <div id=\"df-739f3f8f-4d58-4a7e-ae57-93dba5838d18\">\n",
              "    <div class=\"colab-df-container\">\n",
              "      <div>\n",
              "<style scoped>\n",
              "    .dataframe tbody tr th:only-of-type {\n",
              "        vertical-align: middle;\n",
              "    }\n",
              "\n",
              "    .dataframe tbody tr th {\n",
              "        vertical-align: top;\n",
              "    }\n",
              "\n",
              "    .dataframe thead th {\n",
              "        text-align: right;\n",
              "    }\n",
              "</style>\n",
              "<table border=\"1\" class=\"dataframe\">\n",
              "  <thead>\n",
              "    <tr style=\"text-align: right;\">\n",
              "      <th></th>\n",
              "      <th>0</th>\n",
              "      <th>1</th>\n",
              "      <th>2</th>\n",
              "      <th>3</th>\n",
              "      <th>4</th>\n",
              "      <th>5</th>\n",
              "      <th>6</th>\n",
              "      <th>7</th>\n",
              "    </tr>\n",
              "  </thead>\n",
              "  <tbody>\n",
              "    <tr>\n",
              "      <th>0</th>\n",
              "      <td>843656</td>\n",
              "      <td>NaN</td>\n",
              "      <td>NaN</td>\n",
              "      <td>NaN</td>\n",
              "      <td>NaN</td>\n",
              "      <td>NaN</td>\n",
              "      <td>NaN</td>\n",
              "      <td>NaN</td>\n",
              "    </tr>\n",
              "    <tr>\n",
              "      <th>1</th>\n",
              "      <td>وزير علوم درجمع استادان نمونه: سن بازنشستگي اس...</td>\n",
              "      <td>NaN</td>\n",
              "      <td>NaN</td>\n",
              "      <td>NaN</td>\n",
              "      <td>NaN</td>\n",
              "      <td>NaN</td>\n",
              "      <td>NaN</td>\n",
              "      <td>NaN</td>\n",
              "    </tr>\n",
              "    <tr>\n",
              "      <th>2</th>\n",
              "      <td>وزير علوم در جمع استادان نمونه كشور گفت: از اس...</td>\n",
              "      <td>NaN</td>\n",
              "      <td>NaN</td>\n",
              "      <td>NaN</td>\n",
              "      <td>NaN</td>\n",
              "      <td>NaN</td>\n",
              "      <td>NaN</td>\n",
              "      <td>NaN</td>\n",
              "    </tr>\n",
              "    <tr>\n",
              "      <th>3</th>\n",
              "      <td>138/5//09</td>\n",
              "      <td>NaN</td>\n",
              "      <td>NaN</td>\n",
              "      <td>NaN</td>\n",
              "      <td>NaN</td>\n",
              "      <td>NaN</td>\n",
              "      <td>NaN</td>\n",
              "      <td>NaN</td>\n",
              "    </tr>\n",
              "    <tr>\n",
              "      <th>4</th>\n",
              "      <td>0:9::18</td>\n",
              "      <td>NaN</td>\n",
              "      <td>NaN</td>\n",
              "      <td>NaN</td>\n",
              "      <td>NaN</td>\n",
              "      <td>NaN</td>\n",
              "      <td>NaN</td>\n",
              "      <td>NaN</td>\n",
              "    </tr>\n",
              "  </tbody>\n",
              "</table>\n",
              "</div>\n",
              "      <button class=\"colab-df-convert\" onclick=\"convertToInteractive('df-739f3f8f-4d58-4a7e-ae57-93dba5838d18')\"\n",
              "              title=\"Convert this dataframe to an interactive table.\"\n",
              "              style=\"display:none;\">\n",
              "        \n",
              "  <svg xmlns=\"http://www.w3.org/2000/svg\" height=\"24px\"viewBox=\"0 0 24 24\"\n",
              "       width=\"24px\">\n",
              "    <path d=\"M0 0h24v24H0V0z\" fill=\"none\"/>\n",
              "    <path d=\"M18.56 5.44l.94 2.06.94-2.06 2.06-.94-2.06-.94-.94-2.06-.94 2.06-2.06.94zm-11 1L8.5 8.5l.94-2.06 2.06-.94-2.06-.94L8.5 2.5l-.94 2.06-2.06.94zm10 10l.94 2.06.94-2.06 2.06-.94-2.06-.94-.94-2.06-.94 2.06-2.06.94z\"/><path d=\"M17.41 7.96l-1.37-1.37c-.4-.4-.92-.59-1.43-.59-.52 0-1.04.2-1.43.59L10.3 9.45l-7.72 7.72c-.78.78-.78 2.05 0 2.83L4 21.41c.39.39.9.59 1.41.59.51 0 1.02-.2 1.41-.59l7.78-7.78 2.81-2.81c.8-.78.8-2.07 0-2.86zM5.41 20L4 18.59l7.72-7.72 1.47 1.35L5.41 20z\"/>\n",
              "  </svg>\n",
              "      </button>\n",
              "      \n",
              "  <style>\n",
              "    .colab-df-container {\n",
              "      display:flex;\n",
              "      flex-wrap:wrap;\n",
              "      gap: 12px;\n",
              "    }\n",
              "\n",
              "    .colab-df-convert {\n",
              "      background-color: #E8F0FE;\n",
              "      border: none;\n",
              "      border-radius: 50%;\n",
              "      cursor: pointer;\n",
              "      display: none;\n",
              "      fill: #1967D2;\n",
              "      height: 32px;\n",
              "      padding: 0 0 0 0;\n",
              "      width: 32px;\n",
              "    }\n",
              "\n",
              "    .colab-df-convert:hover {\n",
              "      background-color: #E2EBFA;\n",
              "      box-shadow: 0px 1px 2px rgba(60, 64, 67, 0.3), 0px 1px 3px 1px rgba(60, 64, 67, 0.15);\n",
              "      fill: #174EA6;\n",
              "    }\n",
              "\n",
              "    [theme=dark] .colab-df-convert {\n",
              "      background-color: #3B4455;\n",
              "      fill: #D2E3FC;\n",
              "    }\n",
              "\n",
              "    [theme=dark] .colab-df-convert:hover {\n",
              "      background-color: #434B5C;\n",
              "      box-shadow: 0px 1px 3px 1px rgba(0, 0, 0, 0.15);\n",
              "      filter: drop-shadow(0px 1px 2px rgba(0, 0, 0, 0.3));\n",
              "      fill: #FFFFFF;\n",
              "    }\n",
              "  </style>\n",
              "\n",
              "      <script>\n",
              "        const buttonEl =\n",
              "          document.querySelector('#df-739f3f8f-4d58-4a7e-ae57-93dba5838d18 button.colab-df-convert');\n",
              "        buttonEl.style.display =\n",
              "          google.colab.kernel.accessAllowed ? 'block' : 'none';\n",
              "\n",
              "        async function convertToInteractive(key) {\n",
              "          const element = document.querySelector('#df-739f3f8f-4d58-4a7e-ae57-93dba5838d18');\n",
              "          const dataTable =\n",
              "            await google.colab.kernel.invokeFunction('convertToInteractive',\n",
              "                                                     [key], {});\n",
              "          if (!dataTable) return;\n",
              "\n",
              "          const docLinkHtml = 'Like what you see? Visit the ' +\n",
              "            '<a target=\"_blank\" href=https://colab.research.google.com/notebooks/data_table.ipynb>data table notebook</a>'\n",
              "            + ' to learn more about interactive tables.';\n",
              "          element.innerHTML = '';\n",
              "          dataTable['output_type'] = 'display_data';\n",
              "          await google.colab.output.renderOutput(dataTable, element);\n",
              "          const docLink = document.createElement('div');\n",
              "          docLink.innerHTML = docLinkHtml;\n",
              "          element.appendChild(docLink);\n",
              "        }\n",
              "      </script>\n",
              "    </div>\n",
              "  </div>\n",
              "  "
            ],
            "text/plain": [
              "                                                   0    1    2    3    4    5  \\\n",
              "0                                             843656  NaN  NaN  NaN  NaN  NaN   \n",
              "1  وزير علوم درجمع استادان نمونه: سن بازنشستگي اس...  NaN  NaN  NaN  NaN  NaN   \n",
              "2  وزير علوم در جمع استادان نمونه كشور گفت: از اس...  NaN  NaN  NaN  NaN  NaN   \n",
              "3                                          138/5//09  NaN  NaN  NaN  NaN  NaN   \n",
              "4                                            0:9::18  NaN  NaN  NaN  NaN  NaN   \n",
              "\n",
              "     6    7  \n",
              "0  NaN  NaN  \n",
              "1  NaN  NaN  \n",
              "2  NaN  NaN  \n",
              "3  NaN  NaN  \n",
              "4  NaN  NaN  "
            ]
          },
          "execution_count": 3,
          "metadata": {},
          "output_type": "execute_result"
        }
      ],
      "source": [
        "df = pd.read_csv('/content/drive/MyDrive/NLP/HW4/persica.csv', header = None,names=range(8))\n",
        "df.head()"
      ]
    },
    {
      "cell_type": "markdown",
      "metadata": {
        "id": "COQe9-yNSLpT"
      },
      "source": [
        "حال ستون های خالی را با صفر پر می کنیم."
      ]
    },
    {
      "cell_type": "code",
      "execution_count": null,
      "metadata": {
        "id": "uXGl3eThc63f"
      },
      "outputs": [],
      "source": [
        "new_df = df.fillna(0)"
      ]
    },
    {
      "cell_type": "code",
      "execution_count": null,
      "metadata": {
        "colab": {
          "base_uri": "https://localhost:8080/",
          "height": 990
        },
        "id": "X2h4iLMpWFAY",
        "outputId": "bc337e17-3d51-47e6-8c6d-7702fca3406b"
      },
      "outputs": [
        {
          "data": {
            "text/html": [
              "\n",
              "  <div id=\"df-d12aa020-d1c8-4b7d-99ea-e517545f3190\">\n",
              "    <div class=\"colab-df-container\">\n",
              "      <div>\n",
              "<style scoped>\n",
              "    .dataframe tbody tr th:only-of-type {\n",
              "        vertical-align: middle;\n",
              "    }\n",
              "\n",
              "    .dataframe tbody tr th {\n",
              "        vertical-align: top;\n",
              "    }\n",
              "\n",
              "    .dataframe thead th {\n",
              "        text-align: right;\n",
              "    }\n",
              "</style>\n",
              "<table border=\"1\" class=\"dataframe\">\n",
              "  <thead>\n",
              "    <tr style=\"text-align: right;\">\n",
              "      <th></th>\n",
              "      <th>0</th>\n",
              "      <th>1</th>\n",
              "      <th>2</th>\n",
              "      <th>3</th>\n",
              "      <th>4</th>\n",
              "      <th>5</th>\n",
              "      <th>6</th>\n",
              "      <th>7</th>\n",
              "    </tr>\n",
              "  </thead>\n",
              "  <tbody>\n",
              "    <tr>\n",
              "      <th>0</th>\n",
              "      <td>843656</td>\n",
              "      <td>0</td>\n",
              "      <td>0</td>\n",
              "      <td>0</td>\n",
              "      <td>0</td>\n",
              "      <td>0</td>\n",
              "      <td>0</td>\n",
              "      <td>0</td>\n",
              "    </tr>\n",
              "    <tr>\n",
              "      <th>1</th>\n",
              "      <td>وزير علوم درجمع استادان نمونه: سن بازنشستگي اس...</td>\n",
              "      <td>0</td>\n",
              "      <td>0</td>\n",
              "      <td>0</td>\n",
              "      <td>0</td>\n",
              "      <td>0</td>\n",
              "      <td>0</td>\n",
              "      <td>0</td>\n",
              "    </tr>\n",
              "    <tr>\n",
              "      <th>2</th>\n",
              "      <td>وزير علوم در جمع استادان نمونه كشور گفت: از اس...</td>\n",
              "      <td>0</td>\n",
              "      <td>0</td>\n",
              "      <td>0</td>\n",
              "      <td>0</td>\n",
              "      <td>0</td>\n",
              "      <td>0</td>\n",
              "      <td>0</td>\n",
              "    </tr>\n",
              "    <tr>\n",
              "      <th>3</th>\n",
              "      <td>138/5//09</td>\n",
              "      <td>0</td>\n",
              "      <td>0</td>\n",
              "      <td>0</td>\n",
              "      <td>0</td>\n",
              "      <td>0</td>\n",
              "      <td>0</td>\n",
              "      <td>0</td>\n",
              "    </tr>\n",
              "    <tr>\n",
              "      <th>4</th>\n",
              "      <td>0:9::18</td>\n",
              "      <td>0</td>\n",
              "      <td>0</td>\n",
              "      <td>0</td>\n",
              "      <td>0</td>\n",
              "      <td>0</td>\n",
              "      <td>0</td>\n",
              "      <td>0</td>\n",
              "    </tr>\n",
              "    <tr>\n",
              "      <th>5</th>\n",
              "      <td>آموزشي-</td>\n",
              "      <td>0</td>\n",
              "      <td>0</td>\n",
              "      <td>0</td>\n",
              "      <td>0</td>\n",
              "      <td>0</td>\n",
              "      <td>0</td>\n",
              "      <td>0</td>\n",
              "    </tr>\n",
              "    <tr>\n",
              "      <th>6</th>\n",
              "      <td>آموزشي</td>\n",
              "      <td>0</td>\n",
              "      <td>0</td>\n",
              "      <td>0</td>\n",
              "      <td>0</td>\n",
              "      <td>0</td>\n",
              "      <td>0</td>\n",
              "      <td>0</td>\n",
              "    </tr>\n",
              "    <tr>\n",
              "      <th>7</th>\n",
              "      <td>837144</td>\n",
              "      <td>0</td>\n",
              "      <td>0</td>\n",
              "      <td>0</td>\n",
              "      <td>0</td>\n",
              "      <td>0</td>\n",
              "      <td>0</td>\n",
              "      <td>0</td>\n",
              "    </tr>\n",
              "    <tr>\n",
              "      <th>8</th>\n",
              "      <td>گردهمايي دانش‌آموختگان موسسه آموزش عالي سوره ب...</td>\n",
              "      <td>0</td>\n",
              "      <td>0</td>\n",
              "      <td>0</td>\n",
              "      <td>0</td>\n",
              "      <td>0</td>\n",
              "      <td>0</td>\n",
              "      <td>0</td>\n",
              "    </tr>\n",
              "    <tr>\n",
              "      <th>9</th>\n",
              "      <td>به گزارش سرويس صنفي آموزشي خبرگزاري دانشجويان ...</td>\n",
              "      <td>0</td>\n",
              "      <td>0</td>\n",
              "      <td>0</td>\n",
              "      <td>0</td>\n",
              "      <td>0</td>\n",
              "      <td>0</td>\n",
              "      <td>0</td>\n",
              "    </tr>\n",
              "    <tr>\n",
              "      <th>10</th>\n",
              "      <td>138/5//09</td>\n",
              "      <td>0</td>\n",
              "      <td>0</td>\n",
              "      <td>0</td>\n",
              "      <td>0</td>\n",
              "      <td>0</td>\n",
              "      <td>0</td>\n",
              "      <td>0</td>\n",
              "    </tr>\n",
              "    <tr>\n",
              "      <th>11</th>\n",
              "      <td>1:4::11</td>\n",
              "      <td>0</td>\n",
              "      <td>0</td>\n",
              "      <td>0</td>\n",
              "      <td>0</td>\n",
              "      <td>0</td>\n",
              "      <td>0</td>\n",
              "      <td>0</td>\n",
              "    </tr>\n",
              "    <tr>\n",
              "      <th>12</th>\n",
              "      <td>آموزشي-</td>\n",
              "      <td>0</td>\n",
              "      <td>0</td>\n",
              "      <td>0</td>\n",
              "      <td>0</td>\n",
              "      <td>0</td>\n",
              "      <td>0</td>\n",
              "      <td>0</td>\n",
              "    </tr>\n",
              "    <tr>\n",
              "      <th>13</th>\n",
              "      <td>آموزشي</td>\n",
              "      <td>0</td>\n",
              "      <td>0</td>\n",
              "      <td>0</td>\n",
              "      <td>0</td>\n",
              "      <td>0</td>\n",
              "      <td>0</td>\n",
              "      <td>0</td>\n",
              "    </tr>\n",
              "    <tr>\n",
              "      <th>14</th>\n",
              "      <td>436862</td>\n",
              "      <td>0</td>\n",
              "      <td>0</td>\n",
              "      <td>0</td>\n",
              "      <td>0</td>\n",
              "      <td>0</td>\n",
              "      <td>0</td>\n",
              "      <td>0</td>\n",
              "    </tr>\n",
              "    <tr>\n",
              "      <th>15</th>\n",
              "      <td>نتايج آزمون دوره‌هاي فراگير دانشگاه پيام‌نور ا...</td>\n",
              "      <td>0</td>\n",
              "      <td>0</td>\n",
              "      <td>0</td>\n",
              "      <td>0</td>\n",
              "      <td>0</td>\n",
              "      <td>0</td>\n",
              "      <td>0</td>\n",
              "    </tr>\n",
              "    <tr>\n",
              "      <th>16</th>\n",
              "      <td>نتايج آزمون دوره‌هاي فراگير مقاطع كارشناسي و ك...</td>\n",
              "      <td>0</td>\n",
              "      <td>0</td>\n",
              "      <td>0</td>\n",
              "      <td>0</td>\n",
              "      <td>0</td>\n",
              "      <td>0</td>\n",
              "      <td>0</td>\n",
              "    </tr>\n",
              "    <tr>\n",
              "      <th>17</th>\n",
              "      <td>138/3//07</td>\n",
              "      <td>0</td>\n",
              "      <td>0</td>\n",
              "      <td>0</td>\n",
              "      <td>0</td>\n",
              "      <td>0</td>\n",
              "      <td>0</td>\n",
              "      <td>0</td>\n",
              "    </tr>\n",
              "    <tr>\n",
              "      <th>18</th>\n",
              "      <td>1:0::03</td>\n",
              "      <td>0</td>\n",
              "      <td>0</td>\n",
              "      <td>0</td>\n",
              "      <td>0</td>\n",
              "      <td>0</td>\n",
              "      <td>0</td>\n",
              "      <td>0</td>\n",
              "    </tr>\n",
              "    <tr>\n",
              "      <th>19</th>\n",
              "      <td>آموزشي-</td>\n",
              "      <td>0</td>\n",
              "      <td>0</td>\n",
              "      <td>0</td>\n",
              "      <td>0</td>\n",
              "      <td>0</td>\n",
              "      <td>0</td>\n",
              "      <td>0</td>\n",
              "    </tr>\n",
              "    <tr>\n",
              "      <th>20</th>\n",
              "      <td>آموزشي</td>\n",
              "      <td>0</td>\n",
              "      <td>0</td>\n",
              "      <td>0</td>\n",
              "      <td>0</td>\n",
              "      <td>0</td>\n",
              "      <td>0</td>\n",
              "      <td>0</td>\n",
              "    </tr>\n",
              "    <tr>\n",
              "      <th>21</th>\n",
              "      <td>227781</td>\n",
              "      <td>0</td>\n",
              "      <td>0</td>\n",
              "      <td>0</td>\n",
              "      <td>0</td>\n",
              "      <td>0</td>\n",
              "      <td>0</td>\n",
              "      <td>0</td>\n",
              "    </tr>\n",
              "    <tr>\n",
              "      <th>22</th>\n",
              "      <td>همايش يكروزه آسيب شناسي مفهوم روابط عمومي در ب...</td>\n",
              "      <td>0</td>\n",
              "      <td>0</td>\n",
              "      <td>0</td>\n",
              "      <td>0</td>\n",
              "      <td>0</td>\n",
              "      <td>0</td>\n",
              "      <td>0</td>\n",
              "    </tr>\n",
              "    <tr>\n",
              "      <th>23</th>\n",
              "      <td>0</td>\n",
              "      <td>0</td>\n",
              "      <td>0</td>\n",
              "      <td>0</td>\n",
              "      <td>0</td>\n",
              "      <td>0</td>\n",
              "      <td>0</td>\n",
              "      <td>0</td>\n",
              "    </tr>\n",
              "    <tr>\n",
              "      <th>24</th>\n",
              "      <td>138/2//02</td>\n",
              "      <td>0</td>\n",
              "      <td>0</td>\n",
              "      <td>0</td>\n",
              "      <td>0</td>\n",
              "      <td>0</td>\n",
              "      <td>0</td>\n",
              "      <td>0</td>\n",
              "    </tr>\n",
              "    <tr>\n",
              "      <th>25</th>\n",
              "      <td>1:3::42</td>\n",
              "      <td>0</td>\n",
              "      <td>0</td>\n",
              "      <td>0</td>\n",
              "      <td>0</td>\n",
              "      <td>0</td>\n",
              "      <td>0</td>\n",
              "      <td>0</td>\n",
              "    </tr>\n",
              "    <tr>\n",
              "      <th>26</th>\n",
              "      <td>اجتماعي-خانواده-</td>\n",
              "      <td>0</td>\n",
              "      <td>0</td>\n",
              "      <td>0</td>\n",
              "      <td>0</td>\n",
              "      <td>0</td>\n",
              "      <td>0</td>\n",
              "      <td>0</td>\n",
              "    </tr>\n",
              "    <tr>\n",
              "      <th>27</th>\n",
              "      <td>اجتماعي</td>\n",
              "      <td>0</td>\n",
              "      <td>0</td>\n",
              "      <td>0</td>\n",
              "      <td>0</td>\n",
              "      <td>0</td>\n",
              "      <td>0</td>\n",
              "      <td>0</td>\n",
              "    </tr>\n",
              "    <tr>\n",
              "      <th>28</th>\n",
              "      <td>174187</td>\n",
              "      <td>0</td>\n",
              "      <td>0</td>\n",
              "      <td>0</td>\n",
              "      <td>0</td>\n",
              "      <td>0</td>\n",
              "      <td>0</td>\n",
              "      <td>0</td>\n",
              "    </tr>\n",
              "    <tr>\n",
              "      <th>29</th>\n",
              "      <td>وضعيت اقتصادي و ميزان تحصيلات والدين از مهمتري...</td>\n",
              "      <td>0</td>\n",
              "      <td>0</td>\n",
              "      <td>0</td>\n",
              "      <td>0</td>\n",
              "      <td>0</td>\n",
              "      <td>0</td>\n",
              "      <td>0</td>\n",
              "    </tr>\n",
              "  </tbody>\n",
              "</table>\n",
              "</div>\n",
              "      <button class=\"colab-df-convert\" onclick=\"convertToInteractive('df-d12aa020-d1c8-4b7d-99ea-e517545f3190')\"\n",
              "              title=\"Convert this dataframe to an interactive table.\"\n",
              "              style=\"display:none;\">\n",
              "        \n",
              "  <svg xmlns=\"http://www.w3.org/2000/svg\" height=\"24px\"viewBox=\"0 0 24 24\"\n",
              "       width=\"24px\">\n",
              "    <path d=\"M0 0h24v24H0V0z\" fill=\"none\"/>\n",
              "    <path d=\"M18.56 5.44l.94 2.06.94-2.06 2.06-.94-2.06-.94-.94-2.06-.94 2.06-2.06.94zm-11 1L8.5 8.5l.94-2.06 2.06-.94-2.06-.94L8.5 2.5l-.94 2.06-2.06.94zm10 10l.94 2.06.94-2.06 2.06-.94-2.06-.94-.94-2.06-.94 2.06-2.06.94z\"/><path d=\"M17.41 7.96l-1.37-1.37c-.4-.4-.92-.59-1.43-.59-.52 0-1.04.2-1.43.59L10.3 9.45l-7.72 7.72c-.78.78-.78 2.05 0 2.83L4 21.41c.39.39.9.59 1.41.59.51 0 1.02-.2 1.41-.59l7.78-7.78 2.81-2.81c.8-.78.8-2.07 0-2.86zM5.41 20L4 18.59l7.72-7.72 1.47 1.35L5.41 20z\"/>\n",
              "  </svg>\n",
              "      </button>\n",
              "      \n",
              "  <style>\n",
              "    .colab-df-container {\n",
              "      display:flex;\n",
              "      flex-wrap:wrap;\n",
              "      gap: 12px;\n",
              "    }\n",
              "\n",
              "    .colab-df-convert {\n",
              "      background-color: #E8F0FE;\n",
              "      border: none;\n",
              "      border-radius: 50%;\n",
              "      cursor: pointer;\n",
              "      display: none;\n",
              "      fill: #1967D2;\n",
              "      height: 32px;\n",
              "      padding: 0 0 0 0;\n",
              "      width: 32px;\n",
              "    }\n",
              "\n",
              "    .colab-df-convert:hover {\n",
              "      background-color: #E2EBFA;\n",
              "      box-shadow: 0px 1px 2px rgba(60, 64, 67, 0.3), 0px 1px 3px 1px rgba(60, 64, 67, 0.15);\n",
              "      fill: #174EA6;\n",
              "    }\n",
              "\n",
              "    [theme=dark] .colab-df-convert {\n",
              "      background-color: #3B4455;\n",
              "      fill: #D2E3FC;\n",
              "    }\n",
              "\n",
              "    [theme=dark] .colab-df-convert:hover {\n",
              "      background-color: #434B5C;\n",
              "      box-shadow: 0px 1px 3px 1px rgba(0, 0, 0, 0.15);\n",
              "      filter: drop-shadow(0px 1px 2px rgba(0, 0, 0, 0.3));\n",
              "      fill: #FFFFFF;\n",
              "    }\n",
              "  </style>\n",
              "\n",
              "      <script>\n",
              "        const buttonEl =\n",
              "          document.querySelector('#df-d12aa020-d1c8-4b7d-99ea-e517545f3190 button.colab-df-convert');\n",
              "        buttonEl.style.display =\n",
              "          google.colab.kernel.accessAllowed ? 'block' : 'none';\n",
              "\n",
              "        async function convertToInteractive(key) {\n",
              "          const element = document.querySelector('#df-d12aa020-d1c8-4b7d-99ea-e517545f3190');\n",
              "          const dataTable =\n",
              "            await google.colab.kernel.invokeFunction('convertToInteractive',\n",
              "                                                     [key], {});\n",
              "          if (!dataTable) return;\n",
              "\n",
              "          const docLinkHtml = 'Like what you see? Visit the ' +\n",
              "            '<a target=\"_blank\" href=https://colab.research.google.com/notebooks/data_table.ipynb>data table notebook</a>'\n",
              "            + ' to learn more about interactive tables.';\n",
              "          element.innerHTML = '';\n",
              "          dataTable['output_type'] = 'display_data';\n",
              "          await google.colab.output.renderOutput(dataTable, element);\n",
              "          const docLink = document.createElement('div');\n",
              "          docLink.innerHTML = docLinkHtml;\n",
              "          element.appendChild(docLink);\n",
              "        }\n",
              "      </script>\n",
              "    </div>\n",
              "  </div>\n",
              "  "
            ],
            "text/plain": [
              "                                                    0  1  2  3  4  5  6  7\n",
              "0                                              843656  0  0  0  0  0  0  0\n",
              "1   وزير علوم درجمع استادان نمونه: سن بازنشستگي اس...  0  0  0  0  0  0  0\n",
              "2   وزير علوم در جمع استادان نمونه كشور گفت: از اس...  0  0  0  0  0  0  0\n",
              "3                                           138/5//09  0  0  0  0  0  0  0\n",
              "4                                             0:9::18  0  0  0  0  0  0  0\n",
              "5                                             آموزشي-  0  0  0  0  0  0  0\n",
              "6                                              آموزشي  0  0  0  0  0  0  0\n",
              "7                                              837144  0  0  0  0  0  0  0\n",
              "8   گردهمايي دانش‌آموختگان موسسه آموزش عالي سوره ب...  0  0  0  0  0  0  0\n",
              "9   به گزارش سرويس صنفي آموزشي خبرگزاري دانشجويان ...  0  0  0  0  0  0  0\n",
              "10                                          138/5//09  0  0  0  0  0  0  0\n",
              "11                                            1:4::11  0  0  0  0  0  0  0\n",
              "12                                            آموزشي-  0  0  0  0  0  0  0\n",
              "13                                             آموزشي  0  0  0  0  0  0  0\n",
              "14                                             436862  0  0  0  0  0  0  0\n",
              "15  نتايج آزمون دوره‌هاي فراگير دانشگاه پيام‌نور ا...  0  0  0  0  0  0  0\n",
              "16  نتايج آزمون دوره‌هاي فراگير مقاطع كارشناسي و ك...  0  0  0  0  0  0  0\n",
              "17                                          138/3//07  0  0  0  0  0  0  0\n",
              "18                                            1:0::03  0  0  0  0  0  0  0\n",
              "19                                            آموزشي-  0  0  0  0  0  0  0\n",
              "20                                             آموزشي  0  0  0  0  0  0  0\n",
              "21                                             227781  0  0  0  0  0  0  0\n",
              "22  همايش يكروزه آسيب شناسي مفهوم روابط عمومي در ب...  0  0  0  0  0  0  0\n",
              "23                                                  0  0  0  0  0  0  0  0\n",
              "24                                          138/2//02  0  0  0  0  0  0  0\n",
              "25                                            1:3::42  0  0  0  0  0  0  0\n",
              "26                                   اجتماعي-خانواده-  0  0  0  0  0  0  0\n",
              "27                                            اجتماعي  0  0  0  0  0  0  0\n",
              "28                                             174187  0  0  0  0  0  0  0\n",
              "29  وضعيت اقتصادي و ميزان تحصيلات والدين از مهمتري...  0  0  0  0  0  0  0"
            ]
          },
          "execution_count": 6,
          "metadata": {},
          "output_type": "execute_result"
        }
      ],
      "source": [
        "new_df.head(30)"
      ]
    },
    {
      "cell_type": "code",
      "execution_count": null,
      "metadata": {
        "colab": {
          "base_uri": "https://localhost:8080/"
        },
        "id": "kKLSjO9ff-i4",
        "outputId": "61a0c21d-9545-4505-a2bd-49b139abd343"
      },
      "outputs": [
        {
          "data": {
            "text/plain": [
              "(76993, 8)"
            ]
          },
          "execution_count": 30,
          "metadata": {},
          "output_type": "execute_result"
        }
      ],
      "source": [
        "new_df.shape"
      ]
    },
    {
      "cell_type": "code",
      "execution_count": null,
      "metadata": {
        "id": "xKKmZgSAeuJY"
      },
      "outputs": [],
      "source": [
        "with open('/content/drive/MyDrive/NLP/HW4/persica.csv', 'r') as f:\n",
        "  x = f.readlines()"
      ]
    },
    {
      "cell_type": "code",
      "execution_count": null,
      "metadata": {
        "colab": {
          "base_uri": "https://localhost:8080/"
        },
        "id": "VoMvBGEVf0_V",
        "outputId": "dfe90008-c269-4054-f8f8-c8fd6e8c3f17"
      },
      "outputs": [
        {
          "data": {
            "text/plain": [
              "76993"
            ]
          },
          "execution_count": 35,
          "metadata": {},
          "output_type": "execute_result"
        }
      ],
      "source": [
        "len(x)"
      ]
    },
    {
      "cell_type": "code",
      "execution_count": null,
      "metadata": {
        "colab": {
          "base_uri": "https://localhost:8080/",
          "height": 557
        },
        "id": "Mk0byaBWgghE",
        "outputId": "cff938ab-8a95-4a30-c230-dd24f16f25be"
      },
      "outputs": [
        {
          "data": {
            "application/vnd.google.colaboratory.intrinsic+json": {
              "type": "string"
            },
            "text/plain": [
              "'ويژه نامه فرهنگي و ديني سيره عملي و نظري با هدف گرامي داشت ايام سوگواري ابا عبدالله الحسين، امروز در دانشگاه تربيت معلم منتشر شد. به گزارش خبرگزاري دانشجويان ايران (ايسنا)، ويژه نامه فرهنگي و ديني سيره نظري و عملي با هدف تبيين، تبليغ و ترويج سيره نظري و عملي سالار شهيدان، آشنايي دانشجويان با فرهنگ عاشورا و معرفي مولفه و شاخصه\\u200cهاي مكتب امام حسين (ع) از سوي روابط عمومي و اداره فعاليت\\u200cهاي فوق برنامه جهاد دانشگاهي واحد تربيت معلم در اولين روز دهه اول ماه محرم در دانشگاه تربيت معلم منتشر شد. اين گزارش مي\\u200cافزايد: نشانه\\u200cهاي مومنان، پرهيز از ستمكاري، فلسفه قيام در مقابل ظلم، ملاكهاي رستگاري، نگاه به دنيا و مقوله مرگ، انواع مرگ، آثار معصيت الهي، اقسان عبادات، دنيا و اهل دنيا، اصلاحات،\\u200cامر به معروف و نهي از منكر، اقسام جهاد،\\u200cعناوين سخنان نوراني امام حسين (ع) است كه جهاد دانشگاهي واحد تربيت معلم در اولين روز دهه اول محرم امسال منتشر مي\\u200cكند. برگزاري دوره\\u200cهاي كارگاهي تجارت الكترونيك دوره\\u200cهاي كارگاهي تجارت الكترونيك از سوي معاونت آموزشي جهاد دانشگاهي واحد تربيت معلم برگزار مي\\u200cشود معاونت آموزشي جهاد دانشگاهي واحد تربيت معلم با هدف برگزاري دوره\\u200cهاي تخصصي و تلاش براي استفاده از جديدترين دستاوردهاي علمي جهان و ايجاد زمينه\\u200cهاي لازم براي اشتغال دانش آموختگان دانشگاهي و تلاش براي توانمند كردن حرفه\\u200cاي آنان و آشنايي با بازار كار و ارائه آموزشهاي مورد نياز جامعه اقدام به برگزاري دوره كارگاهي تجارت الكترونيك كرده است. اين گزارش مي\\u200cافزايد: «نحوه ايجاد پر تفوي online»، «آشنايي با خبرخوان خودكار rss»، «پرداختها و برداشتهاي اينترنتي»، «آشنايي با تجارت online در ايران»، «حوالجات الكترونيكي بانكداري نوين و ...»، «آشنايي كامل با سايتهاي ايراني براي هر گونه خريد online»، «خريد و فروش online سهام بورس اوراق بهادار ايران» از عمده ترين مباحث و سرفصلهاي اين دوره مي\\u200cباشند. بر اساس اين گزارش، مدت اين كارگاه 10 ساعت بوده و در پايان دوره به افراد شركت كننده گواهي نامه داده خواهد شد و متقاضيان محترم مي\\u200cتوانند براي ثبت نام و كسب اطلاعات بيشتر در ساعات اداري به نشاني تهران، خيابان\\u200cهاي طالقاني، بين بهار و شريعتي، پلاك 599، مركز آموزش جهاد دانشگاهي واحد تربيت معلم، مراجعه و يا با شماره تلفن\\u200cهاي 77600011 و 77529785 – 021 تماس حاصل نمايند. &nbsp; ارايه مقالات پژوهشگران جهادگر در سمينارهاي داخلي و خارجي سه مقاله از پژوهشگر جهاددانشگاهي واحد تربيت معلم تهران در كنفرانس ramat در هند بصورت سخنراني ارائه شد. به گزارش خبرگزاري دانشجويان ايران (ايسنا)، اين مقالات با عناوين 1 – comparison of attachment berween two baraacie cyprids (balanas amphitrie darwin,1858 and b.improvisus darwin, 1854) to polystyre..e and glass substrata. 2 – larval settlement of the barnacle, bala…us improvisus darwin 1985, under different food concentration, light period, salinity and cyprid deasity. 3 – synthesis and prelimiaary stady on …tifouling activity of novel isocy… compound containing an ether group توسط &nbsp; علي نصرالهي،\\u200c عضو هيات علمي گروه پژوهشي بيولوژي دريا واحد تربيت معلم در كنفرانس ramat در هند به صورت سخنراني ارائه شد. همچنين يك مقاله از پژوهشگر جهاددانشگاهي واحد تربيت معلم تهران در سومين همايش gis در قشم بصورت سخنراني ارائه شد. اين مقاله با عنوان «مسير يابي هوشمند خطوط لوله انتقال آب با استفاده از gis و الگوريتم ژنتيك» توسط مهندس احمدرضا ابراهيمي پور، عضو هيات علمي مركز خدمات تخصصي سامانه\\u200cهاي اطلاعات جغرافيايي (gis) معاونت پژوهشي جهاد دانشگاهي واحد تربيت معلم در سومين همايش gis كشور ارائه شد. همچنين يك مقاله از پژوهشگر جهاددانشگاهي واحد تربيت معلم تهران در هفتمين همايش بين المللي مهندسي سواحل، بنادر و سازه\\u200cهاي دريايي به صورت سخنراني ارائه شد. اين مقاله با عنوان «اثر نوسان تراز آب بر سواحل خليج فارس از ديدگاه زيستي» توسط علي نصر اللهي، عضو هيات علمي گروه پژوهشي بيولوژي دريا معاونت پژوهشي جهاد دانشگاهي واحد تربيت معلم در هفتمين همايش بين المللي مهندسي سواحل، بنادر و سازه \\u200cهاي دريايي ارائه شد. &nbsp;,\\n'"
            ]
          },
          "execution_count": 36,
          "metadata": {},
          "output_type": "execute_result"
        }
      ],
      "source": [
        "x[1080]"
      ]
    },
    {
      "cell_type": "code",
      "execution_count": null,
      "metadata": {
        "colab": {
          "base_uri": "https://localhost:8080/"
        },
        "id": "gkh73MLMgx0t",
        "outputId": "29ef30b6-25af-4a9d-c338-13485e70275d"
      },
      "outputs": [
        {
          "data": {
            "text/plain": [
              "8"
            ]
          },
          "execution_count": 39,
          "metadata": {},
          "output_type": "execute_result"
        }
      ],
      "source": [
        "y = x[1080].split(\",\")\n",
        "len(y)"
      ]
    },
    {
      "cell_type": "code",
      "execution_count": null,
      "metadata": {
        "colab": {
          "base_uri": "https://localhost:8080/"
        },
        "id": "-CLFBCzqgytO",
        "outputId": "3b3f43b0-ebcf-4cd8-845a-f237fea009d1"
      },
      "outputs": [
        {
          "data": {
            "text/plain": [
              "['ويژه نامه فرهنگي و ديني سيره عملي و نظري با هدف گرامي داشت ايام سوگواري ابا عبدالله الحسين، امروز در دانشگاه تربيت معلم منتشر شد. به گزارش خبرگزاري دانشجويان ايران (ايسنا)، ويژه نامه فرهنگي و ديني سيره نظري و عملي با هدف تبيين، تبليغ و ترويج سيره نظري و عملي سالار شهيدان، آشنايي دانشجويان با فرهنگ عاشورا و معرفي مولفه و شاخصه\\u200cهاي مكتب امام حسين (ع) از سوي روابط عمومي و اداره فعاليت\\u200cهاي فوق برنامه جهاد دانشگاهي واحد تربيت معلم در اولين روز دهه اول ماه محرم در دانشگاه تربيت معلم منتشر شد. اين گزارش مي\\u200cافزايد: نشانه\\u200cهاي مومنان، پرهيز از ستمكاري، فلسفه قيام در مقابل ظلم، ملاكهاي رستگاري، نگاه به دنيا و مقوله مرگ، انواع مرگ، آثار معصيت الهي، اقسان عبادات، دنيا و اهل دنيا، اصلاحات،\\u200cامر به معروف و نهي از منكر، اقسام جهاد،\\u200cعناوين سخنان نوراني امام حسين (ع) است كه جهاد دانشگاهي واحد تربيت معلم در اولين روز دهه اول محرم امسال منتشر مي\\u200cكند. برگزاري دوره\\u200cهاي كارگاهي تجارت الكترونيك دوره\\u200cهاي كارگاهي تجارت الكترونيك از سوي معاونت آموزشي جهاد دانشگاهي واحد تربيت معلم برگزار مي\\u200cشود معاونت آموزشي جهاد دانشگاهي واحد تربيت معلم با هدف برگزاري دوره\\u200cهاي تخصصي و تلاش براي استفاده از جديدترين دستاوردهاي علمي جهان و ايجاد زمينه\\u200cهاي لازم براي اشتغال دانش آموختگان دانشگاهي و تلاش براي توانمند كردن حرفه\\u200cاي آنان و آشنايي با بازار كار و ارائه آموزشهاي مورد نياز جامعه اقدام به برگزاري دوره كارگاهي تجارت الكترونيك كرده است. اين گزارش مي\\u200cافزايد: «نحوه ايجاد پر تفوي online»، «آشنايي با خبرخوان خودكار rss»، «پرداختها و برداشتهاي اينترنتي»، «آشنايي با تجارت online در ايران»، «حوالجات الكترونيكي بانكداري نوين و ...»، «آشنايي كامل با سايتهاي ايراني براي هر گونه خريد online»، «خريد و فروش online سهام بورس اوراق بهادار ايران» از عمده ترين مباحث و سرفصلهاي اين دوره مي\\u200cباشند. بر اساس اين گزارش، مدت اين كارگاه 10 ساعت بوده و در پايان دوره به افراد شركت كننده گواهي نامه داده خواهد شد و متقاضيان محترم مي\\u200cتوانند براي ثبت نام و كسب اطلاعات بيشتر در ساعات اداري به نشاني تهران، خيابان\\u200cهاي طالقاني، بين بهار و شريعتي، پلاك 599، مركز آموزش جهاد دانشگاهي واحد تربيت معلم، مراجعه و يا با شماره تلفن\\u200cهاي 77600011 و 77529785 – 021 تماس حاصل نمايند. &nbsp; ارايه مقالات پژوهشگران جهادگر در سمينارهاي داخلي و خارجي سه مقاله از پژوهشگر جهاددانشگاهي واحد تربيت معلم تهران در كنفرانس ramat در هند بصورت سخنراني ارائه شد. به گزارش خبرگزاري دانشجويان ايران (ايسنا)، اين مقالات با عناوين 1 – comparison of attachment berween two baraacie cyprids (balanas amphitrie darwin',\n",
              " '1858 and b.improvisus darwin',\n",
              " ' 1854) to polystyre..e and glass substrata. 2 – larval settlement of the barnacle',\n",
              " ' bala…us improvisus darwin 1985',\n",
              " ' under different food concentration',\n",
              " ' light period',\n",
              " ' salinity and cyprid deasity. 3 – synthesis and prelimiaary stady on …tifouling activity of novel isocy… compound containing an ether group توسط &nbsp; علي نصرالهي،\\u200c عضو هيات علمي گروه پژوهشي بيولوژي دريا واحد تربيت معلم در كنفرانس ramat در هند به صورت سخنراني ارائه شد. همچنين يك مقاله از پژوهشگر جهاددانشگاهي واحد تربيت معلم تهران در سومين همايش gis در قشم بصورت سخنراني ارائه شد. اين مقاله با عنوان «مسير يابي هوشمند خطوط لوله انتقال آب با استفاده از gis و الگوريتم ژنتيك» توسط مهندس احمدرضا ابراهيمي پور، عضو هيات علمي مركز خدمات تخصصي سامانه\\u200cهاي اطلاعات جغرافيايي (gis) معاونت پژوهشي جهاد دانشگاهي واحد تربيت معلم در سومين همايش gis كشور ارائه شد. همچنين يك مقاله از پژوهشگر جهاددانشگاهي واحد تربيت معلم تهران در هفتمين همايش بين المللي مهندسي سواحل، بنادر و سازه\\u200cهاي دريايي به صورت سخنراني ارائه شد. اين مقاله با عنوان «اثر نوسان تراز آب بر سواحل خليج فارس از ديدگاه زيستي» توسط علي نصر اللهي، عضو هيات علمي گروه پژوهشي بيولوژي دريا معاونت پژوهشي جهاد دانشگاهي واحد تربيت معلم در هفتمين همايش بين المللي مهندسي سواحل، بنادر و سازه \\u200cهاي دريايي ارائه شد. &nbsp;',\n",
              " '\\n']"
            ]
          },
          "execution_count": 40,
          "metadata": {},
          "output_type": "execute_result"
        }
      ],
      "source": [
        "y"
      ]
    },
    {
      "cell_type": "markdown",
      "metadata": {
        "id": "vH-u8rNnTRpj"
      },
      "source": [
        "با این قطعه کد ماکسیمم تعداد ستون بدست می آید و سطر هایی که بیشتر از یک ستون دارند را استخراج می کنیم.\n"
      ]
    },
    {
      "cell_type": "code",
      "execution_count": null,
      "metadata": {
        "id": "giv-rCEQg4DN"
      },
      "outputs": [],
      "source": [
        "l =1\n",
        "idx = []\n",
        "for i in range(len(x)):\n",
        "  y = x[i].split(\",\")\n",
        "  if len(y) > l:\n",
        "    l = len(y)\n",
        "    idx.append(i)\n"
      ]
    },
    {
      "cell_type": "markdown",
      "metadata": {
        "id": "CNQ3O6LtTbH6"
      },
      "source": [
        "ماکسیمم تعداد ستون"
      ]
    },
    {
      "cell_type": "code",
      "execution_count": null,
      "metadata": {
        "colab": {
          "base_uri": "https://localhost:8080/"
        },
        "id": "T7FFcIO1hNPJ",
        "outputId": "979f4135-273d-4e0f-9966-7024cbf1fdad"
      },
      "outputs": [
        {
          "data": {
            "text/plain": [
              "41"
            ]
          },
          "execution_count": 43,
          "metadata": {},
          "output_type": "execute_result"
        }
      ],
      "source": [
        "l"
      ]
    },
    {
      "cell_type": "markdown",
      "metadata": {
        "id": "JGP3WqRzTdaH"
      },
      "source": [
        "سطرهایی که بیشتر از یک ستون دارند."
      ]
    },
    {
      "cell_type": "code",
      "execution_count": null,
      "metadata": {
        "colab": {
          "base_uri": "https://localhost:8080/"
        },
        "id": "u7hgMWYshRNa",
        "outputId": "2a7c51b0-6a28-49b5-831f-84a314bb90e0"
      },
      "outputs": [
        {
          "data": {
            "text/plain": [
              "[0, 1080, 32853, 38340, 41798]"
            ]
          },
          "execution_count": 45,
          "metadata": {},
          "output_type": "execute_result"
        }
      ],
      "source": [
        "idx"
      ]
    },
    {
      "cell_type": "code",
      "execution_count": null,
      "metadata": {
        "colab": {
          "base_uri": "https://localhost:8080/",
          "height": 52
        },
        "id": "jSCn2G8ghqXx",
        "outputId": "5af8a0b0-bf86-4a0f-8b85-d482aa004cd3"
      },
      "outputs": [
        {
          "data": {
            "application/vnd.google.colaboratory.intrinsic+json": {
              "type": "string"
            },
            "text/plain": [
              "'كمال خرازي در مراسم انتقال قدرت در كابل خطاب به دولتمردان جديد افغانستان: ,,,,,,,,,,,,,,,,,,,,,,,  ايران از حمايت شما دريغ نخواهد كرد  ,,,,,,,,,,,,,,,,,\\n'"
            ]
          },
          "execution_count": 46,
          "metadata": {},
          "output_type": "execute_result"
        }
      ],
      "source": [
        "x[41798]"
      ]
    },
    {
      "cell_type": "code",
      "execution_count": null,
      "metadata": {
        "colab": {
          "base_uri": "https://localhost:8080/",
          "height": 35
        },
        "id": "Ehvt_M62huIW",
        "outputId": "67ae3aa1-1d86-4b78-e0b1-ccc6d210d921"
      },
      "outputs": [
        {
          "data": {
            "application/vnd.google.colaboratory.intrinsic+json": {
              "type": "string"
            },
            "text/plain": [
              "'كمال خرازي در مراسم انتقال قدرت در كابل خطاب به دولتمردان جديد افغانستان: '"
            ]
          },
          "execution_count": 48,
          "metadata": {},
          "output_type": "execute_result"
        }
      ],
      "source": [
        "new_df.iloc[41798][0]"
      ]
    },
    {
      "cell_type": "code",
      "execution_count": null,
      "metadata": {
        "colab": {
          "base_uri": "https://localhost:8080/",
          "height": 52
        },
        "id": "aNoqcCBkh0f2",
        "outputId": "4bec366c-1d97-4ab2-9ac6-bf93c3d1de13"
      },
      "outputs": [
        {
          "data": {
            "application/vnd.google.colaboratory.intrinsic+json": {
              "type": "string"
            },
            "text/plain": [
              "'در همايش دانشجويي حمايت از انتفاضه\\u200cي مردم فلسطين دانشگاه امام صادق عنوان شد : ,,,,,,,,,,,,,, دشمن اصلي مردم فلسطين آمريكا است ,,,,,,,,,,,,,,,,,\\n'"
            ]
          },
          "execution_count": 49,
          "metadata": {},
          "output_type": "execute_result"
        }
      ],
      "source": [
        "x[38340]"
      ]
    },
    {
      "cell_type": "code",
      "execution_count": null,
      "metadata": {
        "colab": {
          "base_uri": "https://localhost:8080/",
          "height": 1000
        },
        "id": "4nagVQYVifiE",
        "outputId": "7f7fe53c-d658-49b3-d31f-b24d96df2bc9"
      },
      "outputs": [
        {
          "data": {
            "application/vnd.google.colaboratory.intrinsic+json": {
              "type": "string"
            },
            "text/plain": [
              "'دكترصادق طباطبايي در آستانه\\u200cي بيست\\u200cوهشتمين سالگرد ربوده شدن امام موسي صدر در گفت\\u200cوگو با خبرنگار سرويس تاريخ خبرگزاري دانشجويان ايران (ايسنا)، با جملات فوق سخنان خود را آغاز كرد و افزود:« درباره\\u200cي امام صدر مطالب زيادي گفته شده و باز هم گفته خواهد شد و هرسال هم باز با نزديك شدن به سالروز اختفاي ايشان مطالبي شنيده و گفته مي\\u200cشود.اما امسال به دليل پيروزي جانانه\\u200cي مقاومت اسلامي در لبنان در مقابل رژيم تا دندان مسلح و با تجهيزات كامل و فوق مدرن اسراييلي\\u200cها در يك شرايط ديگري نسبت به سالهاي گذشته به سر مي\\u200cبريم. پيروزي مقاومت لبنان بر ارتش اسراييل فصل جديدي را در تاريخ روابط سياسي منطقه باز كرده است.» خواهر زاده\\u200cي امام موسي صدر كه دهه 50 تا 70 ميلادي را دهه هاي \\u200c آرمانگرايي مي ناميد در توصيف فضاي فكري آن دوران اظهار داشت:«در دهه هاي سي و چهل شمسي، جهان ،جهان آرمانگرايي بود. ؛ در جهان اسلام ودرکشوري مثل لبنان دوران دوران آرمان گرايي است. انديشه مارکسيسم و ماترياليسم ديالکتيک بر جهان، سيطره فکري و سياسي و داعيه علمي بودن ومبارزه دارد. فضاي حاکم بر ذهن و احساس تحصيل کردگان , متاثر از پيروزيهاي پي در پي جنبش\\u200cهاي کمونيستي در سراسر نقاط جهان است. فکر و مکتب حاکم وغالب برسر و دل جوانان, تئوري هاي مارکس وانديشه\\u200cهاي لنين و پرچم بر افراشته مائوتسه تونگ و پيروزي هوشي مينه ودلآوري هاي چه گوارا و پيکار گري هاي فيدل کاسترو ومجاهدت هاي احمد بن بلا وخروش پر فروغ لومومبا ,در آسيا وآمريکاي لاتين و آفريقا ,عليه سلطه گري هاي امپرياليسم آمريکا است. دين ,به عنوان افيون توده ها و عامل بازدارنده و رخوت جمع و جماعت و وادادگي انسان ها در مقابل ستمگران تلقي مي شود. جامعه دانشگاهي به شدت ضد ديني و ضد مذهبي است.» وي ادامه داد:«از سوي ديگر بزرگترين متفکران ضد شيعي و بر جسته ترين علماي اهل سنت ,با آن داعيه هاي بلند پروازانه خود ,جو حاکم بر جماعت مسلمانان را شکل مي دهند.علماي بزرگ مسيحي و متکلمين برجسته عصر بيداري و نويسندگان پر آوازه و شعراي با نام و نشان فرقه\\u200cهاي مختلف مسيحيت نيز حضوري پر اقتدار دارند و همه اين صاحبان فکر و انديشه چه در عالم سياست و چه در وادي دين اعم از مارکسيست و مسيحي وسني يک وجه مشترک دارند و آن ضديت و مبارزه با فکر و عقيده و مرام و مذهب تشيع است.» طباطبايي با بيان اينكه در اين سال\\u200cها جنبش\\u200cهاي آزادي بخش در سراسر جهان نضج گرفته بوداز انقلاب الجزاير در سال 1962 برضد استعمار فرانسه و مائوتسه تونگ در چين به عنوان نمونه\\u200cهاي اين مساله نام برد و اضافه كرد :« در كشورهاي آمريكاي لاتين كه اصطلاحا به آن ها در آن زمان کشورهاي طوفاني گفته مي\\u200cشد يكي پس از ديگري جنبش\\u200cهاي انقلابي در مبارزه عليه سلطه\\u200cي امپرياليسم به پيروزي مي\\u200cرسيد. جنبش ويتنام و مبارزات مردم آن در مقابل آمريكا به پيروزي\\u200cهاي درخشاني نائل آمده بود. خاورميانه كانون تحولات جهاني شده بود؛ اما اين تحولات غالبا تحت لواي انديشه\\u200cي ماركسيسم جريان داشت.پيروزي مائوتسه تونگ در چين، فيدل كاسترو و چه گوارا در كوبا و جنوب شرقي آسيا، مبارزات جهادگران آزادي بخش در آمريكاي لاتين همه متاثر از انديشه\\u200cي كمونيسم بود. شور و حالي كه در سر و دل جوانان پديد آمده بود آنها را به طرف افكار و انديشه\\u200cهاي كمونيستي سوق داد واين شرايط كلي جهان بود.» وي در ادامه يادآور شد:« در ايران بعد از تحولات نسبي و اختناق پس از کوتاي سيا عليه دولت ملي دکتر مصدق ونيز تدارکات منجر به انقلاب سفيد كه با روي كار آمدن دكتر اميني شروع شد، آزادي\\u200cهاي نسبي هم به وجود آمده بود و فضا و تحولات سياسي در ايران مقداري جنبه\\u200cي بازتري به خود گرفت. مبارزات دانشجويان دانشگاه تهران جدي\\u200cتر شد؛ اما تحت تاثيرفضاي عاطفي متاثرازانديشه\\u200cي كمونيسم بود.»  طباطبايي همچنين به ويژگي\\u200cهاي كشور لبنان در آن زمان اشاره كرد وبا طايفه\\u200cاي خواندن آن اظهار داشت:«حكومت مركزي لبنان حكومتي ضعيف است درعين حال لبنان كشوري دموكراتيك است و براساس روش\\u200cهاي نوين دموكراتيك و انتخابات آزاد و رقابتي اداره مي\\u200cشود. اما فضاي فرهنگي لبنان فضايي است كه در آن بزرگ\\u200cترين متفكرين و انديشمندان و متكلمين مسيحي، نويسندگان و شاعران اهل تسنن حضور دارند و متفكرين ماركسيست نيز براي تبليغات خود آزادند. اين مجموعه\\u200c رنگارنگ و گاه متضاد ،يك وجه مشترك داشت و آن وجه ضد شيعي بودن آن بود.» طباطبايي توضيح داد:« درآن فضاي سياسي برخوردار از جو عاطفي آرمانگراي حاكم بر جهان ،ماركسيسم برروح، دل، فكر و انديشه\\u200cي جوانان غلبه داشت. درلبنان به دليل اكثريت بودن مسيحيان نسبت به مسلمان\\u200cها ، رياست جمهوري و بيشتر ارگان\\u200cهاي دولتي در اختيارآنها بود. مسلمانان را به دو دسته\\u200cي شيعه و سني تقسيم كرده بودند . با وجود اين\\u200cكه مسيحيان چندين فرقه\\u200cي مختلف بودند اما درمقام تقسيم قدرت در لبنان به عنوان جامعه\\u200cي مسيحي يكجا محسوب شده بودند. در تفكيك مسلمانان نيزچون سني\\u200cها اكثريت را داشتند نخست\\u200cوزيري و هيات دولت را به سني\\u200cها داده بودند و رياست مجلس را به نماينده\\u200cي شيعيان كه البته تقسيم\\u200cبندي كرسي هاي مجلس هم به تناسب همين اقليت ها و اكثريت\\u200cها بود. در اين مجموعه پيروان شيعه كه اقليت بودند در اوج محروميت زندگي مي\\u200cكردند.» خواهر زاده\\u200cي امام موسي صدر در ادامه\\u200cي توصيف وضعيت لبنان يادآور شد:« دو مركز عمده\\u200cي شيعيان جنوب لبنان و منطقه\\u200cي بقاع و بعلبك واغلب زارعيي بود كه عمدتا زير بمباران اسراييل بودند. دائما مزارع زيتون شان به دليل اين\\u200cكه اردوگاه فلسطيني\\u200cها در نزديكي محل استقرار شيعيان بود توسط هواپيماهاي اسراييلي بمباران مي\\u200cشد. شيعيان زندگي بسيار فقيرانه\\u200cاي داشتند. هويت فرهنگي شان دستخوش تغيير شده بود، آنها تحقير شده بودند.جوانان شيعي امكان رشد نداشتند، حتي برخي به سمت روسپي\\u200cگري و فروش مواد مخدر مي\\u200cرفتند. معدود افرادي هم كه به تحصيلات عاليه دست مي\\u200cيافتند ناچار بودند جيره\\u200cخوار فئودال\\u200cها و ماروني\\u200cها و نظام سرمايه\\u200cدار استثمارگر لبناني شوند.» طباطبايي تصريح كرد:« در چنين فضايي جوان طلبه\\u200cي 28-30 ساله\\u200cاي از قم به لبنان رفت و در مدت كمتر از 15 سال آن وضعيت را \\u200cچنان دگرگون \\u200cكرد كه شيعه تحقير شده\\u200cي فاقد هويت و از لحاظ اقتصادي عقب\\u200cمانده در لبنان به قدرت سياسي تعيين\\u200cكننده تبديل \\u200cشد و بزرگ\\u200cترين حامي فلسطينيان در لبنان و منطقه\\u200cي خاورميانه شد وتوانست حرف اول را بزند، و در جنگ رمضان (در سال \\u200c1973 )اسراييل عليه كشورهاي عربي و بعد در جنگ\\u200cهاي داخلي لبنان تعيين\\u200cكننده شد، حافظ وحدت لبنان قلمداد شد و حافظ جنوب لبنان در مقابل تهاجمات اسراييل . ميليشياي شيعه كه فرم مي\\u200cگيرد رفته رفته بزرگ\\u200cترين حامي فلسطينيان و مانع نفوذ اسراييل به جنوب لبنان محسوب مي\\u200cشود. اين تشكيلات زير نظر يك چنين شخصيت روحاني جوان به اين دستاورد نائل مي\\u200cشد و بعد از آن هم آن\\u200cچنان اين دستاوردها عميق و پرمايه شد كه امروز 28 سال پس از فقدان و يا اختفاي امام موسي صدر باز در سالگرد اختفاي ايشان مشاهده مي\\u200cكنيم از شمال تا جنوب لبنان تعطيل است و همه جا در اعتصاب هستند. همه جا عكس ايشان و پرچم لبنان با اين عبارت : \" امل المعذبين و صرخه مستمره في وجه الطغات\" \"آرزو و آمال ستمديدگان و خاري پيوسته و پايدار بر سيماي جباران و ستمگران\" به چشم مي خورد.» وي همچنين اضافه كرد :«امام صدر ويژگي\\u200cهايي داشت كه توانست در مقابل آن جريان فكري، اقتصادي و جريان قدرتمند ماركسيسم بايستد. نه تنها تلاش هاي برخاسته از وجه مشترك فكري جريانهاي مخالف ( مبارزه عليه انديشه\\u200cي تشيع ) در برنامه\\u200cهاي اين شخصيت جوان روحاني موثر واقع نشد ، بلكه آنها آن\\u200cچنان مسحور ومفتون سلوك ومنش امام صدر قرار مي\\u200cگيرند كه يكي از بزرگ\\u200cترين علماي مسيحي پس از يكي از سخنراني هاي امام صدر در دير المخلص ، يکي ازديرهاي مسيحيان، اعلام مي\\u200cكند كه معنويتي را كه امام صدر در اين دير فرو ريخته در تمام گذشته توسط ما روحانيون مسيحي ريخته نشده است و اسقف اعظم ديگري ( کاردينال فرانتس کونينگ اسقف اعظم وقت اطريشي در سال 1970 )پس از ديدار با رهبران مسيحي و سني و شيعي از جمله امام صدر به حاضرين مي گويد : \" تاريخ لبنان را بايد به دو دوره مجزا تقسيم کرد دوره پيش از امام موسي صدر و دوره امام موسي صدر \".» خواهر زاده\\u200cي امام موسي صدر يادآور شد:« در آن مقطع كارشکني هاي عمال جور وستم و ترفند هاي موذيانه آخوند هاي درباري و نفاق افکني هاي فئودال هاي شيعه و سمپاشي هاي وابستگان به سفارت شاهنشاهي وعناد ورزي هاي مشتي ورشکسته سياسي و دربدر وهجمه هاي تبليغاتي و رسانه اي مزدوران بعثي عراق وشبنامه ها و روزنامه هاي چپي هاي عقيدتي و جيره خواران دستگاههاي اطلاعاتي و امنيتي و جاسوسان ساواک و سيا و موساد , که با تمامي توشه و توان و انواع حيله ها ودسيسه ها و شايعه پراکني ها ,که عليه اين روحاني جوان علي الدوام به کار گرفته مي شود , هيچکدام کارساز و اثر گذار واقع نشد و سال\\u200cهاي 75 و 76 كه اوج جنگ\\u200cهاي داخلي لبنان است و به قول مجله\\u200cي اشپيگل \"هركسي به هركسي تيراندازي مي\\u200cكند اگر يك نفر قرار باشد مخرج مشترك همه\\u200cي اين گروه\\u200cها قرار گيرد كه رياست جمهوري لبنان را عهده\\u200cدار شود و بيانگر وجدان لبنان باشد آن شخص كسي جز سيد موسي صدر نيست\".» وي در ادامه جايگاه امام موسي صدر را در دانشگاههاي لبنان يادآور شد و با بيان اينكه در آن مقطع دانشجويان دانشگاههاي لبنان ,فوج فوج به دورش گرد مي آمدند ،افزود :« جوانان و دختران و پسران لبناني ,اعم از شيعه و سني و مسيحي ,تحت آموزش هاي ديني و اخلاقي و سياسي او قرار مي گرفتند . سازمان سياسي \" حرکت المحرومين \" با هدف فقرزدائي و استضعاف ستيزي و عدالت پروري و با مشارکت جوانان پر شور از همه فرقه ها و اديان وبه رهبري امام صدر ,اعلام موجوديت کرد.مدارس ، موسسات ، آموزشگاه ها ،درمانگاه\\u200cها ، انجمن هاي خيريه ،نهادهاي ديني ، فرهنگي ، سياسي ، خدماتي و بالاخره انستيتو تکنولوژي جبل عامل پاي گرفتند.امام صدر در جستجوي ياوري توانا، مسلمان ، متعهد ، متخصص ، انقلابي و هوشيار به دکتر مصطفي چمران بر مي خورد. اين معلم عارف ودانشمند الکترونيک شاغل در ناساي آمريکا و استاد دانشگاه برکلي به لبنان مي رود. او که بقول خودش تبلور مظلوميت چهارده قرني تشيع وعدالت علوي را در سيما و سينه امام صدر مي بيند از تمامي عناصر وجودي خويش و از تمامي ابعاد خلاق هنري و اجتماعي خود ,براي ايجاد و پرورش نسلي نو و انقلابي و متدين مايه مي گذارد . او هم بقول خودش \" مجذوب راه و رسم و سيره و سلوک وبردباري وعزتمداري امام صدر \" گشته و نجات ملت لبنان و جامعه ايران را از يوغ ستم و استبداد ,وجهه همت خود قرار مي دهد. درک رمز و چرائي اين حقيقت جز با شناخت ويژگي هاي شخصي و منحصر به فرد امام صدر ممکن نمي شود.» طباطبايي درتبيين وجوه شخصيتي امام موسي\\u200cصدر نيز يادآور شد:« ديدگاه امام موسي صدر نسبت به دين با ديدگاه عالمان سنتي به كلي متفاوت بود. امام صدر دين را راه و روشي براي زندگي اين جهان مي دانست نه راه و رسمي براي زندگي آن جهان.از نظر او دين آئيني براي زندگي سعادتمند، پربار توأم با لذت، رفاه وبهر\\u200cه مند از تمامي مواهب طبيعي در اين جهان است كه به عمل صالح مبتني بر ايمان، بيان مي\\u200cشود. مي گفت بايد با ايمان و مبتني بر عمل صالح زندگي اين جهاني تان را طوري سروسامان دهيد كه موفق باشيد در خدمت انسانها باشيد و از تمام مواهب و زيبايي هاي زندگي لذت ببريد.» وي اضافه كرد:«امام صدر معتقد بود بايد از تمام غرائز نهفته كه خداوند در وجود انسان به وديعه نهاده در چارچوب مقررات متعادل و دستورالعملهايي كه دين برايمان تعيين كرده است بهره\\u200cبرداري كامل کنيم و اگر ما توانستيم زندگي اين جهاني خود را سعادتمند، موفق، پربار در خدمت انسانها مبتني بر عمل صالح و ايمان تشكيل دهيم در آن صورت به اعتبار«الدنيا مزرعة الآخرة»مي\\u200cتوانيم مطمئن باشيم كه درزندگي اخروي و در جهان آخرت نيزسعادتمنديم .كساني كه در اين جهان زندگي نكبت\\u200cباري دارند، در خدمت انسانها نيستند واز اين مواهب بهره\\u200c ندارند، نبايد اميدوار باشند كه سعادت اخروي در انتظارشان باشد.اينها همه نتيجه و محصول تلاش انسان در زندگي اين جهاني اوست. وقتي شما هدفتان را خدمت به انسانها قرار مي\\u200cدهيد هر عملي كه انجام دهيد در ديدگاه امام صدر عبادت است. وي اين اندرزگونه\\u200c را بارها به من گفته بود که در خورد و خوراک و حتي ارضاي غريزه جنسي قصد قربت داشته باش ، چه اگر اين اعمال به قصد تأمين انرژي و ايجاد روحيه متعادل وشاداب در بدن باشد که به مدد آن بهتر بتواني درخدمت انسان ها قرار گيري ، بدون شک اين کارهاي تو در زمره عبادات خواهد بود و بي ترديد موجب تقرب و رضاي خداوند مي باشد. اين نوع نگرش ايشان به دين به عنوان دستورالعمل زندگي اين جهاني بود.» طباطبايي در ادامه\\u200cي گفت\\u200cوگو با خبرنگار ايسنا افزود:« اجتهادي كه امام صدر فقه خود را بر آن بنا نهاده بود، به شدت تابع مقتضيات زمان و مكان بود و از اين دو عنصر در برداشت\\u200cها و استنباط\\u200cهاي خود استفاده مي\\u200cكرد، اين همان نكته\\u200cاي است كه امام خميني (ره) در پيامهاي آخر عمرشان تأكيد كردند كه اجتهاد مصطلح حوزه ها ، امروز و در شرايط كنوني كفاف نمي\\u200cدهد، مصلحت جامعه حرف اول را مي\\u200cزند و بايد در اجتهاد دو عنصر زمان و مكان را دخالت داد. چه بسا با دخالت دادن آن و لحاظ كردن زمان و مكان حتي احكام مهم اسلام نيز شكل و مصاديق خود را نيزاز دست بدهد و حكم به چيز ديگري تبديل شود.» وي در توضيح اظهاراتش تصريح كرد:«زمانيكه امام خميني(رض) دخالت دو عنصر زمان و مكان در اجتهاد را مطرح كردند متاسفانه عمر امام(ره) كفاف نداد كه خودشان بيشتر مطالب را باز كنند و بر اين اساس فتاوايي بدهند.عده\\u200cاي گفتند اين حرف امام(ره) بحث تازه\\u200cاي نيست، اساسا فقه و اجتهاد شيعه بر اين اساس استوار بوده است، زمان و مكان هميشه در احكام اثر داشته است، مثلا اگر شخصي در تابستان قالب يخي به سرقت ببرد و در زمستان آنرا برگرداند آيا ارزش آن غالب يخ همان ارزشي است كه در زمستان داشته است؟ مسلما اينطور نيست، زمان كه عوض شد\\u200c، موضوع حكم هم عوض مي\\u200cشود.» وي ادامه داد:«در روزگار صدر اسلام شرايط اقتصادي و اقتصاد مبتني بر يك نوع تجارت و برده\\u200cداري خاص بوده است.در قرآن مي\\u200cخوانيم با باطل مبادله نكنيد،در همان چارچوب مي\\u200cبينيم كه خريد و فروش خون حرام است. چون باطل است، \\u200cپس حكم شرعي ، باطل و حرام بودن خريد و فروش خون مي\\u200cشود اما امروز آيا خون عنصر باطلي است؟ با خون مي\\u200cشود زندگي انسان ديگري را نجات داد پس امروز حكم عوض مي\\u200cشود و خريد و فروش خون آزاد و حلال مي\\u200cشود، در واقع تغيير زمان و اقتضا مبتني بر آن است كه حكمي را عوض ميكند.اين مسئله هميشه و از ابتدا در فقه بوده است كه اصطلاحا در فقه به آن حكم ثانوي مي\\u200cگفتند.» طباطبائي همچنين با اشاره به ساير مواردي كه با تغيير زمان و مكان، اصول فقهي نيز تغييرمي\\u200cكنند گفت:« حرف امام(ره) اين نبود، اين مسئله در گذشته هم بود، امام(ره) كه بر تعيين\\u200cكننده بودن مصلحت جامعه تاكيد كرده بود معتقد بود که اقتضاي جامعه و مصلحت آن حتي احكام اوليه را نيز مي\\u200cتواند دگرگون \\u200cكند. مثلا در مورد حج كه از واجبات است اگر شرايط سياسي در كشور به گونه اي حاكم شد كه رفتن حج خلاف مصلحت امت اسلامي و يا جامعه ايران بود، آن وجوب برداشته مي\\u200cشود. با تغيير مكان موضوع\\u200cها عوض مي\\u200cشود و البته تحولات اجتماعي و شرايط اجتماعي نيز بسيار بالاتر از اين مثال ها قرار دارد.كمتر مجتهدي را مي\\u200cبينيم كه اين جرأت را به خود بدهد كه در مقابل مردم – به قول خودشان عوام و به قول امام صدر عامه مردم - و سنت\\u200cگرايان كه بسيار به آداب و رسوم قبيله\\u200cاي پايبند هستند بتوانند حرف نو بزنند.آقاي صدر اين رشادت و شجاعت را داشت. در همين ارتباط به شدت از روحانيون گله مند بود و مي گفت هر پديده نويي که عارض و حادث مي شود، آن قدر در برابر آن جبهه مي گيريم تا آن که آن پديده خود را بر ما و بر فرهنگ ما تحميل مي کند. لذا هميشه از جهان و تحولات جهاني و نوآوري هاي صنعتي عقب هستيم. در حالي که مي توانيم با آرامش خاطر آن پديده و آن موضوع را به استخدام فرهنگ و عقيده خود در آوريم و همگام و بلکه جلوتر از زمان حرکت کنيم.» دكتر صادق طبابايي همچنين تاكيد كرد:«امام صدرمجتهد مورد قبول همه\\u200cي فقها و مراجع عصر خود بود و با ديد مدرن كه به جامعه\\u200cي آن روز لبنان و شناخت جهان داشت ، احكامي را كه صادر مي\\u200cكرد – در مقام يك زعيم ديني بود و در عين حال يك رهبر سياسي و كسي كه نسبت به طايفه\\u200cي شيعه و سياست لبنان گره گشائي مي کرد - حكم حكومتي تلقي مي\\u200cشد. برداشت ايشان متاثر از تاثير دو عنصر زمان و مكان در فقه بود.» وي با بيان اينكه « امام صدر به جهان كاملا آشنا بود،\\u200cبسيار مسافرت كرده بود،و\\u200c دنيا را مي\\u200cشناخت.»تاكيد كرد:«هگل مي\\u200cگويد\" خطرناك\\u200cترين جهان\\u200cبيني را كساني دارند كه جهان را نديده\\u200cاند\"، كسي كه از چهارگوشه\\u200cي خانه يا شهرش خارج نشده اگر درمقام بالايي قرار گيرد و يا اگرکسي که يك سفر خارج از كشور هم نكرده است،\\u200c اظهارنظرهايي نسبت به جهان مي\\u200cكند مي تواند بسيار خطرناک باشد. كسي كه دنيا و تحولاتش واوضاع فرهنگ\\u200cهاي مختلف را ديده است، اينها بي ترديد در بينش او اثر دارد.امام صدر تقريبا همه\\u200cي دنيا را مي\\u200cشناخت واهل مطالعه بود، فرهنگ\\u200cها را مطالعه كرده بود، با همه فرقه ها و بزرگان آن ها آمد و شد داشت ، اکثر بزرگان و رهبران دين و سياست و علوم و هنر را مي شناخت .علاوه بر تحصيلات حوزوي ، تحصيلات دانشگاهي نيز داشت، در لبنان نيز با تمام زعماي اقوام مختلف مراوده داشت، سلوكش به گونه\\u200cاي بود كه جذب مي\\u200cكرد و توانسته بود از آن مجموعه\\u200cي باز، نگرشي پيدا كند كه در مباني فقهي\\u200cاش اثر گذاشته بود.اجتهاد امام موسي\\u200cصدر در موضوع \\u200cشناسي بسيار روشن و واضح و قابل توجه بود.» طباطبائي افزود:«امام موسي صدر تلاش كرده بود كه با توده\\u200cهاي مردم ارتباط برقرار كند نه با واسطه و از طريق زمامداران. وقتي كه وارد لبنان شد در دو - سه سال اول تمام خانه\\u200cهاي شيعيان را ده به ده و روستا به روستا، تك تك سركشي و با خانواده\\u200cها گفتگو كرده بود، هيچ آماري آن زمان از آنها وجود نداشت. خود امام آمار را جمع\\u200cآوري كرده بود، همين ارتباط را با مسيحيان و بزرگان سني نيزبرقرار كرده بود او معتقد بود مي توان از لحاظ فقهي ميان مكاتب مختلف فقهي اسلام و فقه اهل تسنن و فقه شيعه وحدت فقهي برقرار كرد.يعني براساس وجوه مشترك وحدتي ايجاد كرد كه اين وحدت باعث \\u200cشود در كشوري مانند لبنان كه شيعه و سني در کنار هم هستند مثلا عيد فطر امروز براي سني\\u200cها نباشد و فردا براي شيعيان، اين بسيار براي جهان اسلام زيان\\u200cبار است.آنها بايد به يك نوع وحدت برسند در واقع ادامه دارالتقريبي كه مرحوم آيت\\u200cالله بروجردي با الازهر مصر مي\\u200cخواست و آغاز كرده بود امام صدر يك قدم جلوتر گذاشته بود ونه فقط به وحدت فقهي اهل تسنن و فقه شيعه مي\\u200cانديشيد، بلکه بر آن بود تا با پيروان راستين و بزرگان و اعاظم کليسا در لبنان به نوعي تعامل سازنده و مشترک و به نوعي زندگي مسالمت جويانه مهر آميز برسد. امام صدر از تحقق اين هدف و رسيدن به اين گام آخر، چندان فاصله نداشت که از صحنه ربوده شد.» وي در ادامه به نامه\\u200cاي كه امام موسي صدر به شيخ حسن خالد مفتي بزرگ لبنان نوشت و از او دعوت كرده بود كه بياييد و در لبنان اين مسئله اذان و نماز جمعه\\u200cاي را كه از راديو و تلويزيون پخش ميشود تجلي گاه وحدت قرار دهند تا نشانه هاي خصومت هاي ساخته استعمار کمرنگ و بلکه زائل شود اشاره كرد و خاطر نشان كرد:«در مرحله بعد هم گام ايشان براي تقريب بين اديان و مذاهب، نزديكي بين مسيحيان و حتي علماي يهود بود . ايشان در لبنان به گونه\\u200cاي عمل كرده بود كه علماي بزرگ مسيحي هم به همان اندازه شيفته و علاقمند به ايشان بودند كه مردم و جوانان اهل تشيع.» طباطبايي تصريح كرد:« سلوك بسيار باز و مردمي، خوش برخوردي ، روي باز ، مقاوم، گريزان از دگماتيسم و تحجر و جمود ، سعه صدر فوق\\u200cالعاده، گوش باز و دل باز براي شنيدن حرف مقابل از برجستگي\\u200cهاي شخصيتي امام موسي صدر بود ،به گفته خودش وقتي براي دانشجويان صحبت مي\\u200cكرد در مقدمه جلسه مي\\u200cگفت كه با زبان خود حرف مي\\u200cزنيم، با دلهاي خود مي\\u200cشنويم.درسالن را مي\\u200cبنديم، در دهانها را باز مي\\u200cكنيد، هرچه مي\\u200cخواهيد بگوييد من آمادگي شنيدن همه مطالب شما را دارم،\\u200c بنابراين اصلي كه امروز به عنوان ديالوگ وگفتگو بين فرهنگ\\u200cها مطرح شده و جا در جامعه جهاني باز مي\\u200cكند 35 سال پيش آقاي صدر در لبنان به اجرا در آورده بود.» وي افزود:«امام موسي صدربه همين دليل توانست وقتي كه مجلس اعلاي شيعيان را تاسيس كرد و به جامعه شيعي شأن و شخصيتي حقوقي بخشيد ، سازماني به نام حركت\\u200cالمحرومين تاسيس كند كه اين سازمان در بر گيرنده\\u200cي محرومين لبنان اعم از مسيحي، سني و شيعه باشد و چنان اين سازمان قدرت و رشد پيدا كرد كه پيروان هر سه دين بزرگ لبنان در آن حضور يافتند و امام صدر در راس آن قرار گرفت . البته اين مسائل بدون مقاومت دشمن نبود. سيا ، موصاد ، ساواك و علماي سنتي كه نان\\u200cشان آجر شده بود هركدام از سويي فشار مي آوردند. فشار فئودال\\u200cهاي شيعه كه با روي كار آمدن زارعين و قدرت گرفتن\\u200cشان در قالب مجلس اعلاي شيعيان تحت رهبري امام صدر از سويي و كارشكني\\u200cهاي مختلف و متنوع سفارت ايران نيز از سوي ديگر،قابل توجه بود. همچنين وجود معدودي ايراني كه از ايران فرار كرده و در لبنان ساکن بودند و بعضي\\u200cهاشان ادعاهايي جاه طلبانه داشتند که فكر مي\\u200cكردند وجود آقاي صدر باعث مي\\u200cشود كه مردم به آنها اقبال نشان ندهند و آلت دست سازمان\\u200cهاي مخالف و احيانا ساواك قرار گرفته بودند.مجموعه\\u200cي اينها و از طرفي ديگر احزاب سياسي نظير سازمان\\u200cهاي كمونيستي و وابستگان به بعث عراق كه منافع خود را در خطر مي\\u200cديدند فشار مي\\u200cآوردند.» خوارزاده\\u200cي امام موسي صدر يادآور شد:« حتي در درون جنبش آزادي\\u200cبخش فلسطين سازمان\\u200cهايي كه داراي افكار و عقايد و انديشه\\u200cي چپ بودند خيلي از مسئله سوء استفاده كردند و عليه آقاي صدر دست به فعاليت\\u200cهايي زده بودند و ديگران هم كه تحت عنوان اينكه فعاليت\\u200cهاي امام صدر عليه منافع فلسطيني\\u200cهاست و براي مقاومت فلسطين ارزش و اعتباري قائل نيست به اين كار دامن مي\\u200cزدند در حالي كه امام صدر در همان بيانيه\\u200cي حركت\\u200cالمحرومين اعلام كردند هدف ما وحدت\" محرومين في وطنهم و محرومين عن وطنهم\" است. محرومين في وطنهم ، محرومين و مستضعفين لبنان\\u200cاند و محرومين عن وطنهم ، هم همان فلسطينياني هستند كه از سرزمين خود محروم شده\\u200cاند و به لبنان پناه آورده\\u200cاند.» وي افزود:«زمانيكه مجموعه\\u200cي فلسطينياني كه در لبنان بودند به خصوص پس از جنگ 67 ديدند با وجود سران عرب نمي\\u200cتوانند آرزوي بازگشت به سرزمين\\u200cشان را داشته باشند به توصيه\\u200cي آقاي صدر خودشان تشكيل سازمان فلسطيني دادند . درجشن دهمين سالگرد تأسيس سازمان آزاديبخش فلسطين که در سال 1976 در موسسه و انستيتو تکنولوژي جبل عامل به رياست دکتر چمران برگزار شد و من نيز حضور داشتم ابو زعيم ، معاون و مشاور ارشد ياسر عرفات به اين حقيقت اعتراف کرد . در واقع با جنگ شش روزه براي فلسطينيان روشن شد كه از نمد سران كشورهاي عرب كلاهي نصيب آنها نمي\\u200cشود. اين بود كه فلسطينيان سازمان\\u200cهاي آزادي\\u200cبخش فلسطين را تاسيس كردند كه البته بزرگ\\u200cترين و قدرتمندترينش الفتح بود كه ياسر عرفات به عنوان جوان مسلمان و يك چريك انقلابي آن موقع، رهبري\\u200c آن را برعهده داشت. همان موقع آقاي صدر به صراحت اعلام كرد كه معامله و تعامل با اسرائيل حرام است و رژيم حاکم بر اسرائيل شر مطلق و غده\\u200cي سرطاني در منطقه است و ما و فلسطينيان در خندق واحدي عليه اسرائيل مي\\u200cجنگيم. انقلاب فلسطين شعله\\u200cي مقدسي است كه در قلب ما مي درخشد. جايگاهي كه نسبت به انقلاب فلسطين گرفتند باعث شد كه مجموعه\\u200cي سازمان\\u200cهاي فلسطيني مخلص هم اطراف آقاي صدر را بگيرند.»  طباطيايي گفت:«امام موسي صدر در جايگاهي كه بسيار والا بود قرار داشت و در عين حال که خوش\\u200cمشرب، خوش\\u200cذوق بود ، در زندگي شخصي\\u200cاش در اوج ساده\\u200cزيستي بود. مجالسي كه اقوام مختلف لبنان داشتند بسيار پر تجمل بود. مجلس اعلاي شيعيان هم كه تشكيل شد وقتي وارد مي\\u200cشديم ساختمان مجللي داشت. به طبقه\\u200cي چهارم و پنجم كه مي\\u200cرفتيم كه در آنجا محل زندگي خصوصي خانواده آقاي صدر بود، در مجموعه\\u200cي واحد مسكوني چند صد متري آقاي صدر فقط دو قالي آنهم ماشيني مي\\u200cديديم، بقيه هر چه بود زيلو بود. يك ميز غذاخوري دوازده نفر هديه آورده بودند ايشان آن را به پايين براي سالن غذاخوري مجلسيان فرستاد و در مقام استدلال به خانمش گفت\" اين ميز با اين کيفيت و اين صندلي ها ، نياز به يک لوستر و آباژور دارد. وقتي آن ها را تهيه کرديد بايد براي بوفه هاي کنار و فرش هاي زير آن هم اقدام کنيد. آنگاه با اين دکوراسيون بايد مبل و ميز و فرش و آباژور و لوستر و ... سالن نشيمن را هم همآهنگ سازيد، در غير اين صورت اين ميز ، وصله ناجوري بر اثاثيه ما است و در عين حال اسراف هم هست. اگر وارد اين مرحله شديم ديگر حدي براي آن نمي توان تصور کرد. لذا همين زندگي كه داريم كفايت مي\\u200cكند\".»  وي ادامه داد: «زماني كه امام موسي صدر مثلا به دعوت دولت آلمان به اروپا مي\\u200cآمد ، مجلل\\u200cترين هتل در بن ، محل اقامتشان بود، \\u200cساعت 8 شب پس از پايان برنامه رسمي شان ، من با فولكس واگن دانشجويي خود، ايشان را از هتل سوار مي\\u200cكردم ، به آخن در منزل ما مي\\u200cآمدند و در اتاق دانشجويي 16 متري من و همسرم كه سفره \\u200cمان روزنامه بود به سر مي بردند.گاهي هم شبها بحث و گفتگوها يي با اعضاي انجمن اسلامي ترتيب مي داديم .در تمام طول فعاليتشان ، وقتي با هواپيما به جايي در كشور ديگر سفر مي\\u200cكردند جزء دو نفر همراه، شخص ديگري را با خود نمي\\u200cبردند تازه آن هم با بليط هاي درجه 2، شما اين سلوک ايشان را امروز با برخي افراد ديگر مقايسه كنيد!» وي افزود:«خوي ساده\\u200cزيستي ايشان، ايشان را بسيار به لحاظ روحي و عاطفي به مردم نزديك كرده بود و هم مردم درايشان صداقت لازم را در زندگي، عمل وگفتار ايشان مي\\u200cديدند.ويژگي ديگر شخصيتي ايشان افق باز سياسي و تسلطي كه ايشان به سياست جهاني داشتند، بود، در ديدگاه امام موسي صدر قاطعيت در استراتژي و انعطاف در تاكتيك بسيار بارز بودا.يشان قاطعيت را با لجبازي اشتباه نمي\\u200cكردند. و با مشخص بودن و مقيد بودن به هدف نزديكيترين راه را براي رسيدن به هدف انتخاب مي\\u200cكرد. نزديكترين راه البته الزاما\" آسان\\u200cترين راه نيست.» ادامه دارد....,\\n'"
            ]
          },
          "execution_count": 50,
          "metadata": {},
          "output_type": "execute_result"
        }
      ],
      "source": [
        "x[32853]"
      ]
    },
    {
      "cell_type": "code",
      "execution_count": null,
      "metadata": {
        "colab": {
          "base_uri": "https://localhost:8080/",
          "height": 35
        },
        "id": "gWNbdXcTilP2",
        "outputId": "2e4525d6-e7e5-4fb0-d3b0-a63614f57715"
      },
      "outputs": [
        {
          "data": {
            "application/vnd.google.colaboratory.intrinsic+json": {
              "type": "string"
            },
            "text/plain": [
              "'\\ufeff843656,\\n'"
            ]
          },
          "execution_count": 51,
          "metadata": {},
          "output_type": "execute_result"
        }
      ],
      "source": [
        "x[0]"
      ]
    },
    {
      "cell_type": "markdown",
      "metadata": {
        "id": "Q0zosedATiOD"
      },
      "source": [
        "اما ما این سطرها را درست نکردیم.\n",
        "\n",
        "\n",
        "- [ ]  درست کردن سطرهای خراب "
      ]
    },
    {
      "cell_type": "markdown",
      "metadata": {
        "id": "s2eNLFxtSUWt"
      },
      "source": [
        "سپس در داده ی مرتب شده اطلاعات ستون ها را در لیست مربوط به خودش قرار می دهیم تا یک دیتافریم جدید که شامل ۷ ستون است را تشکیل دهیم."
      ]
    },
    {
      "cell_type": "code",
      "execution_count": null,
      "metadata": {
        "id": "831caYXZmVbv"
      },
      "outputs": [],
      "source": [
        "new_id, title, body, date, time, category, category2 = [], [], [], [], [], [], []\n",
        "for i in range(new_df.shape[0]):\n",
        "  if i%7==0:\n",
        "    new_id.append(new_df.iloc[i][0])\n",
        "  elif i%7 == 1:\n",
        "    title.append(new_df.iloc[i][0])  \n",
        "  elif i%7 == 2:\n",
        "    body.append(new_df.iloc[i][0])  \n",
        "  elif i%7 == 3:\n",
        "    date.append(new_df.iloc[i][0])     \n",
        "  elif i%7 == 4:\n",
        "    time.append(new_df.iloc[i][0])  \n",
        "  elif i%7 == 5:\n",
        "    category.append(new_df.iloc[i][0])      \n",
        "  elif i%7 == 6:\n",
        "    category2.append(new_df.iloc[i][0])        "
      ]
    },
    {
      "cell_type": "code",
      "execution_count": null,
      "metadata": {
        "colab": {
          "base_uri": "https://localhost:8080/"
        },
        "id": "xd-L1Qf8nqk_",
        "outputId": "1ba0019f-468b-47df-9908-2ce1abf6f626"
      },
      "outputs": [
        {
          "data": {
            "text/plain": [
              "10999"
            ]
          },
          "execution_count": 56,
          "metadata": {},
          "output_type": "execute_result"
        }
      ],
      "source": [
        "len(category)"
      ]
    },
    {
      "cell_type": "code",
      "execution_count": null,
      "metadata": {
        "id": "pAjY2c8ilN_H"
      },
      "outputs": [],
      "source": [
        "data = {'NewID': new_id, 'Title': title, 'Body':body, 'Date':date, 'Time':time, 'Category':category, 'Category2':category2}\n",
        "df = pd.DataFrame(data)"
      ]
    },
    {
      "cell_type": "code",
      "execution_count": null,
      "metadata": {
        "colab": {
          "base_uri": "https://localhost:8080/"
        },
        "id": "X6F7GjVjoY-r",
        "outputId": "f37e28f3-30a2-44d4-e4fd-76574ce2be4c"
      },
      "outputs": [
        {
          "data": {
            "text/plain": [
              "(10999, 7)"
            ]
          },
          "execution_count": 62,
          "metadata": {},
          "output_type": "execute_result"
        }
      ],
      "source": [
        "df.shape"
      ]
    },
    {
      "cell_type": "code",
      "execution_count": null,
      "metadata": {
        "colab": {
          "base_uri": "https://localhost:8080/",
          "height": 337
        },
        "id": "gFvi9CcZoagV",
        "outputId": "1ed94515-e376-4c37-d7a6-adfb721b5718"
      },
      "outputs": [
        {
          "data": {
            "text/html": [
              "\n",
              "  <div id=\"df-5506249c-55f5-4f76-9d32-6ef18aa19c07\">\n",
              "    <div class=\"colab-df-container\">\n",
              "      <div>\n",
              "<style scoped>\n",
              "    .dataframe tbody tr th:only-of-type {\n",
              "        vertical-align: middle;\n",
              "    }\n",
              "\n",
              "    .dataframe tbody tr th {\n",
              "        vertical-align: top;\n",
              "    }\n",
              "\n",
              "    .dataframe thead th {\n",
              "        text-align: right;\n",
              "    }\n",
              "</style>\n",
              "<table border=\"1\" class=\"dataframe\">\n",
              "  <thead>\n",
              "    <tr style=\"text-align: right;\">\n",
              "      <th></th>\n",
              "      <th>NewID</th>\n",
              "      <th>Title</th>\n",
              "      <th>Body</th>\n",
              "      <th>Date</th>\n",
              "      <th>Time</th>\n",
              "      <th>Category</th>\n",
              "      <th>Category2</th>\n",
              "    </tr>\n",
              "  </thead>\n",
              "  <tbody>\n",
              "    <tr>\n",
              "      <th>0</th>\n",
              "      <td>843656</td>\n",
              "      <td>وزير علوم درجمع استادان نمونه: سن بازنشستگي اس...</td>\n",
              "      <td>وزير علوم در جمع استادان نمونه كشور گفت: از اس...</td>\n",
              "      <td>138/5//09</td>\n",
              "      <td>0:9::18</td>\n",
              "      <td>آموزشي-</td>\n",
              "      <td>آموزشي</td>\n",
              "    </tr>\n",
              "    <tr>\n",
              "      <th>1</th>\n",
              "      <td>837144</td>\n",
              "      <td>گردهمايي دانش‌آموختگان موسسه آموزش عالي سوره ب...</td>\n",
              "      <td>به گزارش سرويس صنفي آموزشي خبرگزاري دانشجويان ...</td>\n",
              "      <td>138/5//09</td>\n",
              "      <td>1:4::11</td>\n",
              "      <td>آموزشي-</td>\n",
              "      <td>آموزشي</td>\n",
              "    </tr>\n",
              "    <tr>\n",
              "      <th>2</th>\n",
              "      <td>436862</td>\n",
              "      <td>نتايج آزمون دوره‌هاي فراگير دانشگاه پيام‌نور ا...</td>\n",
              "      <td>نتايج آزمون دوره‌هاي فراگير مقاطع كارشناسي و ك...</td>\n",
              "      <td>138/3//07</td>\n",
              "      <td>1:0::03</td>\n",
              "      <td>آموزشي-</td>\n",
              "      <td>آموزشي</td>\n",
              "    </tr>\n",
              "    <tr>\n",
              "      <th>3</th>\n",
              "      <td>227781</td>\n",
              "      <td>همايش يكروزه آسيب شناسي مفهوم روابط عمومي در ب...</td>\n",
              "      <td>0</td>\n",
              "      <td>138/2//02</td>\n",
              "      <td>1:3::42</td>\n",
              "      <td>اجتماعي-خانواده-</td>\n",
              "      <td>اجتماعي</td>\n",
              "    </tr>\n",
              "    <tr>\n",
              "      <th>4</th>\n",
              "      <td>174187</td>\n",
              "      <td>وضعيت اقتصادي و ميزان تحصيلات والدين از مهمتري...</td>\n",
              "      <td>محمدتقي علوي يزدي، مجري اين طرح پژوهشي در اين‌...</td>\n",
              "      <td>138/1//08</td>\n",
              "      <td>1:1::49</td>\n",
              "      <td>آموزشي-</td>\n",
              "      <td>آموزشي</td>\n",
              "    </tr>\n",
              "  </tbody>\n",
              "</table>\n",
              "</div>\n",
              "      <button class=\"colab-df-convert\" onclick=\"convertToInteractive('df-5506249c-55f5-4f76-9d32-6ef18aa19c07')\"\n",
              "              title=\"Convert this dataframe to an interactive table.\"\n",
              "              style=\"display:none;\">\n",
              "        \n",
              "  <svg xmlns=\"http://www.w3.org/2000/svg\" height=\"24px\"viewBox=\"0 0 24 24\"\n",
              "       width=\"24px\">\n",
              "    <path d=\"M0 0h24v24H0V0z\" fill=\"none\"/>\n",
              "    <path d=\"M18.56 5.44l.94 2.06.94-2.06 2.06-.94-2.06-.94-.94-2.06-.94 2.06-2.06.94zm-11 1L8.5 8.5l.94-2.06 2.06-.94-2.06-.94L8.5 2.5l-.94 2.06-2.06.94zm10 10l.94 2.06.94-2.06 2.06-.94-2.06-.94-.94-2.06-.94 2.06-2.06.94z\"/><path d=\"M17.41 7.96l-1.37-1.37c-.4-.4-.92-.59-1.43-.59-.52 0-1.04.2-1.43.59L10.3 9.45l-7.72 7.72c-.78.78-.78 2.05 0 2.83L4 21.41c.39.39.9.59 1.41.59.51 0 1.02-.2 1.41-.59l7.78-7.78 2.81-2.81c.8-.78.8-2.07 0-2.86zM5.41 20L4 18.59l7.72-7.72 1.47 1.35L5.41 20z\"/>\n",
              "  </svg>\n",
              "      </button>\n",
              "      \n",
              "  <style>\n",
              "    .colab-df-container {\n",
              "      display:flex;\n",
              "      flex-wrap:wrap;\n",
              "      gap: 12px;\n",
              "    }\n",
              "\n",
              "    .colab-df-convert {\n",
              "      background-color: #E8F0FE;\n",
              "      border: none;\n",
              "      border-radius: 50%;\n",
              "      cursor: pointer;\n",
              "      display: none;\n",
              "      fill: #1967D2;\n",
              "      height: 32px;\n",
              "      padding: 0 0 0 0;\n",
              "      width: 32px;\n",
              "    }\n",
              "\n",
              "    .colab-df-convert:hover {\n",
              "      background-color: #E2EBFA;\n",
              "      box-shadow: 0px 1px 2px rgba(60, 64, 67, 0.3), 0px 1px 3px 1px rgba(60, 64, 67, 0.15);\n",
              "      fill: #174EA6;\n",
              "    }\n",
              "\n",
              "    [theme=dark] .colab-df-convert {\n",
              "      background-color: #3B4455;\n",
              "      fill: #D2E3FC;\n",
              "    }\n",
              "\n",
              "    [theme=dark] .colab-df-convert:hover {\n",
              "      background-color: #434B5C;\n",
              "      box-shadow: 0px 1px 3px 1px rgba(0, 0, 0, 0.15);\n",
              "      filter: drop-shadow(0px 1px 2px rgba(0, 0, 0, 0.3));\n",
              "      fill: #FFFFFF;\n",
              "    }\n",
              "  </style>\n",
              "\n",
              "      <script>\n",
              "        const buttonEl =\n",
              "          document.querySelector('#df-5506249c-55f5-4f76-9d32-6ef18aa19c07 button.colab-df-convert');\n",
              "        buttonEl.style.display =\n",
              "          google.colab.kernel.accessAllowed ? 'block' : 'none';\n",
              "\n",
              "        async function convertToInteractive(key) {\n",
              "          const element = document.querySelector('#df-5506249c-55f5-4f76-9d32-6ef18aa19c07');\n",
              "          const dataTable =\n",
              "            await google.colab.kernel.invokeFunction('convertToInteractive',\n",
              "                                                     [key], {});\n",
              "          if (!dataTable) return;\n",
              "\n",
              "          const docLinkHtml = 'Like what you see? Visit the ' +\n",
              "            '<a target=\"_blank\" href=https://colab.research.google.com/notebooks/data_table.ipynb>data table notebook</a>'\n",
              "            + ' to learn more about interactive tables.';\n",
              "          element.innerHTML = '';\n",
              "          dataTable['output_type'] = 'display_data';\n",
              "          await google.colab.output.renderOutput(dataTable, element);\n",
              "          const docLink = document.createElement('div');\n",
              "          docLink.innerHTML = docLinkHtml;\n",
              "          element.appendChild(docLink);\n",
              "        }\n",
              "      </script>\n",
              "    </div>\n",
              "  </div>\n",
              "  "
            ],
            "text/plain": [
              "    NewID                                              Title  \\\n",
              "0  843656  وزير علوم درجمع استادان نمونه: سن بازنشستگي اس...   \n",
              "1  837144  گردهمايي دانش‌آموختگان موسسه آموزش عالي سوره ب...   \n",
              "2  436862  نتايج آزمون دوره‌هاي فراگير دانشگاه پيام‌نور ا...   \n",
              "3  227781  همايش يكروزه آسيب شناسي مفهوم روابط عمومي در ب...   \n",
              "4  174187  وضعيت اقتصادي و ميزان تحصيلات والدين از مهمتري...   \n",
              "\n",
              "                                                Body       Date     Time  \\\n",
              "0  وزير علوم در جمع استادان نمونه كشور گفت: از اس...  138/5//09  0:9::18   \n",
              "1  به گزارش سرويس صنفي آموزشي خبرگزاري دانشجويان ...  138/5//09  1:4::11   \n",
              "2  نتايج آزمون دوره‌هاي فراگير مقاطع كارشناسي و ك...  138/3//07  1:0::03   \n",
              "3                                                  0  138/2//02  1:3::42   \n",
              "4  محمدتقي علوي يزدي، مجري اين طرح پژوهشي در اين‌...  138/1//08  1:1::49   \n",
              "\n",
              "           Category Category2  \n",
              "0           آموزشي-    آموزشي  \n",
              "1           آموزشي-    آموزشي  \n",
              "2           آموزشي-    آموزشي  \n",
              "3  اجتماعي-خانواده-   اجتماعي  \n",
              "4           آموزشي-    آموزشي  "
            ]
          },
          "execution_count": 63,
          "metadata": {},
          "output_type": "execute_result"
        }
      ],
      "source": [
        "df.head()"
      ]
    },
    {
      "cell_type": "code",
      "execution_count": null,
      "metadata": {
        "id": "T-pPH5CyohgS"
      },
      "outputs": [],
      "source": [
        "# df.to_csv('/content/drive/MyDrive/NLP/HW4/persica_edited.csv', index=False)"
      ]
    },
    {
      "cell_type": "code",
      "execution_count": null,
      "metadata": {
        "colab": {
          "base_uri": "https://localhost:8080/",
          "height": 337
        },
        "id": "3FXqcQHuXJJg",
        "outputId": "b27717d8-ad71-4457-ce80-c7c902eb9222"
      },
      "outputs": [
        {
          "data": {
            "text/html": [
              "\n",
              "  <div id=\"df-b5b5ce2b-d82b-4a78-9015-5136cf852fc4\">\n",
              "    <div class=\"colab-df-container\">\n",
              "      <div>\n",
              "<style scoped>\n",
              "    .dataframe tbody tr th:only-of-type {\n",
              "        vertical-align: middle;\n",
              "    }\n",
              "\n",
              "    .dataframe tbody tr th {\n",
              "        vertical-align: top;\n",
              "    }\n",
              "\n",
              "    .dataframe thead th {\n",
              "        text-align: right;\n",
              "    }\n",
              "</style>\n",
              "<table border=\"1\" class=\"dataframe\">\n",
              "  <thead>\n",
              "    <tr style=\"text-align: right;\">\n",
              "      <th></th>\n",
              "      <th>NewID</th>\n",
              "      <th>Title</th>\n",
              "      <th>Body</th>\n",
              "      <th>Date</th>\n",
              "      <th>Time</th>\n",
              "      <th>Category</th>\n",
              "      <th>Category2</th>\n",
              "    </tr>\n",
              "  </thead>\n",
              "  <tbody>\n",
              "    <tr>\n",
              "      <th>0</th>\n",
              "      <td>843656</td>\n",
              "      <td>وزير علوم درجمع استادان نمونه: سن بازنشستگي اس...</td>\n",
              "      <td>وزير علوم در جمع استادان نمونه كشور گفت: از اس...</td>\n",
              "      <td>138/5//09</td>\n",
              "      <td>0:9::18</td>\n",
              "      <td>آموزشي-</td>\n",
              "      <td>آموزشي</td>\n",
              "    </tr>\n",
              "    <tr>\n",
              "      <th>1</th>\n",
              "      <td>837144</td>\n",
              "      <td>گردهمايي دانش‌آموختگان موسسه آموزش عالي سوره ب...</td>\n",
              "      <td>به گزارش سرويس صنفي آموزشي خبرگزاري دانشجويان ...</td>\n",
              "      <td>138/5//09</td>\n",
              "      <td>1:4::11</td>\n",
              "      <td>آموزشي-</td>\n",
              "      <td>آموزشي</td>\n",
              "    </tr>\n",
              "    <tr>\n",
              "      <th>2</th>\n",
              "      <td>436862</td>\n",
              "      <td>نتايج آزمون دوره‌هاي فراگير دانشگاه پيام‌نور ا...</td>\n",
              "      <td>نتايج آزمون دوره‌هاي فراگير مقاطع كارشناسي و ك...</td>\n",
              "      <td>138/3//07</td>\n",
              "      <td>1:0::03</td>\n",
              "      <td>آموزشي-</td>\n",
              "      <td>آموزشي</td>\n",
              "    </tr>\n",
              "    <tr>\n",
              "      <th>3</th>\n",
              "      <td>227781</td>\n",
              "      <td>همايش يكروزه آسيب شناسي مفهوم روابط عمومي در ب...</td>\n",
              "      <td>0</td>\n",
              "      <td>138/2//02</td>\n",
              "      <td>1:3::42</td>\n",
              "      <td>اجتماعي-خانواده-</td>\n",
              "      <td>اجتماعي</td>\n",
              "    </tr>\n",
              "    <tr>\n",
              "      <th>4</th>\n",
              "      <td>174187</td>\n",
              "      <td>وضعيت اقتصادي و ميزان تحصيلات والدين از مهمتري...</td>\n",
              "      <td>محمدتقي علوي يزدي، مجري اين طرح پژوهشي در اين‌...</td>\n",
              "      <td>138/1//08</td>\n",
              "      <td>1:1::49</td>\n",
              "      <td>آموزشي-</td>\n",
              "      <td>آموزشي</td>\n",
              "    </tr>\n",
              "  </tbody>\n",
              "</table>\n",
              "</div>\n",
              "      <button class=\"colab-df-convert\" onclick=\"convertToInteractive('df-b5b5ce2b-d82b-4a78-9015-5136cf852fc4')\"\n",
              "              title=\"Convert this dataframe to an interactive table.\"\n",
              "              style=\"display:none;\">\n",
              "        \n",
              "  <svg xmlns=\"http://www.w3.org/2000/svg\" height=\"24px\"viewBox=\"0 0 24 24\"\n",
              "       width=\"24px\">\n",
              "    <path d=\"M0 0h24v24H0V0z\" fill=\"none\"/>\n",
              "    <path d=\"M18.56 5.44l.94 2.06.94-2.06 2.06-.94-2.06-.94-.94-2.06-.94 2.06-2.06.94zm-11 1L8.5 8.5l.94-2.06 2.06-.94-2.06-.94L8.5 2.5l-.94 2.06-2.06.94zm10 10l.94 2.06.94-2.06 2.06-.94-2.06-.94-.94-2.06-.94 2.06-2.06.94z\"/><path d=\"M17.41 7.96l-1.37-1.37c-.4-.4-.92-.59-1.43-.59-.52 0-1.04.2-1.43.59L10.3 9.45l-7.72 7.72c-.78.78-.78 2.05 0 2.83L4 21.41c.39.39.9.59 1.41.59.51 0 1.02-.2 1.41-.59l7.78-7.78 2.81-2.81c.8-.78.8-2.07 0-2.86zM5.41 20L4 18.59l7.72-7.72 1.47 1.35L5.41 20z\"/>\n",
              "  </svg>\n",
              "      </button>\n",
              "      \n",
              "  <style>\n",
              "    .colab-df-container {\n",
              "      display:flex;\n",
              "      flex-wrap:wrap;\n",
              "      gap: 12px;\n",
              "    }\n",
              "\n",
              "    .colab-df-convert {\n",
              "      background-color: #E8F0FE;\n",
              "      border: none;\n",
              "      border-radius: 50%;\n",
              "      cursor: pointer;\n",
              "      display: none;\n",
              "      fill: #1967D2;\n",
              "      height: 32px;\n",
              "      padding: 0 0 0 0;\n",
              "      width: 32px;\n",
              "    }\n",
              "\n",
              "    .colab-df-convert:hover {\n",
              "      background-color: #E2EBFA;\n",
              "      box-shadow: 0px 1px 2px rgba(60, 64, 67, 0.3), 0px 1px 3px 1px rgba(60, 64, 67, 0.15);\n",
              "      fill: #174EA6;\n",
              "    }\n",
              "\n",
              "    [theme=dark] .colab-df-convert {\n",
              "      background-color: #3B4455;\n",
              "      fill: #D2E3FC;\n",
              "    }\n",
              "\n",
              "    [theme=dark] .colab-df-convert:hover {\n",
              "      background-color: #434B5C;\n",
              "      box-shadow: 0px 1px 3px 1px rgba(0, 0, 0, 0.15);\n",
              "      filter: drop-shadow(0px 1px 2px rgba(0, 0, 0, 0.3));\n",
              "      fill: #FFFFFF;\n",
              "    }\n",
              "  </style>\n",
              "\n",
              "      <script>\n",
              "        const buttonEl =\n",
              "          document.querySelector('#df-b5b5ce2b-d82b-4a78-9015-5136cf852fc4 button.colab-df-convert');\n",
              "        buttonEl.style.display =\n",
              "          google.colab.kernel.accessAllowed ? 'block' : 'none';\n",
              "\n",
              "        async function convertToInteractive(key) {\n",
              "          const element = document.querySelector('#df-b5b5ce2b-d82b-4a78-9015-5136cf852fc4');\n",
              "          const dataTable =\n",
              "            await google.colab.kernel.invokeFunction('convertToInteractive',\n",
              "                                                     [key], {});\n",
              "          if (!dataTable) return;\n",
              "\n",
              "          const docLinkHtml = 'Like what you see? Visit the ' +\n",
              "            '<a target=\"_blank\" href=https://colab.research.google.com/notebooks/data_table.ipynb>data table notebook</a>'\n",
              "            + ' to learn more about interactive tables.';\n",
              "          element.innerHTML = '';\n",
              "          dataTable['output_type'] = 'display_data';\n",
              "          await google.colab.output.renderOutput(dataTable, element);\n",
              "          const docLink = document.createElement('div');\n",
              "          docLink.innerHTML = docLinkHtml;\n",
              "          element.appendChild(docLink);\n",
              "        }\n",
              "      </script>\n",
              "    </div>\n",
              "  </div>\n",
              "  "
            ],
            "text/plain": [
              "    NewID                                              Title  \\\n",
              "0  843656  وزير علوم درجمع استادان نمونه: سن بازنشستگي اس...   \n",
              "1  837144  گردهمايي دانش‌آموختگان موسسه آموزش عالي سوره ب...   \n",
              "2  436862  نتايج آزمون دوره‌هاي فراگير دانشگاه پيام‌نور ا...   \n",
              "3  227781  همايش يكروزه آسيب شناسي مفهوم روابط عمومي در ب...   \n",
              "4  174187  وضعيت اقتصادي و ميزان تحصيلات والدين از مهمتري...   \n",
              "\n",
              "                                                Body       Date     Time  \\\n",
              "0  وزير علوم در جمع استادان نمونه كشور گفت: از اس...  138/5//09  0:9::18   \n",
              "1  به گزارش سرويس صنفي آموزشي خبرگزاري دانشجويان ...  138/5//09  1:4::11   \n",
              "2  نتايج آزمون دوره‌هاي فراگير مقاطع كارشناسي و ك...  138/3//07  1:0::03   \n",
              "3                                                  0  138/2//02  1:3::42   \n",
              "4  محمدتقي علوي يزدي، مجري اين طرح پژوهشي در اين‌...  138/1//08  1:1::49   \n",
              "\n",
              "           Category Category2  \n",
              "0           آموزشي-    آموزشي  \n",
              "1           آموزشي-    آموزشي  \n",
              "2           آموزشي-    آموزشي  \n",
              "3  اجتماعي-خانواده-   اجتماعي  \n",
              "4           آموزشي-    آموزشي  "
            ]
          },
          "execution_count": 2,
          "metadata": {},
          "output_type": "execute_result"
        }
      ],
      "source": [
        "df = pd.read_csv('/content/drive/MyDrive/NLP/HW4/persica_edited.csv')\n",
        "df.head()"
      ]
    },
    {
      "cell_type": "code",
      "execution_count": null,
      "metadata": {
        "colab": {
          "base_uri": "https://localhost:8080/"
        },
        "id": "58z9bWuu2cdu",
        "outputId": "9e70fc6f-2924-4a46-fe9b-511e75c36165"
      },
      "outputs": [
        {
          "data": {
            "text/plain": [
              "آموزشي        1000\n",
              "اجتماعي       1000\n",
              "اقتصادي       1000\n",
              "بهداشتي       1000\n",
              "علمي          1000\n",
              "سياسي         1000\n",
              "فرهنگي        1000\n",
              "فقه و حقوق    1000\n",
              "مذهبي         1000\n",
              "ورزشي         1000\n",
              "تاريخي         999\n",
              "Name: Category2, dtype: int64"
            ]
          },
          "execution_count": 4,
          "metadata": {},
          "output_type": "execute_result"
        }
      ],
      "source": [
        "df.Category2.value_counts()"
      ]
    },
    {
      "cell_type": "code",
      "execution_count": null,
      "metadata": {
        "colab": {
          "base_uri": "https://localhost:8080/"
        },
        "id": "YR_zW51J2H7F",
        "outputId": "452d92a8-b5ec-4806-8cee-cb4242e15279"
      },
      "outputs": [
        {
          "data": {
            "text/plain": [
              "(10999, 7)"
            ]
          },
          "execution_count": 5,
          "metadata": {},
          "output_type": "execute_result"
        }
      ],
      "source": [
        "df.shape"
      ]
    },
    {
      "cell_type": "markdown",
      "metadata": {
        "id": "bf7-VLZfl1QA"
      },
      "source": [
        "چون متن موجود در قسمت بدنه اخبار از کلمات بیشتری تشکیل شده است ما از آن برای کلاس بندی اخبار استفاده می کنیم بنابراین به دنبال این هستیم تا سطرهایی که این ستون را خالی دارند را حذف کنیم."
      ]
    },
    {
      "cell_type": "code",
      "execution_count": null,
      "metadata": {
        "id": "8yGQjuEG1tsk"
      },
      "outputs": [],
      "source": [
        "df = df.loc[df['Body'] != '0']"
      ]
    },
    {
      "cell_type": "code",
      "execution_count": null,
      "metadata": {
        "id": "VXSXHL6z285J"
      },
      "outputs": [],
      "source": [
        "df = df.drop(columns=['Date', 'Time', 'Category', 'NewID', 'Title'])"
      ]
    },
    {
      "cell_type": "code",
      "execution_count": null,
      "metadata": {
        "colab": {
          "base_uri": "https://localhost:8080/"
        },
        "id": "Ls904VgS2BXp",
        "outputId": "1aa555fc-4f3a-44af-a9e0-7bbaf4359e3d"
      },
      "outputs": [
        {
          "data": {
            "text/plain": [
              "(10988, 2)"
            ]
          },
          "execution_count": 6,
          "metadata": {},
          "output_type": "execute_result"
        }
      ],
      "source": [
        "df.shape"
      ]
    },
    {
      "cell_type": "code",
      "execution_count": null,
      "metadata": {
        "id": "S16Pl37HOepI"
      },
      "outputs": [],
      "source": [
        "# df.to_csv('/content/drive/MyDrive/NLP/HW4/persica_final_edit.csv', index=False)\n",
        "df = pd.read_csv('/content/drive/MyDrive/NLP/HW4/persica_final_edit.csv')"
      ]
    },
    {
      "cell_type": "code",
      "execution_count": null,
      "metadata": {
        "colab": {
          "base_uri": "https://localhost:8080/",
          "height": 206
        },
        "id": "EfgW6d793QSb",
        "outputId": "af847ab7-6f8f-42c7-d6b4-407a8cca7101"
      },
      "outputs": [
        {
          "data": {
            "text/html": [
              "\n",
              "  <div id=\"df-f1beba63-cf81-4a04-ac79-06e893a65922\">\n",
              "    <div class=\"colab-df-container\">\n",
              "      <div>\n",
              "<style scoped>\n",
              "    .dataframe tbody tr th:only-of-type {\n",
              "        vertical-align: middle;\n",
              "    }\n",
              "\n",
              "    .dataframe tbody tr th {\n",
              "        vertical-align: top;\n",
              "    }\n",
              "\n",
              "    .dataframe thead th {\n",
              "        text-align: right;\n",
              "    }\n",
              "</style>\n",
              "<table border=\"1\" class=\"dataframe\">\n",
              "  <thead>\n",
              "    <tr style=\"text-align: right;\">\n",
              "      <th></th>\n",
              "      <th>Body</th>\n",
              "      <th>Category2</th>\n",
              "    </tr>\n",
              "  </thead>\n",
              "  <tbody>\n",
              "    <tr>\n",
              "      <th>0</th>\n",
              "      <td>وزير علوم در جمع استادان نمونه كشور گفت: از اس...</td>\n",
              "      <td>آموزشي</td>\n",
              "    </tr>\n",
              "    <tr>\n",
              "      <th>1</th>\n",
              "      <td>به گزارش سرويس صنفي آموزشي خبرگزاري دانشجويان ...</td>\n",
              "      <td>آموزشي</td>\n",
              "    </tr>\n",
              "    <tr>\n",
              "      <th>2</th>\n",
              "      <td>نتايج آزمون دوره‌هاي فراگير مقاطع كارشناسي و ك...</td>\n",
              "      <td>آموزشي</td>\n",
              "    </tr>\n",
              "    <tr>\n",
              "      <th>3</th>\n",
              "      <td>محمدتقي علوي يزدي، مجري اين طرح پژوهشي در اين‌...</td>\n",
              "      <td>آموزشي</td>\n",
              "    </tr>\n",
              "    <tr>\n",
              "      <th>4</th>\n",
              "      <td>دوره آموزشي سيره نبوي بعنوان يكي از رشته‌هاي ج...</td>\n",
              "      <td>آموزشي</td>\n",
              "    </tr>\n",
              "  </tbody>\n",
              "</table>\n",
              "</div>\n",
              "      <button class=\"colab-df-convert\" onclick=\"convertToInteractive('df-f1beba63-cf81-4a04-ac79-06e893a65922')\"\n",
              "              title=\"Convert this dataframe to an interactive table.\"\n",
              "              style=\"display:none;\">\n",
              "        \n",
              "  <svg xmlns=\"http://www.w3.org/2000/svg\" height=\"24px\"viewBox=\"0 0 24 24\"\n",
              "       width=\"24px\">\n",
              "    <path d=\"M0 0h24v24H0V0z\" fill=\"none\"/>\n",
              "    <path d=\"M18.56 5.44l.94 2.06.94-2.06 2.06-.94-2.06-.94-.94-2.06-.94 2.06-2.06.94zm-11 1L8.5 8.5l.94-2.06 2.06-.94-2.06-.94L8.5 2.5l-.94 2.06-2.06.94zm10 10l.94 2.06.94-2.06 2.06-.94-2.06-.94-.94-2.06-.94 2.06-2.06.94z\"/><path d=\"M17.41 7.96l-1.37-1.37c-.4-.4-.92-.59-1.43-.59-.52 0-1.04.2-1.43.59L10.3 9.45l-7.72 7.72c-.78.78-.78 2.05 0 2.83L4 21.41c.39.39.9.59 1.41.59.51 0 1.02-.2 1.41-.59l7.78-7.78 2.81-2.81c.8-.78.8-2.07 0-2.86zM5.41 20L4 18.59l7.72-7.72 1.47 1.35L5.41 20z\"/>\n",
              "  </svg>\n",
              "      </button>\n",
              "      \n",
              "  <style>\n",
              "    .colab-df-container {\n",
              "      display:flex;\n",
              "      flex-wrap:wrap;\n",
              "      gap: 12px;\n",
              "    }\n",
              "\n",
              "    .colab-df-convert {\n",
              "      background-color: #E8F0FE;\n",
              "      border: none;\n",
              "      border-radius: 50%;\n",
              "      cursor: pointer;\n",
              "      display: none;\n",
              "      fill: #1967D2;\n",
              "      height: 32px;\n",
              "      padding: 0 0 0 0;\n",
              "      width: 32px;\n",
              "    }\n",
              "\n",
              "    .colab-df-convert:hover {\n",
              "      background-color: #E2EBFA;\n",
              "      box-shadow: 0px 1px 2px rgba(60, 64, 67, 0.3), 0px 1px 3px 1px rgba(60, 64, 67, 0.15);\n",
              "      fill: #174EA6;\n",
              "    }\n",
              "\n",
              "    [theme=dark] .colab-df-convert {\n",
              "      background-color: #3B4455;\n",
              "      fill: #D2E3FC;\n",
              "    }\n",
              "\n",
              "    [theme=dark] .colab-df-convert:hover {\n",
              "      background-color: #434B5C;\n",
              "      box-shadow: 0px 1px 3px 1px rgba(0, 0, 0, 0.15);\n",
              "      filter: drop-shadow(0px 1px 2px rgba(0, 0, 0, 0.3));\n",
              "      fill: #FFFFFF;\n",
              "    }\n",
              "  </style>\n",
              "\n",
              "      <script>\n",
              "        const buttonEl =\n",
              "          document.querySelector('#df-f1beba63-cf81-4a04-ac79-06e893a65922 button.colab-df-convert');\n",
              "        buttonEl.style.display =\n",
              "          google.colab.kernel.accessAllowed ? 'block' : 'none';\n",
              "\n",
              "        async function convertToInteractive(key) {\n",
              "          const element = document.querySelector('#df-f1beba63-cf81-4a04-ac79-06e893a65922');\n",
              "          const dataTable =\n",
              "            await google.colab.kernel.invokeFunction('convertToInteractive',\n",
              "                                                     [key], {});\n",
              "          if (!dataTable) return;\n",
              "\n",
              "          const docLinkHtml = 'Like what you see? Visit the ' +\n",
              "            '<a target=\"_blank\" href=https://colab.research.google.com/notebooks/data_table.ipynb>data table notebook</a>'\n",
              "            + ' to learn more about interactive tables.';\n",
              "          element.innerHTML = '';\n",
              "          dataTable['output_type'] = 'display_data';\n",
              "          await google.colab.output.renderOutput(dataTable, element);\n",
              "          const docLink = document.createElement('div');\n",
              "          docLink.innerHTML = docLinkHtml;\n",
              "          element.appendChild(docLink);\n",
              "        }\n",
              "      </script>\n",
              "    </div>\n",
              "  </div>\n",
              "  "
            ],
            "text/plain": [
              "                                                Body Category2\n",
              "0  وزير علوم در جمع استادان نمونه كشور گفت: از اس...    آموزشي\n",
              "1  به گزارش سرويس صنفي آموزشي خبرگزاري دانشجويان ...    آموزشي\n",
              "2  نتايج آزمون دوره‌هاي فراگير مقاطع كارشناسي و ك...    آموزشي\n",
              "3  محمدتقي علوي يزدي، مجري اين طرح پژوهشي در اين‌...    آموزشي\n",
              "4  دوره آموزشي سيره نبوي بعنوان يكي از رشته‌هاي ج...    آموزشي"
            ]
          },
          "execution_count": 4,
          "metadata": {},
          "output_type": "execute_result"
        }
      ],
      "source": [
        "df.head()"
      ]
    },
    {
      "cell_type": "code",
      "execution_count": null,
      "metadata": {
        "colab": {
          "base_uri": "https://localhost:8080/"
        },
        "id": "K_C5ZGWwiStY",
        "outputId": "8cefad1a-1d31-4e9d-866e-6d164a4b323a"
      },
      "outputs": [
        {
          "name": "stdout",
          "output_type": "stream",
          "text": [
            "df shape : (10988, 2)\n"
          ]
        }
      ],
      "source": [
        "print(f'df shape : {df.shape}')"
      ]
    },
    {
      "cell_type": "markdown",
      "metadata": {
        "id": "m2_fiUUhmdOq"
      },
      "source": [
        "## Split X and y"
      ]
    },
    {
      "cell_type": "code",
      "execution_count": null,
      "metadata": {
        "colab": {
          "base_uri": "https://localhost:8080/"
        },
        "id": "0V2wCvIH2S__",
        "outputId": "be732e7a-b2bc-46a9-f563-9f0d4dd47d10"
      },
      "outputs": [
        {
          "name": "stdout",
          "output_type": "stream",
          "text": [
            "X shape : (10988, 1)\n",
            "y shape : (10988, 1)\n"
          ]
        }
      ],
      "source": [
        "X = df.drop(columns='Category2')\n",
        "y = pd.DataFrame(df['Category2'])\n",
        "\n",
        "print(f'X shape : {X.shape}')\n",
        "print(f'y shape : {y.shape}')"
      ]
    },
    {
      "cell_type": "code",
      "execution_count": null,
      "metadata": {
        "colab": {
          "base_uri": "https://localhost:8080/",
          "height": 206
        },
        "id": "QZe4F5v6rmxI",
        "outputId": "4ea0e5cd-48c3-4238-c16e-90f55793362e"
      },
      "outputs": [
        {
          "data": {
            "text/html": [
              "\n",
              "  <div id=\"df-96df87ca-75cb-4c03-bdb3-2ec75d5cd344\">\n",
              "    <div class=\"colab-df-container\">\n",
              "      <div>\n",
              "<style scoped>\n",
              "    .dataframe tbody tr th:only-of-type {\n",
              "        vertical-align: middle;\n",
              "    }\n",
              "\n",
              "    .dataframe tbody tr th {\n",
              "        vertical-align: top;\n",
              "    }\n",
              "\n",
              "    .dataframe thead th {\n",
              "        text-align: right;\n",
              "    }\n",
              "</style>\n",
              "<table border=\"1\" class=\"dataframe\">\n",
              "  <thead>\n",
              "    <tr style=\"text-align: right;\">\n",
              "      <th></th>\n",
              "      <th>Body</th>\n",
              "    </tr>\n",
              "  </thead>\n",
              "  <tbody>\n",
              "    <tr>\n",
              "      <th>0</th>\n",
              "      <td>وزير علوم در جمع استادان نمونه كشور گفت: از اس...</td>\n",
              "    </tr>\n",
              "    <tr>\n",
              "      <th>1</th>\n",
              "      <td>به گزارش سرويس صنفي آموزشي خبرگزاري دانشجويان ...</td>\n",
              "    </tr>\n",
              "    <tr>\n",
              "      <th>2</th>\n",
              "      <td>نتايج آزمون دوره‌هاي فراگير مقاطع كارشناسي و ك...</td>\n",
              "    </tr>\n",
              "    <tr>\n",
              "      <th>3</th>\n",
              "      <td>محمدتقي علوي يزدي، مجري اين طرح پژوهشي در اين‌...</td>\n",
              "    </tr>\n",
              "    <tr>\n",
              "      <th>4</th>\n",
              "      <td>دوره آموزشي سيره نبوي بعنوان يكي از رشته‌هاي ج...</td>\n",
              "    </tr>\n",
              "  </tbody>\n",
              "</table>\n",
              "</div>\n",
              "      <button class=\"colab-df-convert\" onclick=\"convertToInteractive('df-96df87ca-75cb-4c03-bdb3-2ec75d5cd344')\"\n",
              "              title=\"Convert this dataframe to an interactive table.\"\n",
              "              style=\"display:none;\">\n",
              "        \n",
              "  <svg xmlns=\"http://www.w3.org/2000/svg\" height=\"24px\"viewBox=\"0 0 24 24\"\n",
              "       width=\"24px\">\n",
              "    <path d=\"M0 0h24v24H0V0z\" fill=\"none\"/>\n",
              "    <path d=\"M18.56 5.44l.94 2.06.94-2.06 2.06-.94-2.06-.94-.94-2.06-.94 2.06-2.06.94zm-11 1L8.5 8.5l.94-2.06 2.06-.94-2.06-.94L8.5 2.5l-.94 2.06-2.06.94zm10 10l.94 2.06.94-2.06 2.06-.94-2.06-.94-.94-2.06-.94 2.06-2.06.94z\"/><path d=\"M17.41 7.96l-1.37-1.37c-.4-.4-.92-.59-1.43-.59-.52 0-1.04.2-1.43.59L10.3 9.45l-7.72 7.72c-.78.78-.78 2.05 0 2.83L4 21.41c.39.39.9.59 1.41.59.51 0 1.02-.2 1.41-.59l7.78-7.78 2.81-2.81c.8-.78.8-2.07 0-2.86zM5.41 20L4 18.59l7.72-7.72 1.47 1.35L5.41 20z\"/>\n",
              "  </svg>\n",
              "      </button>\n",
              "      \n",
              "  <style>\n",
              "    .colab-df-container {\n",
              "      display:flex;\n",
              "      flex-wrap:wrap;\n",
              "      gap: 12px;\n",
              "    }\n",
              "\n",
              "    .colab-df-convert {\n",
              "      background-color: #E8F0FE;\n",
              "      border: none;\n",
              "      border-radius: 50%;\n",
              "      cursor: pointer;\n",
              "      display: none;\n",
              "      fill: #1967D2;\n",
              "      height: 32px;\n",
              "      padding: 0 0 0 0;\n",
              "      width: 32px;\n",
              "    }\n",
              "\n",
              "    .colab-df-convert:hover {\n",
              "      background-color: #E2EBFA;\n",
              "      box-shadow: 0px 1px 2px rgba(60, 64, 67, 0.3), 0px 1px 3px 1px rgba(60, 64, 67, 0.15);\n",
              "      fill: #174EA6;\n",
              "    }\n",
              "\n",
              "    [theme=dark] .colab-df-convert {\n",
              "      background-color: #3B4455;\n",
              "      fill: #D2E3FC;\n",
              "    }\n",
              "\n",
              "    [theme=dark] .colab-df-convert:hover {\n",
              "      background-color: #434B5C;\n",
              "      box-shadow: 0px 1px 3px 1px rgba(0, 0, 0, 0.15);\n",
              "      filter: drop-shadow(0px 1px 2px rgba(0, 0, 0, 0.3));\n",
              "      fill: #FFFFFF;\n",
              "    }\n",
              "  </style>\n",
              "\n",
              "      <script>\n",
              "        const buttonEl =\n",
              "          document.querySelector('#df-96df87ca-75cb-4c03-bdb3-2ec75d5cd344 button.colab-df-convert');\n",
              "        buttonEl.style.display =\n",
              "          google.colab.kernel.accessAllowed ? 'block' : 'none';\n",
              "\n",
              "        async function convertToInteractive(key) {\n",
              "          const element = document.querySelector('#df-96df87ca-75cb-4c03-bdb3-2ec75d5cd344');\n",
              "          const dataTable =\n",
              "            await google.colab.kernel.invokeFunction('convertToInteractive',\n",
              "                                                     [key], {});\n",
              "          if (!dataTable) return;\n",
              "\n",
              "          const docLinkHtml = 'Like what you see? Visit the ' +\n",
              "            '<a target=\"_blank\" href=https://colab.research.google.com/notebooks/data_table.ipynb>data table notebook</a>'\n",
              "            + ' to learn more about interactive tables.';\n",
              "          element.innerHTML = '';\n",
              "          dataTable['output_type'] = 'display_data';\n",
              "          await google.colab.output.renderOutput(dataTable, element);\n",
              "          const docLink = document.createElement('div');\n",
              "          docLink.innerHTML = docLinkHtml;\n",
              "          element.appendChild(docLink);\n",
              "        }\n",
              "      </script>\n",
              "    </div>\n",
              "  </div>\n",
              "  "
            ],
            "text/plain": [
              "                                                Body\n",
              "0  وزير علوم در جمع استادان نمونه كشور گفت: از اس...\n",
              "1  به گزارش سرويس صنفي آموزشي خبرگزاري دانشجويان ...\n",
              "2  نتايج آزمون دوره‌هاي فراگير مقاطع كارشناسي و ك...\n",
              "3  محمدتقي علوي يزدي، مجري اين طرح پژوهشي در اين‌...\n",
              "4  دوره آموزشي سيره نبوي بعنوان يكي از رشته‌هاي ج..."
            ]
          },
          "execution_count": 11,
          "metadata": {},
          "output_type": "execute_result"
        }
      ],
      "source": [
        "X.head()"
      ]
    },
    {
      "cell_type": "code",
      "execution_count": null,
      "metadata": {
        "colab": {
          "base_uri": "https://localhost:8080/"
        },
        "id": "K_QxxnvUrxmg",
        "outputId": "6ff36200-758d-4a6e-ee2a-87c4e1b0b0e7"
      },
      "outputs": [
        {
          "data": {
            "text/plain": [
              "Category2 \n",
              "آموزشي        1000\n",
              "اقتصادي       1000\n",
              "بهداشتي       1000\n",
              "مذهبي         1000\n",
              "اجتماعي        999\n",
              "فرهنگي         999\n",
              "ورزشي          999\n",
              "تاريخي         998\n",
              "سياسي          998\n",
              "فقه و حقوق     998\n",
              "علمي           997\n",
              "dtype: int64"
            ]
          },
          "execution_count": 12,
          "metadata": {},
          "output_type": "execute_result"
        }
      ],
      "source": [
        "y.value_counts()"
      ]
    },
    {
      "cell_type": "markdown",
      "metadata": {
        "id": "OWcOxJvSicai"
      },
      "source": [
        "Let's show the distribution of data in each class."
      ]
    },
    {
      "cell_type": "code",
      "execution_count": null,
      "metadata": {
        "id": "MUcPeOZ1s9BR"
      },
      "outputs": [],
      "source": [
        "!pip install -q python-bidi\n",
        "!pip install -q arabic-reshaper"
      ]
    },
    {
      "cell_type": "code",
      "execution_count": null,
      "metadata": {
        "colab": {
          "base_uri": "https://localhost:8080/",
          "height": 662
        },
        "id": "_KH-OmhltBRi",
        "outputId": "44964b42-3efe-4b7a-fc9b-8b8fd05c4830"
      },
      "outputs": [
        {
          "data": {
            "image/png": "[encoded data removed]",
            "text/plain": [
              "<Figure size 1152x720 with 1 Axes>"
            ]
          },
          "metadata": {},
          "output_type": "display_data"
        }
      ],
      "source": [
        "from bidi.algorithm import get_display\n",
        "from arabic_reshaper import reshape\n",
        "\n",
        "classes = [get_display(reshape(label)) for label in y.Category2]\n",
        "y_fa = pd.DataFrame(classes)\n",
        "y_fa.columns = ['label']\n",
        "\n",
        "\n",
        "fig = plt.figure(figsize=(16,10))\n",
        "sns.countplot(x=\"label\", data=y_fa)\n",
        "plt.title(\"Distribution of data in each class\")\n",
        "plt.xticks(rotation=90)\n",
        "plt.rc('xtick', labelsize=15)\n",
        "plt.show()"
      ]
    },
    {
      "cell_type": "markdown",
      "metadata": {
        "id": "mlzGfMA_8c_i"
      },
      "source": [
        "## Train test split"
      ]
    },
    {
      "cell_type": "code",
      "execution_count": null,
      "metadata": {
        "colab": {
          "base_uri": "https://localhost:8080/"
        },
        "id": "3ENk7g9L8khQ",
        "outputId": "8dfbf4dc-b568-4959-9e02-bb4331df9c46"
      },
      "outputs": [
        {
          "name": "stdout",
          "output_type": "stream",
          "text": [
            "X_train shape: (8790, 1)\n",
            "X_test shape: (2198, 1)\n",
            "y_train shape: (8790, 1)\n",
            "y_test shape: (2198, 1)\n"
          ]
        }
      ],
      "source": [
        "from sklearn.model_selection import train_test_split\n",
        "\n",
        "X_train, X_test, y_train, y_test = train_test_split(X, y, test_size=0.2, stratify= y, random_state=42)\n",
        "print(f'X_train shape: {X_train.shape}')\n",
        "print(f'X_test shape: {X_test.shape}')\n",
        "print(f'y_train shape: {y_train.shape}')\n",
        "print(f'y_test shape: {y_test.shape}')"
      ]
    },
    {
      "cell_type": "markdown",
      "metadata": {
        "id": "mdAJh26mZzw5"
      },
      "source": [
        "## Label Encoder"
      ]
    },
    {
      "cell_type": "code",
      "execution_count": null,
      "metadata": {
        "id": "63bss79P8gzn"
      },
      "outputs": [],
      "source": [
        "from sklearn.preprocessing import LabelEncoder\n",
        "\n",
        "le = LabelEncoder()\n",
        "y_train = le.fit_transform(y_train)\n",
        "y_test = le.transform(y_test)"
      ]
    },
    {
      "cell_type": "code",
      "execution_count": null,
      "metadata": {
        "colab": {
          "base_uri": "https://localhost:8080/"
        },
        "id": "GsikczglPaak",
        "outputId": "e3c35b2b-3df5-4e5d-c9e2-4d7c2fb0f9a8"
      },
      "outputs": [
        {
          "name": "stdout",
          "output_type": "stream",
          "text": [
            "آموزشي => 0\n",
            "اجتماعي => 1\n",
            "اقتصادي => 2\n",
            "بهداشتي => 3\n",
            "تاريخي => 4\n",
            "سياسي => 5\n",
            "علمي => 6\n",
            "فرهنگي => 7\n",
            "فقه و حقوق => 8\n",
            "مذهبي => 9\n",
            "ورزشي => 10\n"
          ]
        }
      ],
      "source": [
        "inv =  le.inverse_transform([0, 1, 2, 3, 4, 5, 6, 7, 8, 9, 10])\n",
        "classes = []\n",
        "for i in range(len(inv)):\n",
        "  classes.append(inv[i])\n",
        "  print(f'{inv[i]} => {i}')"
      ]
    },
    {
      "cell_type": "markdown",
      "metadata": {
        "id": "Lzz8_jZXPzq-"
      },
      "source": [
        "## Create term document matrix"
      ]
    },
    {
      "cell_type": "markdown",
      "metadata": {
        "id": "pHJY51jRP3E7"
      },
      "source": [
        "consider stopwords and vocabulary like tfidf"
      ]
    },
    {
      "cell_type": "code",
      "execution_count": null,
      "metadata": {
        "id": "KF1XRAGRTbml"
      },
      "outputs": [],
      "source": [
        "def readFile(filename):\n",
        "  fileObj = open(filename, 'r', encoding ='utf-8') # open the file in read mode\n",
        "  words = fileObj.read().splitlines() # puts the file into an array\n",
        "  fileObj.close()\n",
        "  return words"
      ]
    },
    {
      "cell_type": "code",
      "execution_count": null,
      "metadata": {
        "id": "dBFUWEd7SnXR"
      },
      "outputs": [],
      "source": [
        "stopwords = readFile('/content/drive/MyDrive/AI-Internship/persian_stopwords_kharazi.txt')"
      ]
    },
    {
      "cell_type": "code",
      "execution_count": null,
      "metadata": {
        "colab": {
          "base_uri": "https://localhost:8080/"
        },
        "id": "y3ecEbqeXq4B",
        "outputId": "9bc95de9-d9bd-4cdf-a949-1fb6d7763b5b"
      },
      "outputs": [
        {
          "name": "stdout",
          "output_type": "stream",
          "text": [
            "10 first stop words : ['!', '\"', '#', '(', ')', '*', ',', '-', '.', '/']\n"
          ]
        }
      ],
      "source": [
        "print(f'10 first stop words : {stopwords[:10]}')"
      ]
    },
    {
      "cell_type": "code",
      "execution_count": null,
      "metadata": {
        "id": "rAE5T7TEmIhQ"
      },
      "outputs": [],
      "source": [
        "from sklearn.feature_extraction.text import CountVectorizer\n",
        "\n",
        "cv = CountVectorizer(stop_words=stopwords, min_df=5) # change min_dif\n",
        "X_train_bow = cv.fit_transform(X_train['Body'])\n",
        "X_test_bow = cv.transform(X_test['Body'])"
      ]
    },
    {
      "cell_type": "code",
      "execution_count": null,
      "metadata": {
        "colab": {
          "base_uri": "https://localhost:8080/"
        },
        "id": "SLcr9DPkZ_8I",
        "outputId": "1553f7c4-6b52-49fa-8c9c-734b95a5fb4e"
      },
      "outputs": [
        {
          "name": "stdout",
          "output_type": "stream",
          "text": [
            "X_train_bow : (8790, 16648) and X_test_bow : (2198, 16648)\n"
          ]
        }
      ],
      "source": [
        "print(f'X_train_bow : {X_train_bow.shape} and X_test_bow : {X_test_bow.shape}')"
      ]
    },
    {
      "cell_type": "code",
      "execution_count": null,
      "metadata": {
        "colab": {
          "base_uri": "https://localhost:8080/"
        },
        "id": "TxPVi7CCiMQV",
        "outputId": "c156bbd4-fd45-475f-db84-d0e815f7ec46"
      },
      "outputs": [
        {
          "data": {
            "text/plain": [
              "scipy.sparse.csr.csr_matrix"
            ]
          },
          "execution_count": 16,
          "metadata": {},
          "output_type": "execute_result"
        }
      ],
      "source": [
        "type(X_train_bow)"
      ]
    },
    {
      "cell_type": "code",
      "execution_count": null,
      "metadata": {
        "colab": {
          "base_uri": "https://localhost:8080/",
          "height": 236
        },
        "id": "xnY-TngxaH3g",
        "outputId": "e1966c94-78b2-4a33-dfab-6d6cbcec79e5"
      },
      "outputs": [
        {
          "data": {
            "text/html": [
              "\n",
              "  <div id=\"df-e1b539e9-5db4-4243-b8f7-154987d95d04\">\n",
              "    <div class=\"colab-df-container\">\n",
              "      <div>\n",
              "<style scoped>\n",
              "    .dataframe tbody tr th:only-of-type {\n",
              "        vertical-align: middle;\n",
              "    }\n",
              "\n",
              "    .dataframe tbody tr th {\n",
              "        vertical-align: top;\n",
              "    }\n",
              "\n",
              "    .dataframe thead th {\n",
              "        text-align: right;\n",
              "    }\n",
              "</style>\n",
              "<table border=\"1\" class=\"dataframe\">\n",
              "  <thead>\n",
              "    <tr style=\"text-align: right;\">\n",
              "      <th></th>\n",
              "      <th>00</th>\n",
              "      <th>08</th>\n",
              "      <th>10</th>\n",
              "      <th>100</th>\n",
              "      <th>1000</th>\n",
              "      <th>101</th>\n",
              "      <th>102</th>\n",
              "      <th>103</th>\n",
              "      <th>104</th>\n",
              "      <th>105</th>\n",
              "      <th>...</th>\n",
              "      <th>گيريها</th>\n",
              "      <th>گيريهاي</th>\n",
              "      <th>گيس</th>\n",
              "      <th>گيل</th>\n",
              "      <th>گيلاس</th>\n",
              "      <th>گيلان</th>\n",
              "      <th>گيلاني</th>\n",
              "      <th>گيم</th>\n",
              "      <th>گچ</th>\n",
              "      <th>گچساران</th>\n",
              "    </tr>\n",
              "  </thead>\n",
              "  <tbody>\n",
              "    <tr>\n",
              "      <th>0</th>\n",
              "      <td>0</td>\n",
              "      <td>0</td>\n",
              "      <td>0</td>\n",
              "      <td>0</td>\n",
              "      <td>0</td>\n",
              "      <td>0</td>\n",
              "      <td>0</td>\n",
              "      <td>0</td>\n",
              "      <td>0</td>\n",
              "      <td>0</td>\n",
              "      <td>...</td>\n",
              "      <td>0</td>\n",
              "      <td>0</td>\n",
              "      <td>0</td>\n",
              "      <td>0</td>\n",
              "      <td>0</td>\n",
              "      <td>0</td>\n",
              "      <td>0</td>\n",
              "      <td>0</td>\n",
              "      <td>0</td>\n",
              "      <td>0</td>\n",
              "    </tr>\n",
              "    <tr>\n",
              "      <th>1</th>\n",
              "      <td>0</td>\n",
              "      <td>0</td>\n",
              "      <td>1</td>\n",
              "      <td>1</td>\n",
              "      <td>0</td>\n",
              "      <td>0</td>\n",
              "      <td>0</td>\n",
              "      <td>0</td>\n",
              "      <td>0</td>\n",
              "      <td>0</td>\n",
              "      <td>...</td>\n",
              "      <td>0</td>\n",
              "      <td>0</td>\n",
              "      <td>0</td>\n",
              "      <td>0</td>\n",
              "      <td>0</td>\n",
              "      <td>0</td>\n",
              "      <td>0</td>\n",
              "      <td>0</td>\n",
              "      <td>0</td>\n",
              "      <td>0</td>\n",
              "    </tr>\n",
              "    <tr>\n",
              "      <th>2</th>\n",
              "      <td>0</td>\n",
              "      <td>0</td>\n",
              "      <td>0</td>\n",
              "      <td>0</td>\n",
              "      <td>0</td>\n",
              "      <td>0</td>\n",
              "      <td>0</td>\n",
              "      <td>0</td>\n",
              "      <td>0</td>\n",
              "      <td>0</td>\n",
              "      <td>...</td>\n",
              "      <td>0</td>\n",
              "      <td>0</td>\n",
              "      <td>0</td>\n",
              "      <td>0</td>\n",
              "      <td>0</td>\n",
              "      <td>0</td>\n",
              "      <td>0</td>\n",
              "      <td>0</td>\n",
              "      <td>0</td>\n",
              "      <td>0</td>\n",
              "    </tr>\n",
              "    <tr>\n",
              "      <th>3</th>\n",
              "      <td>0</td>\n",
              "      <td>0</td>\n",
              "      <td>0</td>\n",
              "      <td>0</td>\n",
              "      <td>0</td>\n",
              "      <td>0</td>\n",
              "      <td>0</td>\n",
              "      <td>0</td>\n",
              "      <td>0</td>\n",
              "      <td>0</td>\n",
              "      <td>...</td>\n",
              "      <td>0</td>\n",
              "      <td>0</td>\n",
              "      <td>0</td>\n",
              "      <td>0</td>\n",
              "      <td>0</td>\n",
              "      <td>0</td>\n",
              "      <td>0</td>\n",
              "      <td>0</td>\n",
              "      <td>0</td>\n",
              "      <td>0</td>\n",
              "    </tr>\n",
              "    <tr>\n",
              "      <th>4</th>\n",
              "      <td>0</td>\n",
              "      <td>0</td>\n",
              "      <td>0</td>\n",
              "      <td>0</td>\n",
              "      <td>0</td>\n",
              "      <td>0</td>\n",
              "      <td>0</td>\n",
              "      <td>0</td>\n",
              "      <td>0</td>\n",
              "      <td>0</td>\n",
              "      <td>...</td>\n",
              "      <td>0</td>\n",
              "      <td>0</td>\n",
              "      <td>0</td>\n",
              "      <td>0</td>\n",
              "      <td>0</td>\n",
              "      <td>0</td>\n",
              "      <td>0</td>\n",
              "      <td>0</td>\n",
              "      <td>0</td>\n",
              "      <td>0</td>\n",
              "    </tr>\n",
              "  </tbody>\n",
              "</table>\n",
              "<p>5 rows × 16648 columns</p>\n",
              "</div>\n",
              "      <button class=\"colab-df-convert\" onclick=\"convertToInteractive('df-e1b539e9-5db4-4243-b8f7-154987d95d04')\"\n",
              "              title=\"Convert this dataframe to an interactive table.\"\n",
              "              style=\"display:none;\">\n",
              "        \n",
              "  <svg xmlns=\"http://www.w3.org/2000/svg\" height=\"24px\"viewBox=\"0 0 24 24\"\n",
              "       width=\"24px\">\n",
              "    <path d=\"M0 0h24v24H0V0z\" fill=\"none\"/>\n",
              "    <path d=\"M18.56 5.44l.94 2.06.94-2.06 2.06-.94-2.06-.94-.94-2.06-.94 2.06-2.06.94zm-11 1L8.5 8.5l.94-2.06 2.06-.94-2.06-.94L8.5 2.5l-.94 2.06-2.06.94zm10 10l.94 2.06.94-2.06 2.06-.94-2.06-.94-.94-2.06-.94 2.06-2.06.94z\"/><path d=\"M17.41 7.96l-1.37-1.37c-.4-.4-.92-.59-1.43-.59-.52 0-1.04.2-1.43.59L10.3 9.45l-7.72 7.72c-.78.78-.78 2.05 0 2.83L4 21.41c.39.39.9.59 1.41.59.51 0 1.02-.2 1.41-.59l7.78-7.78 2.81-2.81c.8-.78.8-2.07 0-2.86zM5.41 20L4 18.59l7.72-7.72 1.47 1.35L5.41 20z\"/>\n",
              "  </svg>\n",
              "      </button>\n",
              "      \n",
              "  <style>\n",
              "    .colab-df-container {\n",
              "      display:flex;\n",
              "      flex-wrap:wrap;\n",
              "      gap: 12px;\n",
              "    }\n",
              "\n",
              "    .colab-df-convert {\n",
              "      background-color: #E8F0FE;\n",
              "      border: none;\n",
              "      border-radius: 50%;\n",
              "      cursor: pointer;\n",
              "      display: none;\n",
              "      fill: #1967D2;\n",
              "      height: 32px;\n",
              "      padding: 0 0 0 0;\n",
              "      width: 32px;\n",
              "    }\n",
              "\n",
              "    .colab-df-convert:hover {\n",
              "      background-color: #E2EBFA;\n",
              "      box-shadow: 0px 1px 2px rgba(60, 64, 67, 0.3), 0px 1px 3px 1px rgba(60, 64, 67, 0.15);\n",
              "      fill: #174EA6;\n",
              "    }\n",
              "\n",
              "    [theme=dark] .colab-df-convert {\n",
              "      background-color: #3B4455;\n",
              "      fill: #D2E3FC;\n",
              "    }\n",
              "\n",
              "    [theme=dark] .colab-df-convert:hover {\n",
              "      background-color: #434B5C;\n",
              "      box-shadow: 0px 1px 3px 1px rgba(0, 0, 0, 0.15);\n",
              "      filter: drop-shadow(0px 1px 2px rgba(0, 0, 0, 0.3));\n",
              "      fill: #FFFFFF;\n",
              "    }\n",
              "  </style>\n",
              "\n",
              "      <script>\n",
              "        const buttonEl =\n",
              "          document.querySelector('#df-e1b539e9-5db4-4243-b8f7-154987d95d04 button.colab-df-convert');\n",
              "        buttonEl.style.display =\n",
              "          google.colab.kernel.accessAllowed ? 'block' : 'none';\n",
              "\n",
              "        async function convertToInteractive(key) {\n",
              "          const element = document.querySelector('#df-e1b539e9-5db4-4243-b8f7-154987d95d04');\n",
              "          const dataTable =\n",
              "            await google.colab.kernel.invokeFunction('convertToInteractive',\n",
              "                                                     [key], {});\n",
              "          if (!dataTable) return;\n",
              "\n",
              "          const docLinkHtml = 'Like what you see? Visit the ' +\n",
              "            '<a target=\"_blank\" href=https://colab.research.google.com/notebooks/data_table.ipynb>data table notebook</a>'\n",
              "            + ' to learn more about interactive tables.';\n",
              "          element.innerHTML = '';\n",
              "          dataTable['output_type'] = 'display_data';\n",
              "          await google.colab.output.renderOutput(dataTable, element);\n",
              "          const docLink = document.createElement('div');\n",
              "          docLink.innerHTML = docLinkHtml;\n",
              "          element.appendChild(docLink);\n",
              "        }\n",
              "      </script>\n",
              "    </div>\n",
              "  </div>\n",
              "  "
            ],
            "text/plain": [
              "   00  08  10  100  1000  101  102  103  104  105  ...  گيريها  گيريهاي  گيس  \\\n",
              "0   0   0   0    0     0    0    0    0    0    0  ...       0        0    0   \n",
              "1   0   0   1    1     0    0    0    0    0    0  ...       0        0    0   \n",
              "2   0   0   0    0     0    0    0    0    0    0  ...       0        0    0   \n",
              "3   0   0   0    0     0    0    0    0    0    0  ...       0        0    0   \n",
              "4   0   0   0    0     0    0    0    0    0    0  ...       0        0    0   \n",
              "\n",
              "   گيل  گيلاس  گيلان  گيلاني  گيم  گچ  گچساران  \n",
              "0    0      0      0       0    0   0        0  \n",
              "1    0      0      0       0    0   0        0  \n",
              "2    0      0      0       0    0   0        0  \n",
              "3    0      0      0       0    0   0        0  \n",
              "4    0      0      0       0    0   0        0  \n",
              "\n",
              "[5 rows x 16648 columns]"
            ]
          },
          "execution_count": 17,
          "metadata": {},
          "output_type": "execute_result"
        }
      ],
      "source": [
        "bow = pd.DataFrame(X_train_bow.toarray(), columns=cv.get_feature_names())\n",
        "bow.head()"
      ]
    },
    {
      "cell_type": "code",
      "execution_count": null,
      "metadata": {
        "colab": {
          "base_uri": "https://localhost:8080/",
          "height": 35
        },
        "id": "CFNe-O1WeGpk",
        "outputId": "c0d010c4-c785-4726-8b55-d02c14e148dd"
      },
      "outputs": [
        {
          "data": {
            "application/vnd.google.colaboratory.intrinsic+json": {
              "type": "string"
            },
            "text/plain": [
              "'00'"
            ]
          },
          "execution_count": 16,
          "metadata": {},
          "output_type": "execute_result"
        }
      ],
      "source": [
        "bow.columns[0]"
      ]
    },
    {
      "cell_type": "markdown",
      "metadata": {
        "id": "j5xu6Zq6TMB0"
      },
      "source": [
        "## Dimetionality reduction using LSA"
      ]
    },
    {
      "cell_type": "code",
      "execution_count": null,
      "metadata": {
        "id": "JZ8Jt5SHd2hf"
      },
      "outputs": [],
      "source": [
        "from sklearn.decomposition import TruncatedSVD\n",
        "\n",
        "tsvd = TruncatedSVD(n_components= 400, random_state=42)\n",
        "tsvd_train = tsvd.fit_transform(X_train_bow)\n",
        "tsvd_test = tsvd.transform(X_test_bow)"
      ]
    },
    {
      "cell_type": "code",
      "execution_count": null,
      "metadata": {
        "colab": {
          "base_uri": "https://localhost:8080/"
        },
        "id": "PmiB3tO1UiQ0",
        "outputId": "bd837c71-bbb5-494e-a2bd-c99a903cfa9e"
      },
      "outputs": [
        {
          "name": "stdout",
          "output_type": "stream",
          "text": [
            "truncated SVD of X_train shape : (8790, 400) and truncated SVD of X_test shape : (2198, 400)\n"
          ]
        }
      ],
      "source": [
        "print(f'truncated SVD of X_train shape : {tsvd_train.shape} and truncated SVD of X_test shape : {tsvd_test.shape}')"
      ]
    },
    {
      "cell_type": "code",
      "execution_count": null,
      "metadata": {
        "colab": {
          "base_uri": "https://localhost:8080/"
        },
        "id": "GEWXxKyDUn6n",
        "outputId": "233461b3-8c45-47fc-ced4-104017458889"
      },
      "outputs": [
        {
          "name": "stdout",
          "output_type": "stream",
          "text": [
            "type of truncated svd : <class 'numpy.ndarray'>\n"
          ]
        }
      ],
      "source": [
        "print(f'type of truncated svd : {type(tsvd_train)}')"
      ]
    },
    {
      "cell_type": "code",
      "execution_count": null,
      "metadata": {
        "colab": {
          "base_uri": "https://localhost:8080/"
        },
        "id": "KhC2B45vXAIM",
        "outputId": "99ab1325-1d7d-47b3-e4c4-bfa0d5a6d1c9"
      },
      "outputs": [
        {
          "name": "stdout",
          "output_type": "stream",
          "text": [
            "sum of explained variance ratio of truncated svd : 0.870085939019388\n"
          ]
        }
      ],
      "source": [
        "print(f'sum of explained variance ratio of truncated svd : {tsvd.explained_variance_ratio_.sum()}')"
      ]
    },
    {
      "cell_type": "code",
      "execution_count": null,
      "metadata": {
        "id": "LIxbKbQ3Uqd5"
      },
      "outputs": [],
      "source": [
        "# np.save('/content/drive/MyDrive/NLP/HW4/tsvd_train_200.npy', tsvd_train)\n",
        "# np.save('/content/drive/MyDrive/NLP/HW4/tsvd_test_200.npy', tsvd_test)\n",
        "np.save('/content/drive/MyDrive/NLP/HW4/tsvd_train_400.npy', tsvd_train)\n",
        "np.save('/content/drive/MyDrive/NLP/HW4/tsvd_test_400.npy', tsvd_test)"
      ]
    },
    {
      "cell_type": "markdown",
      "metadata": {
        "id": "0KSqBEAjSXWf"
      },
      "source": [
        "## Normalization"
      ]
    },
    {
      "cell_type": "code",
      "execution_count": null,
      "metadata": {
        "id": "vG1_MZBs8pB3"
      },
      "outputs": [],
      "source": [
        "from sklearn.preprocessing import MinMaxScaler\n",
        "scaler = MinMaxScaler()\n",
        "X_train = scaler.fit_transform(tsvd_train)\n",
        "X_test = scaler.transform(tsvd_test)"
      ]
    },
    {
      "cell_type": "markdown",
      "metadata": {
        "id": "QzvGHmUiWkpZ"
      },
      "source": [
        "## GradientBoostingClassifier\n"
      ]
    },
    {
      "cell_type": "code",
      "execution_count": null,
      "metadata": {
        "colab": {
          "base_uri": "https://localhost:8080/"
        },
        "id": "R1JTig0wWgLx",
        "outputId": "3b13ea51-32f4-4b08-ff70-65524b7b7ab7"
      },
      "outputs": [
        {
          "data": {
            "text/plain": [
              "GradientBoostingClassifier(random_state=42)"
            ]
          },
          "execution_count": 53,
          "metadata": {},
          "output_type": "execute_result"
        }
      ],
      "source": [
        "from sklearn.ensemble import GradientBoostingClassifier\n",
        "clf = GradientBoostingClassifier(random_state=42)\n",
        "clf.fit(X_train, y_train)"
      ]
    },
    {
      "cell_type": "code",
      "execution_count": null,
      "metadata": {
        "colab": {
          "base_uri": "https://localhost:8080/"
        },
        "id": "eZ_WzLkNciF4",
        "outputId": "67bc80d4-2847-40b1-87c9-f8533400e56a"
      },
      "outputs": [
        {
          "name": "stdout",
          "output_type": "stream",
          "text": [
            "Accuracy score (training) : 0.9417519908987486\n",
            "Accuracy score (training) : 0.7302092811646952\n"
          ]
        }
      ],
      "source": [
        "print(f'Accuracy score (training) : {clf.score(X_train, y_train)}')\n",
        "print(f'Accuracy score (training) : {clf.score(X_test, y_test)}')"
      ]
    },
    {
      "cell_type": "code",
      "execution_count": null,
      "metadata": {
        "colab": {
          "base_uri": "https://localhost:8080/"
        },
        "id": "OKt0yU0EtTxp",
        "outputId": "46e372a5-f299-4f89-f0e4-6d9a95b3d710"
      },
      "outputs": [
        {
          "name": "stdout",
          "output_type": "stream",
          "text": [
            "              precision    recall  f1-score   support\n",
            "\n",
            "           0       0.74      0.88      0.80       200\n",
            "           1       0.48      0.47      0.48       200\n",
            "           2       0.71      0.68      0.69       200\n",
            "           3       0.87      0.79      0.83       200\n",
            "           4       0.79      0.77      0.78       199\n",
            "           5       0.63      0.64      0.63       200\n",
            "           6       0.62      0.60      0.61       199\n",
            "           7       0.68      0.73      0.71       200\n",
            "           8       0.78      0.79      0.79       200\n",
            "           9       0.87      0.81      0.84       200\n",
            "          10       0.87      0.88      0.88       200\n",
            "\n",
            "    accuracy                           0.73      2198\n",
            "   macro avg       0.73      0.73      0.73      2198\n",
            "weighted avg       0.73      0.73      0.73      2198\n",
            "\n"
          ]
        }
      ],
      "source": [
        "y_pred_test = clf.predict(X_test)\n",
        "print(classification_report(y_test, y_pred_test))"
      ]
    },
    {
      "cell_type": "code",
      "execution_count": null,
      "metadata": {
        "id": "rt31h88htNAM"
      },
      "outputs": [],
      "source": [
        "from bidi.algorithm import get_display\n",
        "from arabic_reshaper import reshape\n",
        "\n",
        "def confusion_matrix(y_test, y_pred):\n",
        "  labels = [i for i in range(len(list(set(y_test))))]\n",
        "  df_cm = pd.DataFrame(metrics.confusion_matrix(y_test, y_pred), index = labels,\n",
        "                columns = labels)\n",
        "  plt.figure(figsize=(16,10))\n",
        "  ax= plt.subplot()\n",
        "  sns.heatmap(df_cm, annot=True, cmap=\"YlGnBu\" ,fmt='g', ax=ax)\n",
        "  plt.title('Confusion matrix', y=1.1)\n",
        "  plt.ylabel('Actual label')\n",
        "  plt.xlabel('Predicted label')\n",
        "  class_names= classes\n",
        "  # set persian names in correct way\n",
        "  class_names = [get_display(reshape(label)) for label in class_names]\n",
        "  ax.xaxis.set_ticklabels(class_names); ax.yaxis.set_ticklabels(class_names);\n",
        "  plt.tight_layout()\n",
        "  plt.show()"
      ]
    },
    {
      "cell_type": "code",
      "execution_count": null,
      "metadata": {
        "colab": {
          "base_uri": "https://localhost:8080/",
          "height": 729
        },
        "id": "72v7rBIqs9-l",
        "outputId": "95528bdf-4f5f-496d-db70-b3a99d9fdca5"
      },
      "outputs": [
        {
          "data": {
            "image/png": "[encoded data removed]",
            "text/plain": [
              "<Figure size 1152x720 with 2 Axes>"
            ]
          },
          "metadata": {},
          "output_type": "display_data"
        }
      ],
      "source": [
        "confusion_matrix(y_test, y_pred_test)"
      ]
    },
    {
      "cell_type": "markdown",
      "metadata": {
        "id": "CtX3b_1O823P"
      },
      "source": [
        "## SVM"
      ]
    },
    {
      "cell_type": "code",
      "execution_count": null,
      "metadata": {
        "colab": {
          "base_uri": "https://localhost:8080/"
        },
        "id": "n_6Rl18Jvafr",
        "outputId": "d53e2d80-a9b5-45ca-e282-940eee09441e"
      },
      "outputs": [
        {
          "data": {
            "text/plain": [
              "SVC(random_state=42)"
            ]
          },
          "execution_count": 57,
          "metadata": {},
          "output_type": "execute_result"
        }
      ],
      "source": [
        "from sklearn.svm import SVC\n",
        "\n",
        "clf_svc = SVC(kernel='rbf', decision_function_shape='ovr', random_state=42)\n",
        "clf_svc.fit(X_train, y_train)"
      ]
    },
    {
      "cell_type": "code",
      "execution_count": null,
      "metadata": {
        "colab": {
          "base_uri": "https://localhost:8080/"
        },
        "id": "keLraZ0_Nreg",
        "outputId": "f6fd289e-a80f-49ae-e33f-0f9cf4baca68"
      },
      "outputs": [
        {
          "name": "stdout",
          "output_type": "stream",
          "text": [
            "Accuracy score (training) : 0.7750853242320819\n",
            "Accuracy score (training) : 0.6897179253867152\n"
          ]
        }
      ],
      "source": [
        "print(f'Accuracy score (training) : {clf_svc.score(X_train, y_train)}')\n",
        "print(f'Accuracy score (training) : {clf_svc.score(X_test, y_test)}')"
      ]
    },
    {
      "cell_type": "code",
      "execution_count": null,
      "metadata": {
        "colab": {
          "base_uri": "https://localhost:8080/"
        },
        "id": "Vg8_zhjpNrej",
        "outputId": "0311e483-ca18-447d-e3dc-ad269a6edf3a"
      },
      "outputs": [
        {
          "name": "stdout",
          "output_type": "stream",
          "text": [
            "              precision    recall  f1-score   support\n",
            "\n",
            "           0       0.84      0.78      0.81       200\n",
            "           1       0.34      0.65      0.45       200\n",
            "           2       0.81      0.58      0.68       200\n",
            "           3       0.90      0.73      0.81       200\n",
            "           4       0.78      0.65      0.71       199\n",
            "           5       0.53      0.61      0.57       200\n",
            "           6       0.70      0.67      0.68       199\n",
            "           7       0.67      0.70      0.69       200\n",
            "           8       0.79      0.63      0.70       200\n",
            "           9       0.82      0.78      0.80       200\n",
            "          10       0.89      0.81      0.85       200\n",
            "\n",
            "    accuracy                           0.69      2198\n",
            "   macro avg       0.73      0.69      0.70      2198\n",
            "weighted avg       0.73      0.69      0.70      2198\n",
            "\n"
          ]
        }
      ],
      "source": [
        "y_pred_test = clf_svc.predict(X_test)\n",
        "print(classification_report(y_test, y_pred_test))"
      ]
    },
    {
      "cell_type": "code",
      "execution_count": null,
      "metadata": {
        "colab": {
          "base_uri": "https://localhost:8080/",
          "height": 729
        },
        "id": "zS7m2fM6Nrel",
        "outputId": "c820a4ea-743b-4fa1-b6f5-85177f8f95dd"
      },
      "outputs": [
        {
          "data": {
            "image/png": "[encoded data removed]",
            "text/plain": [
              "<Figure size 1152x720 with 2 Axes>"
            ]
          },
          "metadata": {},
          "output_type": "display_data"
        }
      ],
      "source": [
        "confusion_matrix(y_test, y_pred_test)"
      ]
    },
    {
      "cell_type": "markdown",
      "metadata": {
        "id": "bfhxv_ZD87bl"
      },
      "source": [
        "## Naive Bayes Classifier\n"
      ]
    },
    {
      "cell_type": "markdown",
      "metadata": {
        "id": "RQcXXeRNDzIy"
      },
      "source": [
        "ValueError: Negative values in data passed to MultinomialNB (input X)\n",
        "\n",
        "مقادیر منفی قبول نمی کنه پس نرمال سازی را انجام میدهم و بعدش می دهم بهش"
      ]
    },
    {
      "cell_type": "code",
      "execution_count": null,
      "metadata": {
        "colab": {
          "base_uri": "https://localhost:8080/"
        },
        "id": "7eX_NCZ4898q",
        "outputId": "78a11997-cd38-4753-e771-19fedf9040a6"
      },
      "outputs": [
        {
          "data": {
            "text/plain": [
              "MultinomialNB()"
            ]
          },
          "execution_count": 36,
          "metadata": {},
          "output_type": "execute_result"
        }
      ],
      "source": [
        "from sklearn.naive_bayes import GaussianNB\n",
        "from sklearn.naive_bayes import MultinomialNB\n",
        "\n",
        "clf_mnb = MultinomialNB()\n",
        "clf_mnb.fit(X_train, y_train)"
      ]
    },
    {
      "cell_type": "code",
      "execution_count": null,
      "metadata": {
        "colab": {
          "base_uri": "https://localhost:8080/"
        },
        "id": "I31LTmOGAcQ0",
        "outputId": "d2b7737e-546c-40e0-f596-6abe972f0bf3"
      },
      "outputs": [
        {
          "name": "stdout",
          "output_type": "stream",
          "text": [
            "Accuracy score (training) : 0.5390216154721275\n",
            "Accuracy score (training) : 0.5159235668789809\n"
          ]
        }
      ],
      "source": [
        "print(f'Accuracy score (training) : {clf_mnb.score(X_train, y_train)}')\n",
        "print(f'Accuracy score (training) : {clf_mnb.score(X_test, y_test)}')"
      ]
    },
    {
      "cell_type": "code",
      "execution_count": null,
      "metadata": {
        "colab": {
          "base_uri": "https://localhost:8080/"
        },
        "id": "Q3Szxr66AcQ2",
        "outputId": "e77c143f-827a-4625-d28b-17d2a084db29"
      },
      "outputs": [
        {
          "name": "stdout",
          "output_type": "stream",
          "text": [
            "              precision    recall  f1-score   support\n",
            "\n",
            "           0       0.79      0.75      0.77       200\n",
            "           1       0.22      0.64      0.33       200\n",
            "           2       0.66      0.55      0.60       200\n",
            "           3       0.84      0.62      0.72       200\n",
            "           4       0.54      0.56      0.55       199\n",
            "           5       0.51      0.24      0.33       200\n",
            "           6       0.64      0.32      0.42       199\n",
            "           7       0.74      0.28      0.40       200\n",
            "           8       0.33      0.24      0.28       200\n",
            "           9       0.66      0.73      0.70       200\n",
            "          10       0.55      0.74      0.63       200\n",
            "\n",
            "    accuracy                           0.52      2198\n",
            "   macro avg       0.59      0.52      0.52      2198\n",
            "weighted avg       0.59      0.52      0.52      2198\n",
            "\n"
          ]
        }
      ],
      "source": [
        "y_pred_test = clf_mnb.predict(X_test)\n",
        "print(classification_report(y_test, y_pred_test))"
      ]
    },
    {
      "cell_type": "code",
      "execution_count": null,
      "metadata": {
        "colab": {
          "base_uri": "https://localhost:8080/",
          "height": 729
        },
        "id": "JTpN4h9gAcQ4",
        "outputId": "1be2bde6-c62d-4c5b-c2c3-d045220924ba"
      },
      "outputs": [
        {
          "data": {
            "image/png": "[encoded data removed]",
            "text/plain": [
              "<Figure size 1152x720 with 2 Axes>"
            ]
          },
          "metadata": {},
          "output_type": "display_data"
        }
      ],
      "source": [
        "confusion_matrix(y_test, y_pred_test)"
      ]
    },
    {
      "cell_type": "markdown",
      "metadata": {
        "id": "QrAVMOez8-bc"
      },
      "source": [
        "## K nearest neighbor"
      ]
    },
    {
      "cell_type": "code",
      "execution_count": null,
      "metadata": {
        "colab": {
          "base_uri": "https://localhost:8080/"
        },
        "id": "MelX_MjC9BI6",
        "outputId": "40dd9893-5a91-4760-9478-41bc443df459"
      },
      "outputs": [
        {
          "data": {
            "text/plain": [
              "KNeighborsClassifier()"
            ]
          },
          "execution_count": 61,
          "metadata": {},
          "output_type": "execute_result"
        }
      ],
      "source": [
        "from sklearn.neighbors import KNeighborsClassifier\n",
        "clf_knn = KNeighborsClassifier()\n",
        "clf_knn.fit(X_train,y_train)"
      ]
    },
    {
      "cell_type": "code",
      "execution_count": null,
      "metadata": {
        "colab": {
          "base_uri": "https://localhost:8080/"
        },
        "id": "3_vA-xEda91g",
        "outputId": "1afb09fc-b1b9-4685-f187-3f4455008b1c"
      },
      "outputs": [
        {
          "name": "stdout",
          "output_type": "stream",
          "text": [
            "Accuracy score (training) : 0.6739476678043231\n",
            "Accuracy score (training) : 0.5077343039126478\n"
          ]
        }
      ],
      "source": [
        "print(f'Accuracy score (training) : {clf_knn.score(X_train, y_train)}')\n",
        "print(f'Accuracy score (training) : {clf_knn.score(X_test, y_test)}')"
      ]
    },
    {
      "cell_type": "code",
      "execution_count": null,
      "metadata": {
        "colab": {
          "base_uri": "https://localhost:8080/"
        },
        "id": "lrHhUNuoa91j",
        "outputId": "0f5a6022-7b23-4431-e1de-0ed218e7d8bf"
      },
      "outputs": [
        {
          "name": "stdout",
          "output_type": "stream",
          "text": [
            "              precision    recall  f1-score   support\n",
            "\n",
            "           0       0.61      0.57      0.59       200\n",
            "           1       0.30      0.34      0.32       200\n",
            "           2       0.62      0.45      0.52       200\n",
            "           3       0.72      0.57      0.64       200\n",
            "           4       0.50      0.36      0.42       199\n",
            "           5       0.43      0.43      0.43       200\n",
            "           6       0.45      0.47      0.46       199\n",
            "           7       0.50      0.56      0.53       200\n",
            "           8       0.69      0.36      0.48       200\n",
            "           9       0.69      0.58      0.63       200\n",
            "          10       0.42      0.89      0.57       200\n",
            "\n",
            "    accuracy                           0.51      2198\n",
            "   macro avg       0.54      0.51      0.51      2198\n",
            "weighted avg       0.54      0.51      0.51      2198\n",
            "\n"
          ]
        }
      ],
      "source": [
        "y_pred_test = clf_knn.predict(X_test)\n",
        "print(classification_report(y_test, y_pred_test))"
      ]
    },
    {
      "cell_type": "code",
      "execution_count": null,
      "metadata": {
        "colab": {
          "base_uri": "https://localhost:8080/",
          "height": 729
        },
        "id": "FhBOciTYa91k",
        "outputId": "041ebdab-70b3-4615-8ddd-c71693428cd6"
      },
      "outputs": [
        {
          "data": {
            "image/png": "[encoded data removed]",
            "text/plain": [
              "<Figure size 1152x720 with 2 Axes>"
            ]
          },
          "metadata": {},
          "output_type": "display_data"
        }
      ],
      "source": [
        "confusion_matrix(y_test, y_pred_test)"
      ]
    },
    {
      "cell_type": "markdown",
      "metadata": {
        "id": "j5KSejXolZPt"
      },
      "source": [
        "## XGBoost"
      ]
    },
    {
      "cell_type": "code",
      "execution_count": null,
      "metadata": {
        "colab": {
          "background_save": true
        },
        "id": "ABe-kbggbGaj",
        "outputId": "11ff18b8-0fbb-47c7-81a9-1b60d8080a03"
      },
      "outputs": [
        {
          "data": {
            "text/plain": [
              "XGBClassifier(n_estimators=200, num_classes=11, objective='multi:softprob',\n",
              "              random_state=42)"
            ]
          },
          "execution_count": null,
          "metadata": {},
          "output_type": "execute_result"
        }
      ],
      "source": [
        "import xgboost as xgb\n",
        "\n",
        "clf_xgb = xgb.XGBClassifier(objective='multi:softmax',n_estimators=200, num_classes=11, random_state=42)\n",
        "clf_xgb.fit(X_train, y_train)"
      ]
    },
    {
      "cell_type": "code",
      "execution_count": null,
      "metadata": {
        "colab": {
          "background_save": true
        },
        "id": "AP0JoYHnctkT",
        "outputId": "5f064a0d-e16d-4369-92e8-4a3da21206ed"
      },
      "outputs": [
        {
          "name": "stdout",
          "output_type": "stream",
          "text": [
            "Accuracy score (training) : 0.9635949943117179\n",
            "Accuracy score (training) : 0.7479526842584168\n"
          ]
        }
      ],
      "source": [
        "print(f'Accuracy score (training) : {clf_xgb.score(X_train, y_train)}')\n",
        "print(f'Accuracy score (training) : {clf_xgb.score(X_test, y_test)}')"
      ]
    },
    {
      "cell_type": "code",
      "execution_count": null,
      "metadata": {
        "colab": {
          "background_save": true
        },
        "id": "HEd5SQKFctkX",
        "outputId": "9cd00782-fc72-4067-bb7d-3c628be245ad"
      },
      "outputs": [
        {
          "name": "stdout",
          "output_type": "stream",
          "text": [
            "              precision    recall  f1-score   support\n",
            "\n",
            "           0       0.75      0.88      0.81       200\n",
            "           1       0.50      0.50      0.50       200\n",
            "           2       0.73      0.70      0.72       200\n",
            "           3       0.86      0.81      0.84       200\n",
            "           4       0.82      0.79      0.81       199\n",
            "           5       0.66      0.66      0.66       200\n",
            "           6       0.62      0.61      0.61       199\n",
            "           7       0.71      0.73      0.72       200\n",
            "           8       0.81      0.81      0.81       200\n",
            "           9       0.88      0.82      0.85       200\n",
            "          10       0.90      0.92      0.91       200\n",
            "\n",
            "    accuracy                           0.75      2198\n",
            "   macro avg       0.75      0.75      0.75      2198\n",
            "weighted avg       0.75      0.75      0.75      2198\n",
            "\n"
          ]
        }
      ],
      "source": [
        "y_pred_test = clf_xgb.predict(X_test)\n",
        "print(classification_report(y_test, y_pred_test))"
      ]
    },
    {
      "cell_type": "code",
      "execution_count": null,
      "metadata": {
        "colab": {
          "background_save": true
        },
        "id": "8tyX_AOrctkZ",
        "outputId": "d61d5bb0-30f6-472c-d3a9-5cc0e26d4d7f"
      },
      "outputs": [
        {
          "data": {
            "image/png": "[encoded data removed]",
            "text/plain": [
              "<Figure size 1152x720 with 2 Axes>"
            ]
          },
          "metadata": {},
          "output_type": "display_data"
        }
      ],
      "source": [
        "confusion_matrix(y_test, y_pred_test)"
      ]
    },
    {
      "cell_type": "code",
      "execution_count": null,
      "metadata": {
        "id": "A9GKyhyFkxV8"
      },
      "outputs": [],
      "source": [
        ""
      ]
    }
  ],
  "metadata": {
    "colab": {
      "collapsed_sections": [],
      "name": "HW4.ipynb",
      "provenance": []
    },
    "kernelspec": {
      "display_name": "Python 3",
      "name": "python3"
    },
    "language_info": {
      "name": "python"
    }
  },
  "nbformat": 4,
  "nbformat_minor": 0
}