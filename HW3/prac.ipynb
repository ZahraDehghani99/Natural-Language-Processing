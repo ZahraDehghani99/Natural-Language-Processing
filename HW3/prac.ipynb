{
 "cells": [
  {
   "cell_type": "code",
   "execution_count": 62,
   "metadata": {},
   "outputs": [],
   "source": [
    "import pandas as pd\n",
    "\n",
    "def read_train_file(train_file_path, output_path):\n",
    "    with open(train_file_path,'r') as f:\n",
    "        lines = f.read().splitlines()\n",
    "\n",
    "    word, tag = [], []\n",
    "    for i in range(len(lines)):\n",
    "        try : \n",
    "            x, y = lines[i].split(\" \")\n",
    "            word.append(x)\n",
    "            tag.append(y)\n",
    "        except ValueError: # if we have empty line\n",
    "            word.append(\" \")\n",
    "            tag.append(\"<S>\")\n",
    "\n",
    "    data = {'word': word, 'tag': tag}\n",
    "    df = pd.DataFrame(data)\n",
    "    new_row = pd.DataFrame({'word':\" \", 'tag': \"<S>\"}, index =[0]) #add start charachter at the first of the file\n",
    "    df = pd.concat([new_row, df]).reset_index(drop = True)\n",
    "    df.to_csv(output_path, index=False)\n",
    "    return df"
   ]
  },
  {
   "cell_type": "code",
   "execution_count": 59,
   "metadata": {},
   "outputs": [
    {
     "data": {
      "text/html": [
       "<div>\n",
       "<style scoped>\n",
       "    .dataframe tbody tr th:only-of-type {\n",
       "        vertical-align: middle;\n",
       "    }\n",
       "\n",
       "    .dataframe tbody tr th {\n",
       "        vertical-align: top;\n",
       "    }\n",
       "\n",
       "    .dataframe thead th {\n",
       "        text-align: right;\n",
       "    }\n",
       "</style>\n",
       "<table border=\"1\" class=\"dataframe\">\n",
       "  <thead>\n",
       "    <tr style=\"text-align: right;\">\n",
       "      <th></th>\n",
       "      <th>word</th>\n",
       "      <th>tag</th>\n",
       "    </tr>\n",
       "  </thead>\n",
       "  <tbody>\n",
       "    <tr>\n",
       "      <th>0</th>\n",
       "      <td></td>\n",
       "      <td>&lt;S&gt;</td>\n",
       "    </tr>\n",
       "    <tr>\n",
       "      <th>1</th>\n",
       "      <td>ميشوند</td>\n",
       "      <td>V</td>\n",
       "    </tr>\n",
       "    <tr>\n",
       "      <th>2</th>\n",
       "      <td>.</td>\n",
       "      <td>DELM</td>\n",
       "    </tr>\n",
       "    <tr>\n",
       "      <th>3</th>\n",
       "      <td></td>\n",
       "      <td>&lt;S&gt;</td>\n",
       "    </tr>\n",
       "    <tr>\n",
       "      <th>4</th>\n",
       "      <td>نتيجهي</td>\n",
       "      <td>N</td>\n",
       "    </tr>\n",
       "  </tbody>\n",
       "</table>\n",
       "</div>"
      ],
      "text/plain": [
       "     word   tag\n",
       "0           <S>\n",
       "1  ميشوند     V\n",
       "2       .  DELM\n",
       "3           <S>\n",
       "4  نتيجهي     N"
      ]
     },
     "execution_count": 59,
     "metadata": {},
     "output_type": "execute_result"
    }
   ],
   "source": [
    "x = read_train_file('/mnt/DAE855F7E855D1FD/github_msc/NLP/HW3/Train.txt')\n",
    "x.head()"
   ]
  },
  {
   "cell_type": "code",
   "execution_count": 224,
   "metadata": {},
   "outputs": [
    {
     "data": {
      "text/plain": [
       "N          109310\n",
       "P           32580\n",
       "ADJ         29832\n",
       "DELM        25844\n",
       "V           22327\n",
       "CON         22094\n",
       "<S>          8722\n",
       "PRO          5714\n",
       "DET          4130\n",
       "ADV          3646\n",
       "QUA          1820\n",
       "AR           1175\n",
       "IF            396\n",
       "SPEC          350\n",
       "MS            198\n",
       "MORP          132\n",
       "PP             85\n",
       "MQUA           81\n",
       "PS             31\n",
       "DEFAULT        20\n",
       "OH             12\n",
       "NP             10\n",
       "OHH             5\n",
       "INT             2\n",
       "Name: tag, dtype: int64"
      ]
     },
     "execution_count": 224,
     "metadata": {},
     "output_type": "execute_result"
    }
   ],
   "source": [
    "df.tag.value_counts()"
   ]
  },
  {
   "cell_type": "code",
   "execution_count": 4,
   "metadata": {},
   "outputs": [
    {
     "data": {
      "text/plain": [
       "(268516, 2)"
      ]
     },
     "execution_count": 4,
     "metadata": {},
     "output_type": "execute_result"
    }
   ],
   "source": [
    "df.shape"
   ]
  },
  {
   "cell_type": "code",
   "execution_count": 215,
   "metadata": {},
   "outputs": [
    {
     "data": {
      "text/plain": [
       "{'N': 109310,\n",
       " 'P': 32580,\n",
       " 'ADJ': 29832,\n",
       " 'DELM': 25844,\n",
       " 'V': 22327,\n",
       " 'CON': 22094,\n",
       " '<S>': 8722,\n",
       " 'PRO': 5714,\n",
       " 'DET': 4130,\n",
       " 'ADV': 3646,\n",
       " 'QUA': 1820,\n",
       " 'AR': 1175,\n",
       " 'IF': 396,\n",
       " 'SPEC': 350,\n",
       " 'MS': 198,\n",
       " 'MORP': 132,\n",
       " 'PP': 85,\n",
       " 'MQUA': 81,\n",
       " 'PS': 31,\n",
       " 'DEFAULT': 20,\n",
       " 'OH': 12,\n",
       " 'NP': 10,\n",
       " 'OHH': 5,\n",
       " 'INT': 2}"
      ]
     },
     "execution_count": 215,
     "metadata": {},
     "output_type": "execute_result"
    }
   ],
   "source": [
    "tag_count"
   ]
  },
  {
   "cell_type": "code",
   "execution_count": 8,
   "metadata": {},
   "outputs": [
    {
     "data": {
      "text/plain": [
       "24"
      ]
     },
     "execution_count": 8,
     "metadata": {},
     "output_type": "execute_result"
    }
   ],
   "source": [
    "len(tag_count)"
   ]
  },
  {
   "cell_type": "code",
   "execution_count": 9,
   "metadata": {},
   "outputs": [
    {
     "data": {
      "text/plain": [
       "268516"
      ]
     },
     "execution_count": 9,
     "metadata": {},
     "output_type": "execute_result"
    }
   ],
   "source": [
    "tag_seq = df.tag.to_list()\n",
    "len(tag_seq)"
   ]
  },
  {
   "cell_type": "code",
   "execution_count": null,
   "metadata": {},
   "outputs": [],
   "source": [
    "tag_count = df.tag.value_counts().to_dict()\n",
    "all_tags = sorted(tag_count.keys())"
   ]
  },
  {
   "cell_type": "code",
   "execution_count": 97,
   "metadata": {},
   "outputs": [],
   "source": [
    "import numpy as np\n",
    "def create_transition_matrix(df, alpha): # df : tag_word_dataframe\n",
    "    # transiont_count dictionary\n",
    "    tag_count = df.tag.value_counts().to_dict()\n",
    "    all_tags = sorted(tag_count.keys())\n",
    "    tag_seq = df.tag.to_list()\n",
    "    transition_count = {} \n",
    "    for i in all_tags:\n",
    "        for j in all_tags:\n",
    "            key = (i, j)\n",
    "            transition_count[key] = 0\n",
    "\n",
    "    for i in range(len(tag_seq)-1):\n",
    "        transition_count[(tag_seq[i], tag_seq[i+1])] += 1\n",
    "\n",
    "    # create transition matrix : bigram\n",
    "    transition_matrix = np.zeros((len(all_tags), len(all_tags)))\n",
    "\n",
    "    for i in range(transition_matrix.shape[0]):\n",
    "        for j in range(transition_matrix.shape[1]):\n",
    "            count = 0\n",
    "            key = (all_tags[i], all_tags[j])\n",
    "            if key in transition_count:\n",
    "                count = transition_count[key]\n",
    "            count_prev_tag = tag_count[all_tags[i]]\n",
    "            transition_matrix[i][j] = (count + alpha) / (count_prev_tag + alpha* len(all_tags))\n",
    "    transition_matrix = np.delete(transition_matrix, 0, axis=1) # eliminate column 1 correspondes to <S> tag       \n",
    "    return transition_matrix        "
   ]
  },
  {
   "cell_type": "code",
   "execution_count": 13,
   "metadata": {},
   "outputs": [
    {
     "data": {
      "text/plain": [
       "(24, 24)"
      ]
     },
     "execution_count": 13,
     "metadata": {},
     "output_type": "execute_result"
    }
   ],
   "source": [
    "x = create_transition_matrix(df)\n",
    "x.shape"
   ]
  },
  {
   "cell_type": "code",
   "execution_count": 90,
   "metadata": {},
   "outputs": [],
   "source": [
    "# np.save('/mnt/DAE855F7E855D1FD/github_msc/NLP/HW3/transition_matrix.npy', transition_matrix)"
   ]
  },
  {
   "cell_type": "code",
   "execution_count": 26,
   "metadata": {},
   "outputs": [
    {
     "data": {
      "text/html": [
       "<div>\n",
       "<style scoped>\n",
       "    .dataframe tbody tr th:only-of-type {\n",
       "        vertical-align: middle;\n",
       "    }\n",
       "\n",
       "    .dataframe tbody tr th {\n",
       "        vertical-align: top;\n",
       "    }\n",
       "\n",
       "    .dataframe thead th {\n",
       "        text-align: right;\n",
       "    }\n",
       "</style>\n",
       "<table border=\"1\" class=\"dataframe\">\n",
       "  <thead>\n",
       "    <tr style=\"text-align: right;\">\n",
       "      <th></th>\n",
       "      <th>ADJ</th>\n",
       "      <th>ADV</th>\n",
       "      <th>AR</th>\n",
       "      <th>CON</th>\n",
       "      <th>DEFAULT</th>\n",
       "      <th>DELM</th>\n",
       "      <th>DET</th>\n",
       "      <th>IF</th>\n",
       "      <th>INT</th>\n",
       "      <th>MORP</th>\n",
       "      <th>...</th>\n",
       "      <th>NP</th>\n",
       "      <th>OH</th>\n",
       "      <th>OHH</th>\n",
       "      <th>P</th>\n",
       "      <th>PP</th>\n",
       "      <th>PRO</th>\n",
       "      <th>PS</th>\n",
       "      <th>QUA</th>\n",
       "      <th>SPEC</th>\n",
       "      <th>V</th>\n",
       "    </tr>\n",
       "  </thead>\n",
       "  <tbody>\n",
       "    <tr>\n",
       "      <th>&lt;S&gt;</th>\n",
       "      <td>0.021096</td>\n",
       "      <td>0.038867</td>\n",
       "      <td>0.000344</td>\n",
       "      <td>0.104449</td>\n",
       "      <td>0.001490</td>\n",
       "      <td>0.082091</td>\n",
       "      <td>0.043797</td>\n",
       "      <td>0.012153</td>\n",
       "      <td>0.000115</td>\n",
       "      <td>0.000000</td>\n",
       "      <td>...</td>\n",
       "      <td>0.000000</td>\n",
       "      <td>0.000000</td>\n",
       "      <td>0.000115</td>\n",
       "      <td>0.175533</td>\n",
       "      <td>0.000917</td>\n",
       "      <td>0.039555</td>\n",
       "      <td>0.000229</td>\n",
       "      <td>0.011121</td>\n",
       "      <td>0.001032</td>\n",
       "      <td>0.007108</td>\n",
       "    </tr>\n",
       "    <tr>\n",
       "      <th>ADJ</th>\n",
       "      <td>0.085981</td>\n",
       "      <td>0.011732</td>\n",
       "      <td>0.000000</td>\n",
       "      <td>0.115581</td>\n",
       "      <td>0.000034</td>\n",
       "      <td>0.080853</td>\n",
       "      <td>0.006604</td>\n",
       "      <td>0.000503</td>\n",
       "      <td>0.000000</td>\n",
       "      <td>0.000302</td>\n",
       "      <td>...</td>\n",
       "      <td>0.000000</td>\n",
       "      <td>0.000000</td>\n",
       "      <td>0.000000</td>\n",
       "      <td>0.189528</td>\n",
       "      <td>0.000201</td>\n",
       "      <td>0.017800</td>\n",
       "      <td>0.000000</td>\n",
       "      <td>0.003553</td>\n",
       "      <td>0.000402</td>\n",
       "      <td>0.233072</td>\n",
       "    </tr>\n",
       "    <tr>\n",
       "      <th>ADV</th>\n",
       "      <td>0.172518</td>\n",
       "      <td>0.022490</td>\n",
       "      <td>0.000000</td>\n",
       "      <td>0.027153</td>\n",
       "      <td>0.000000</td>\n",
       "      <td>0.041141</td>\n",
       "      <td>0.018925</td>\n",
       "      <td>0.005485</td>\n",
       "      <td>0.000000</td>\n",
       "      <td>0.000000</td>\n",
       "      <td>...</td>\n",
       "      <td>0.000000</td>\n",
       "      <td>0.000000</td>\n",
       "      <td>0.000000</td>\n",
       "      <td>0.213933</td>\n",
       "      <td>0.000274</td>\n",
       "      <td>0.024136</td>\n",
       "      <td>0.000000</td>\n",
       "      <td>0.007131</td>\n",
       "      <td>0.000549</td>\n",
       "      <td>0.065551</td>\n",
       "    </tr>\n",
       "    <tr>\n",
       "      <th>AR</th>\n",
       "      <td>0.001702</td>\n",
       "      <td>0.000000</td>\n",
       "      <td>0.797447</td>\n",
       "      <td>0.012766</td>\n",
       "      <td>0.000000</td>\n",
       "      <td>0.175319</td>\n",
       "      <td>0.000000</td>\n",
       "      <td>0.000000</td>\n",
       "      <td>0.000000</td>\n",
       "      <td>0.000000</td>\n",
       "      <td>...</td>\n",
       "      <td>0.000000</td>\n",
       "      <td>0.000000</td>\n",
       "      <td>0.000000</td>\n",
       "      <td>0.000851</td>\n",
       "      <td>0.000000</td>\n",
       "      <td>0.000851</td>\n",
       "      <td>0.000851</td>\n",
       "      <td>0.000000</td>\n",
       "      <td>0.000000</td>\n",
       "      <td>0.001702</td>\n",
       "    </tr>\n",
       "    <tr>\n",
       "      <th>CON</th>\n",
       "      <td>0.093012</td>\n",
       "      <td>0.038744</td>\n",
       "      <td>0.000407</td>\n",
       "      <td>0.039966</td>\n",
       "      <td>0.000000</td>\n",
       "      <td>0.012311</td>\n",
       "      <td>0.024305</td>\n",
       "      <td>0.006427</td>\n",
       "      <td>0.000000</td>\n",
       "      <td>0.000000</td>\n",
       "      <td>...</td>\n",
       "      <td>0.000045</td>\n",
       "      <td>0.000091</td>\n",
       "      <td>0.000045</td>\n",
       "      <td>0.183987</td>\n",
       "      <td>0.000498</td>\n",
       "      <td>0.024803</td>\n",
       "      <td>0.000136</td>\n",
       "      <td>0.017742</td>\n",
       "      <td>0.000996</td>\n",
       "      <td>0.026885</td>\n",
       "    </tr>\n",
       "    <tr>\n",
       "      <th>DEFAULT</th>\n",
       "      <td>0.000000</td>\n",
       "      <td>0.050000</td>\n",
       "      <td>0.000000</td>\n",
       "      <td>0.050000</td>\n",
       "      <td>0.000000</td>\n",
       "      <td>0.100000</td>\n",
       "      <td>0.000000</td>\n",
       "      <td>0.000000</td>\n",
       "      <td>0.000000</td>\n",
       "      <td>0.000000</td>\n",
       "      <td>...</td>\n",
       "      <td>0.000000</td>\n",
       "      <td>0.000000</td>\n",
       "      <td>0.000000</td>\n",
       "      <td>0.050000</td>\n",
       "      <td>0.000000</td>\n",
       "      <td>0.100000</td>\n",
       "      <td>0.000000</td>\n",
       "      <td>0.000000</td>\n",
       "      <td>0.000000</td>\n",
       "      <td>0.000000</td>\n",
       "    </tr>\n",
       "    <tr>\n",
       "      <th>DELM</th>\n",
       "      <td>0.033315</td>\n",
       "      <td>0.018341</td>\n",
       "      <td>0.007700</td>\n",
       "      <td>0.057924</td>\n",
       "      <td>0.000077</td>\n",
       "      <td>0.043182</td>\n",
       "      <td>0.008513</td>\n",
       "      <td>0.002554</td>\n",
       "      <td>0.000039</td>\n",
       "      <td>0.000039</td>\n",
       "      <td>...</td>\n",
       "      <td>0.000000</td>\n",
       "      <td>0.000271</td>\n",
       "      <td>0.000077</td>\n",
       "      <td>0.061407</td>\n",
       "      <td>0.000310</td>\n",
       "      <td>0.009325</td>\n",
       "      <td>0.000929</td>\n",
       "      <td>0.004721</td>\n",
       "      <td>0.000310</td>\n",
       "      <td>0.013581</td>\n",
       "    </tr>\n",
       "    <tr>\n",
       "      <th>DET</th>\n",
       "      <td>0.002906</td>\n",
       "      <td>0.000000</td>\n",
       "      <td>0.000000</td>\n",
       "      <td>0.012833</td>\n",
       "      <td>0.000000</td>\n",
       "      <td>0.000969</td>\n",
       "      <td>0.000242</td>\n",
       "      <td>0.000000</td>\n",
       "      <td>0.000000</td>\n",
       "      <td>0.000000</td>\n",
       "      <td>...</td>\n",
       "      <td>0.000000</td>\n",
       "      <td>0.000000</td>\n",
       "      <td>0.000000</td>\n",
       "      <td>0.002906</td>\n",
       "      <td>0.001453</td>\n",
       "      <td>0.001211</td>\n",
       "      <td>0.000000</td>\n",
       "      <td>0.000242</td>\n",
       "      <td>0.019128</td>\n",
       "      <td>0.008717</td>\n",
       "    </tr>\n",
       "    <tr>\n",
       "      <th>IF</th>\n",
       "      <td>0.055556</td>\n",
       "      <td>0.020202</td>\n",
       "      <td>0.000000</td>\n",
       "      <td>0.010101</td>\n",
       "      <td>0.000000</td>\n",
       "      <td>0.002525</td>\n",
       "      <td>0.042929</td>\n",
       "      <td>0.002525</td>\n",
       "      <td>0.000000</td>\n",
       "      <td>0.000000</td>\n",
       "      <td>...</td>\n",
       "      <td>0.000000</td>\n",
       "      <td>0.000000</td>\n",
       "      <td>0.000000</td>\n",
       "      <td>0.136364</td>\n",
       "      <td>0.000000</td>\n",
       "      <td>0.025253</td>\n",
       "      <td>0.000000</td>\n",
       "      <td>0.022727</td>\n",
       "      <td>0.002525</td>\n",
       "      <td>0.060606</td>\n",
       "    </tr>\n",
       "    <tr>\n",
       "      <th>INT</th>\n",
       "      <td>0.000000</td>\n",
       "      <td>0.000000</td>\n",
       "      <td>0.000000</td>\n",
       "      <td>0.000000</td>\n",
       "      <td>0.000000</td>\n",
       "      <td>1.000000</td>\n",
       "      <td>0.000000</td>\n",
       "      <td>0.000000</td>\n",
       "      <td>0.000000</td>\n",
       "      <td>0.000000</td>\n",
       "      <td>...</td>\n",
       "      <td>0.000000</td>\n",
       "      <td>0.000000</td>\n",
       "      <td>0.000000</td>\n",
       "      <td>0.000000</td>\n",
       "      <td>0.000000</td>\n",
       "      <td>0.000000</td>\n",
       "      <td>0.000000</td>\n",
       "      <td>0.000000</td>\n",
       "      <td>0.000000</td>\n",
       "      <td>0.000000</td>\n",
       "    </tr>\n",
       "    <tr>\n",
       "      <th>MORP</th>\n",
       "      <td>0.030303</td>\n",
       "      <td>0.007576</td>\n",
       "      <td>0.000000</td>\n",
       "      <td>0.083333</td>\n",
       "      <td>0.000000</td>\n",
       "      <td>0.090909</td>\n",
       "      <td>0.000000</td>\n",
       "      <td>0.000000</td>\n",
       "      <td>0.000000</td>\n",
       "      <td>0.000000</td>\n",
       "      <td>...</td>\n",
       "      <td>0.000000</td>\n",
       "      <td>0.000000</td>\n",
       "      <td>0.000000</td>\n",
       "      <td>0.333333</td>\n",
       "      <td>0.000000</td>\n",
       "      <td>0.007576</td>\n",
       "      <td>0.000000</td>\n",
       "      <td>0.015152</td>\n",
       "      <td>0.000000</td>\n",
       "      <td>0.128788</td>\n",
       "    </tr>\n",
       "    <tr>\n",
       "      <th>MQUA</th>\n",
       "      <td>0.000000</td>\n",
       "      <td>0.000000</td>\n",
       "      <td>0.000000</td>\n",
       "      <td>0.012346</td>\n",
       "      <td>0.000000</td>\n",
       "      <td>0.000000</td>\n",
       "      <td>0.000000</td>\n",
       "      <td>0.000000</td>\n",
       "      <td>0.000000</td>\n",
       "      <td>0.000000</td>\n",
       "      <td>...</td>\n",
       "      <td>0.000000</td>\n",
       "      <td>0.000000</td>\n",
       "      <td>0.000000</td>\n",
       "      <td>0.098765</td>\n",
       "      <td>0.000000</td>\n",
       "      <td>0.012346</td>\n",
       "      <td>0.000000</td>\n",
       "      <td>0.074074</td>\n",
       "      <td>0.000000</td>\n",
       "      <td>0.000000</td>\n",
       "    </tr>\n",
       "    <tr>\n",
       "      <th>MS</th>\n",
       "      <td>0.146465</td>\n",
       "      <td>0.005051</td>\n",
       "      <td>0.000000</td>\n",
       "      <td>0.080808</td>\n",
       "      <td>0.000000</td>\n",
       "      <td>0.353535</td>\n",
       "      <td>0.000000</td>\n",
       "      <td>0.000000</td>\n",
       "      <td>0.000000</td>\n",
       "      <td>0.000000</td>\n",
       "      <td>...</td>\n",
       "      <td>0.000000</td>\n",
       "      <td>0.000000</td>\n",
       "      <td>0.000000</td>\n",
       "      <td>0.090909</td>\n",
       "      <td>0.005051</td>\n",
       "      <td>0.000000</td>\n",
       "      <td>0.000000</td>\n",
       "      <td>0.000000</td>\n",
       "      <td>0.000000</td>\n",
       "      <td>0.085859</td>\n",
       "    </tr>\n",
       "    <tr>\n",
       "      <th>N</th>\n",
       "      <td>0.200293</td>\n",
       "      <td>0.008956</td>\n",
       "      <td>0.000146</td>\n",
       "      <td>0.073250</td>\n",
       "      <td>0.000037</td>\n",
       "      <td>0.085024</td>\n",
       "      <td>0.008407</td>\n",
       "      <td>0.000174</td>\n",
       "      <td>0.000000</td>\n",
       "      <td>0.001098</td>\n",
       "      <td>...</td>\n",
       "      <td>0.000000</td>\n",
       "      <td>0.000009</td>\n",
       "      <td>0.000000</td>\n",
       "      <td>0.124801</td>\n",
       "      <td>0.000183</td>\n",
       "      <td>0.020401</td>\n",
       "      <td>0.000000</td>\n",
       "      <td>0.004117</td>\n",
       "      <td>0.000842</td>\n",
       "      <td>0.109706</td>\n",
       "    </tr>\n",
       "    <tr>\n",
       "      <th>NP</th>\n",
       "      <td>0.100000</td>\n",
       "      <td>0.000000</td>\n",
       "      <td>0.000000</td>\n",
       "      <td>0.400000</td>\n",
       "      <td>0.000000</td>\n",
       "      <td>0.000000</td>\n",
       "      <td>0.000000</td>\n",
       "      <td>0.000000</td>\n",
       "      <td>0.000000</td>\n",
       "      <td>0.000000</td>\n",
       "      <td>...</td>\n",
       "      <td>0.000000</td>\n",
       "      <td>0.000000</td>\n",
       "      <td>0.000000</td>\n",
       "      <td>0.100000</td>\n",
       "      <td>0.000000</td>\n",
       "      <td>0.000000</td>\n",
       "      <td>0.000000</td>\n",
       "      <td>0.000000</td>\n",
       "      <td>0.000000</td>\n",
       "      <td>0.100000</td>\n",
       "    </tr>\n",
       "    <tr>\n",
       "      <th>OH</th>\n",
       "      <td>0.000000</td>\n",
       "      <td>0.000000</td>\n",
       "      <td>0.000000</td>\n",
       "      <td>0.000000</td>\n",
       "      <td>0.000000</td>\n",
       "      <td>0.000000</td>\n",
       "      <td>0.000000</td>\n",
       "      <td>0.000000</td>\n",
       "      <td>0.000000</td>\n",
       "      <td>0.000000</td>\n",
       "      <td>...</td>\n",
       "      <td>0.000000</td>\n",
       "      <td>0.000000</td>\n",
       "      <td>0.000000</td>\n",
       "      <td>0.000000</td>\n",
       "      <td>0.000000</td>\n",
       "      <td>0.000000</td>\n",
       "      <td>0.000000</td>\n",
       "      <td>0.000000</td>\n",
       "      <td>0.000000</td>\n",
       "      <td>0.000000</td>\n",
       "    </tr>\n",
       "    <tr>\n",
       "      <th>OHH</th>\n",
       "      <td>0.000000</td>\n",
       "      <td>0.000000</td>\n",
       "      <td>0.000000</td>\n",
       "      <td>0.000000</td>\n",
       "      <td>0.000000</td>\n",
       "      <td>0.200000</td>\n",
       "      <td>0.000000</td>\n",
       "      <td>0.000000</td>\n",
       "      <td>0.000000</td>\n",
       "      <td>0.000000</td>\n",
       "      <td>...</td>\n",
       "      <td>0.000000</td>\n",
       "      <td>0.000000</td>\n",
       "      <td>0.000000</td>\n",
       "      <td>0.000000</td>\n",
       "      <td>0.000000</td>\n",
       "      <td>0.600000</td>\n",
       "      <td>0.000000</td>\n",
       "      <td>0.000000</td>\n",
       "      <td>0.000000</td>\n",
       "      <td>0.000000</td>\n",
       "    </tr>\n",
       "    <tr>\n",
       "      <th>P</th>\n",
       "      <td>0.024187</td>\n",
       "      <td>0.006077</td>\n",
       "      <td>0.000092</td>\n",
       "      <td>0.005832</td>\n",
       "      <td>0.000000</td>\n",
       "      <td>0.004850</td>\n",
       "      <td>0.049662</td>\n",
       "      <td>0.000031</td>\n",
       "      <td>0.000000</td>\n",
       "      <td>0.000000</td>\n",
       "      <td>...</td>\n",
       "      <td>0.000276</td>\n",
       "      <td>0.000000</td>\n",
       "      <td>0.000000</td>\n",
       "      <td>0.047729</td>\n",
       "      <td>0.000123</td>\n",
       "      <td>0.044966</td>\n",
       "      <td>0.000000</td>\n",
       "      <td>0.016083</td>\n",
       "      <td>0.001995</td>\n",
       "      <td>0.014119</td>\n",
       "    </tr>\n",
       "    <tr>\n",
       "      <th>PP</th>\n",
       "      <td>0.000000</td>\n",
       "      <td>0.000000</td>\n",
       "      <td>0.000000</td>\n",
       "      <td>0.000000</td>\n",
       "      <td>0.000000</td>\n",
       "      <td>0.000000</td>\n",
       "      <td>0.000000</td>\n",
       "      <td>0.000000</td>\n",
       "      <td>0.000000</td>\n",
       "      <td>0.011765</td>\n",
       "      <td>...</td>\n",
       "      <td>0.000000</td>\n",
       "      <td>0.000000</td>\n",
       "      <td>0.000000</td>\n",
       "      <td>0.011765</td>\n",
       "      <td>0.000000</td>\n",
       "      <td>0.023529</td>\n",
       "      <td>0.000000</td>\n",
       "      <td>0.058824</td>\n",
       "      <td>0.000000</td>\n",
       "      <td>0.176471</td>\n",
       "    </tr>\n",
       "    <tr>\n",
       "      <th>PRO</th>\n",
       "      <td>0.089954</td>\n",
       "      <td>0.022401</td>\n",
       "      <td>0.000175</td>\n",
       "      <td>0.097830</td>\n",
       "      <td>0.000000</td>\n",
       "      <td>0.034127</td>\n",
       "      <td>0.005775</td>\n",
       "      <td>0.000175</td>\n",
       "      <td>0.000000</td>\n",
       "      <td>0.000000</td>\n",
       "      <td>...</td>\n",
       "      <td>0.000000</td>\n",
       "      <td>0.000000</td>\n",
       "      <td>0.000000</td>\n",
       "      <td>0.321666</td>\n",
       "      <td>0.001925</td>\n",
       "      <td>0.011551</td>\n",
       "      <td>0.000000</td>\n",
       "      <td>0.004025</td>\n",
       "      <td>0.000350</td>\n",
       "      <td>0.145782</td>\n",
       "    </tr>\n",
       "    <tr>\n",
       "      <th>PS</th>\n",
       "      <td>0.000000</td>\n",
       "      <td>0.000000</td>\n",
       "      <td>0.000000</td>\n",
       "      <td>0.064516</td>\n",
       "      <td>0.000000</td>\n",
       "      <td>0.419355</td>\n",
       "      <td>0.000000</td>\n",
       "      <td>0.000000</td>\n",
       "      <td>0.000000</td>\n",
       "      <td>0.000000</td>\n",
       "      <td>...</td>\n",
       "      <td>0.000000</td>\n",
       "      <td>0.032258</td>\n",
       "      <td>0.000000</td>\n",
       "      <td>0.451613</td>\n",
       "      <td>0.000000</td>\n",
       "      <td>0.000000</td>\n",
       "      <td>0.000000</td>\n",
       "      <td>0.000000</td>\n",
       "      <td>0.000000</td>\n",
       "      <td>0.000000</td>\n",
       "    </tr>\n",
       "    <tr>\n",
       "      <th>QUA</th>\n",
       "      <td>0.003846</td>\n",
       "      <td>0.001099</td>\n",
       "      <td>0.000000</td>\n",
       "      <td>0.000000</td>\n",
       "      <td>0.000000</td>\n",
       "      <td>0.000549</td>\n",
       "      <td>0.015934</td>\n",
       "      <td>0.000000</td>\n",
       "      <td>0.000000</td>\n",
       "      <td>0.000549</td>\n",
       "      <td>...</td>\n",
       "      <td>0.000000</td>\n",
       "      <td>0.000000</td>\n",
       "      <td>0.000000</td>\n",
       "      <td>0.116484</td>\n",
       "      <td>0.000000</td>\n",
       "      <td>0.015934</td>\n",
       "      <td>0.000000</td>\n",
       "      <td>0.000549</td>\n",
       "      <td>0.029670</td>\n",
       "      <td>0.001099</td>\n",
       "    </tr>\n",
       "    <tr>\n",
       "      <th>SPEC</th>\n",
       "      <td>0.020000</td>\n",
       "      <td>0.000000</td>\n",
       "      <td>0.000000</td>\n",
       "      <td>0.000000</td>\n",
       "      <td>0.000000</td>\n",
       "      <td>0.000000</td>\n",
       "      <td>0.000000</td>\n",
       "      <td>0.000000</td>\n",
       "      <td>0.000000</td>\n",
       "      <td>0.000000</td>\n",
       "      <td>...</td>\n",
       "      <td>0.000000</td>\n",
       "      <td>0.000000</td>\n",
       "      <td>0.000000</td>\n",
       "      <td>0.002857</td>\n",
       "      <td>0.000000</td>\n",
       "      <td>0.002857</td>\n",
       "      <td>0.000000</td>\n",
       "      <td>0.000000</td>\n",
       "      <td>0.000000</td>\n",
       "      <td>0.002857</td>\n",
       "    </tr>\n",
       "    <tr>\n",
       "      <th>V</th>\n",
       "      <td>0.011556</td>\n",
       "      <td>0.010167</td>\n",
       "      <td>0.000314</td>\n",
       "      <td>0.286335</td>\n",
       "      <td>0.000000</td>\n",
       "      <td>0.502486</td>\n",
       "      <td>0.004837</td>\n",
       "      <td>0.001120</td>\n",
       "      <td>0.000000</td>\n",
       "      <td>0.000000</td>\n",
       "      <td>...</td>\n",
       "      <td>0.000000</td>\n",
       "      <td>0.000045</td>\n",
       "      <td>0.000045</td>\n",
       "      <td>0.069915</td>\n",
       "      <td>0.000403</td>\n",
       "      <td>0.006494</td>\n",
       "      <td>0.000045</td>\n",
       "      <td>0.002508</td>\n",
       "      <td>0.000179</td>\n",
       "      <td>0.032606</td>\n",
       "    </tr>\n",
       "  </tbody>\n",
       "</table>\n",
       "<p>24 rows × 23 columns</p>\n",
       "</div>"
      ],
      "text/plain": [
       "              ADJ       ADV        AR       CON   DEFAULT      DELM       DET  \\\n",
       "<S>      0.021096  0.038867  0.000344  0.104449  0.001490  0.082091  0.043797   \n",
       "ADJ      0.085981  0.011732  0.000000  0.115581  0.000034  0.080853  0.006604   \n",
       "ADV      0.172518  0.022490  0.000000  0.027153  0.000000  0.041141  0.018925   \n",
       "AR       0.001702  0.000000  0.797447  0.012766  0.000000  0.175319  0.000000   \n",
       "CON      0.093012  0.038744  0.000407  0.039966  0.000000  0.012311  0.024305   \n",
       "DEFAULT  0.000000  0.050000  0.000000  0.050000  0.000000  0.100000  0.000000   \n",
       "DELM     0.033315  0.018341  0.007700  0.057924  0.000077  0.043182  0.008513   \n",
       "DET      0.002906  0.000000  0.000000  0.012833  0.000000  0.000969  0.000242   \n",
       "IF       0.055556  0.020202  0.000000  0.010101  0.000000  0.002525  0.042929   \n",
       "INT      0.000000  0.000000  0.000000  0.000000  0.000000  1.000000  0.000000   \n",
       "MORP     0.030303  0.007576  0.000000  0.083333  0.000000  0.090909  0.000000   \n",
       "MQUA     0.000000  0.000000  0.000000  0.012346  0.000000  0.000000  0.000000   \n",
       "MS       0.146465  0.005051  0.000000  0.080808  0.000000  0.353535  0.000000   \n",
       "N        0.200293  0.008956  0.000146  0.073250  0.000037  0.085024  0.008407   \n",
       "NP       0.100000  0.000000  0.000000  0.400000  0.000000  0.000000  0.000000   \n",
       "OH       0.000000  0.000000  0.000000  0.000000  0.000000  0.000000  0.000000   \n",
       "OHH      0.000000  0.000000  0.000000  0.000000  0.000000  0.200000  0.000000   \n",
       "P        0.024187  0.006077  0.000092  0.005832  0.000000  0.004850  0.049662   \n",
       "PP       0.000000  0.000000  0.000000  0.000000  0.000000  0.000000  0.000000   \n",
       "PRO      0.089954  0.022401  0.000175  0.097830  0.000000  0.034127  0.005775   \n",
       "PS       0.000000  0.000000  0.000000  0.064516  0.000000  0.419355  0.000000   \n",
       "QUA      0.003846  0.001099  0.000000  0.000000  0.000000  0.000549  0.015934   \n",
       "SPEC     0.020000  0.000000  0.000000  0.000000  0.000000  0.000000  0.000000   \n",
       "V        0.011556  0.010167  0.000314  0.286335  0.000000  0.502486  0.004837   \n",
       "\n",
       "               IF       INT      MORP  ...        NP        OH       OHH  \\\n",
       "<S>      0.012153  0.000115  0.000000  ...  0.000000  0.000000  0.000115   \n",
       "ADJ      0.000503  0.000000  0.000302  ...  0.000000  0.000000  0.000000   \n",
       "ADV      0.005485  0.000000  0.000000  ...  0.000000  0.000000  0.000000   \n",
       "AR       0.000000  0.000000  0.000000  ...  0.000000  0.000000  0.000000   \n",
       "CON      0.006427  0.000000  0.000000  ...  0.000045  0.000091  0.000045   \n",
       "DEFAULT  0.000000  0.000000  0.000000  ...  0.000000  0.000000  0.000000   \n",
       "DELM     0.002554  0.000039  0.000039  ...  0.000000  0.000271  0.000077   \n",
       "DET      0.000000  0.000000  0.000000  ...  0.000000  0.000000  0.000000   \n",
       "IF       0.002525  0.000000  0.000000  ...  0.000000  0.000000  0.000000   \n",
       "INT      0.000000  0.000000  0.000000  ...  0.000000  0.000000  0.000000   \n",
       "MORP     0.000000  0.000000  0.000000  ...  0.000000  0.000000  0.000000   \n",
       "MQUA     0.000000  0.000000  0.000000  ...  0.000000  0.000000  0.000000   \n",
       "MS       0.000000  0.000000  0.000000  ...  0.000000  0.000000  0.000000   \n",
       "N        0.000174  0.000000  0.001098  ...  0.000000  0.000009  0.000000   \n",
       "NP       0.000000  0.000000  0.000000  ...  0.000000  0.000000  0.000000   \n",
       "OH       0.000000  0.000000  0.000000  ...  0.000000  0.000000  0.000000   \n",
       "OHH      0.000000  0.000000  0.000000  ...  0.000000  0.000000  0.000000   \n",
       "P        0.000031  0.000000  0.000000  ...  0.000276  0.000000  0.000000   \n",
       "PP       0.000000  0.000000  0.011765  ...  0.000000  0.000000  0.000000   \n",
       "PRO      0.000175  0.000000  0.000000  ...  0.000000  0.000000  0.000000   \n",
       "PS       0.000000  0.000000  0.000000  ...  0.000000  0.032258  0.000000   \n",
       "QUA      0.000000  0.000000  0.000549  ...  0.000000  0.000000  0.000000   \n",
       "SPEC     0.000000  0.000000  0.000000  ...  0.000000  0.000000  0.000000   \n",
       "V        0.001120  0.000000  0.000000  ...  0.000000  0.000045  0.000045   \n",
       "\n",
       "                P        PP       PRO        PS       QUA      SPEC         V  \n",
       "<S>      0.175533  0.000917  0.039555  0.000229  0.011121  0.001032  0.007108  \n",
       "ADJ      0.189528  0.000201  0.017800  0.000000  0.003553  0.000402  0.233072  \n",
       "ADV      0.213933  0.000274  0.024136  0.000000  0.007131  0.000549  0.065551  \n",
       "AR       0.000851  0.000000  0.000851  0.000851  0.000000  0.000000  0.001702  \n",
       "CON      0.183987  0.000498  0.024803  0.000136  0.017742  0.000996  0.026885  \n",
       "DEFAULT  0.050000  0.000000  0.100000  0.000000  0.000000  0.000000  0.000000  \n",
       "DELM     0.061407  0.000310  0.009325  0.000929  0.004721  0.000310  0.013581  \n",
       "DET      0.002906  0.001453  0.001211  0.000000  0.000242  0.019128  0.008717  \n",
       "IF       0.136364  0.000000  0.025253  0.000000  0.022727  0.002525  0.060606  \n",
       "INT      0.000000  0.000000  0.000000  0.000000  0.000000  0.000000  0.000000  \n",
       "MORP     0.333333  0.000000  0.007576  0.000000  0.015152  0.000000  0.128788  \n",
       "MQUA     0.098765  0.000000  0.012346  0.000000  0.074074  0.000000  0.000000  \n",
       "MS       0.090909  0.005051  0.000000  0.000000  0.000000  0.000000  0.085859  \n",
       "N        0.124801  0.000183  0.020401  0.000000  0.004117  0.000842  0.109706  \n",
       "NP       0.100000  0.000000  0.000000  0.000000  0.000000  0.000000  0.100000  \n",
       "OH       0.000000  0.000000  0.000000  0.000000  0.000000  0.000000  0.000000  \n",
       "OHH      0.000000  0.000000  0.600000  0.000000  0.000000  0.000000  0.000000  \n",
       "P        0.047729  0.000123  0.044966  0.000000  0.016083  0.001995  0.014119  \n",
       "PP       0.011765  0.000000  0.023529  0.000000  0.058824  0.000000  0.176471  \n",
       "PRO      0.321666  0.001925  0.011551  0.000000  0.004025  0.000350  0.145782  \n",
       "PS       0.451613  0.000000  0.000000  0.000000  0.000000  0.000000  0.000000  \n",
       "QUA      0.116484  0.000000  0.015934  0.000000  0.000549  0.029670  0.001099  \n",
       "SPEC     0.002857  0.000000  0.002857  0.000000  0.000000  0.000000  0.002857  \n",
       "V        0.069915  0.000403  0.006494  0.000045  0.002508  0.000179  0.032606  \n",
       "\n",
       "[24 rows x 23 columns]"
      ]
     },
     "metadata": {},
     "output_type": "display_data"
    }
   ],
   "source": [
    "tags_df1 = pd.DataFrame(x, columns = list(all_tags1), index=list(all_tags))\n",
    "display(tags_df1)"
   ]
  },
  {
   "cell_type": "code",
   "execution_count": 21,
   "metadata": {},
   "outputs": [
    {
     "data": {
      "text/html": [
       "<div>\n",
       "<style scoped>\n",
       "    .dataframe tbody tr th:only-of-type {\n",
       "        vertical-align: middle;\n",
       "    }\n",
       "\n",
       "    .dataframe tbody tr th {\n",
       "        vertical-align: top;\n",
       "    }\n",
       "\n",
       "    .dataframe thead th {\n",
       "        text-align: right;\n",
       "    }\n",
       "</style>\n",
       "<table border=\"1\" class=\"dataframe\">\n",
       "  <thead>\n",
       "    <tr style=\"text-align: right;\">\n",
       "      <th></th>\n",
       "      <th>&lt;S&gt;</th>\n",
       "      <th>ADJ</th>\n",
       "      <th>ADV</th>\n",
       "      <th>AR</th>\n",
       "      <th>CON</th>\n",
       "      <th>DEFAULT</th>\n",
       "      <th>DELM</th>\n",
       "      <th>DET</th>\n",
       "      <th>IF</th>\n",
       "      <th>INT</th>\n",
       "      <th>...</th>\n",
       "      <th>NP</th>\n",
       "      <th>OH</th>\n",
       "      <th>OHH</th>\n",
       "      <th>P</th>\n",
       "      <th>PP</th>\n",
       "      <th>PRO</th>\n",
       "      <th>PS</th>\n",
       "      <th>QUA</th>\n",
       "      <th>SPEC</th>\n",
       "      <th>V</th>\n",
       "    </tr>\n",
       "  </thead>\n",
       "  <tbody>\n",
       "    <tr>\n",
       "      <th>&lt;S&gt;</th>\n",
       "      <td>0.000000</td>\n",
       "      <td>0.021096</td>\n",
       "      <td>0.038867</td>\n",
       "      <td>0.000344</td>\n",
       "      <td>0.104449</td>\n",
       "      <td>0.001490</td>\n",
       "      <td>0.082091</td>\n",
       "      <td>0.043797</td>\n",
       "      <td>0.012153</td>\n",
       "      <td>0.000115</td>\n",
       "      <td>...</td>\n",
       "      <td>0.000000</td>\n",
       "      <td>0.000000</td>\n",
       "      <td>0.000115</td>\n",
       "      <td>0.175533</td>\n",
       "      <td>0.000917</td>\n",
       "      <td>0.039555</td>\n",
       "      <td>0.000229</td>\n",
       "      <td>0.011121</td>\n",
       "      <td>0.001032</td>\n",
       "      <td>0.007108</td>\n",
       "    </tr>\n",
       "    <tr>\n",
       "      <th>ADJ</th>\n",
       "      <td>0.000000</td>\n",
       "      <td>0.085981</td>\n",
       "      <td>0.011732</td>\n",
       "      <td>0.000000</td>\n",
       "      <td>0.115581</td>\n",
       "      <td>0.000034</td>\n",
       "      <td>0.080853</td>\n",
       "      <td>0.006604</td>\n",
       "      <td>0.000503</td>\n",
       "      <td>0.000000</td>\n",
       "      <td>...</td>\n",
       "      <td>0.000000</td>\n",
       "      <td>0.000000</td>\n",
       "      <td>0.000000</td>\n",
       "      <td>0.189528</td>\n",
       "      <td>0.000201</td>\n",
       "      <td>0.017800</td>\n",
       "      <td>0.000000</td>\n",
       "      <td>0.003553</td>\n",
       "      <td>0.000402</td>\n",
       "      <td>0.233072</td>\n",
       "    </tr>\n",
       "    <tr>\n",
       "      <th>ADV</th>\n",
       "      <td>0.000000</td>\n",
       "      <td>0.172518</td>\n",
       "      <td>0.022490</td>\n",
       "      <td>0.000000</td>\n",
       "      <td>0.027153</td>\n",
       "      <td>0.000000</td>\n",
       "      <td>0.041141</td>\n",
       "      <td>0.018925</td>\n",
       "      <td>0.005485</td>\n",
       "      <td>0.000000</td>\n",
       "      <td>...</td>\n",
       "      <td>0.000000</td>\n",
       "      <td>0.000000</td>\n",
       "      <td>0.000000</td>\n",
       "      <td>0.213933</td>\n",
       "      <td>0.000274</td>\n",
       "      <td>0.024136</td>\n",
       "      <td>0.000000</td>\n",
       "      <td>0.007131</td>\n",
       "      <td>0.000549</td>\n",
       "      <td>0.065551</td>\n",
       "    </tr>\n",
       "    <tr>\n",
       "      <th>AR</th>\n",
       "      <td>0.000000</td>\n",
       "      <td>0.001702</td>\n",
       "      <td>0.000000</td>\n",
       "      <td>0.797447</td>\n",
       "      <td>0.012766</td>\n",
       "      <td>0.000000</td>\n",
       "      <td>0.175319</td>\n",
       "      <td>0.000000</td>\n",
       "      <td>0.000000</td>\n",
       "      <td>0.000000</td>\n",
       "      <td>...</td>\n",
       "      <td>0.000000</td>\n",
       "      <td>0.000000</td>\n",
       "      <td>0.000000</td>\n",
       "      <td>0.000851</td>\n",
       "      <td>0.000000</td>\n",
       "      <td>0.000851</td>\n",
       "      <td>0.000851</td>\n",
       "      <td>0.000000</td>\n",
       "      <td>0.000000</td>\n",
       "      <td>0.001702</td>\n",
       "    </tr>\n",
       "    <tr>\n",
       "      <th>CON</th>\n",
       "      <td>0.000000</td>\n",
       "      <td>0.093012</td>\n",
       "      <td>0.038744</td>\n",
       "      <td>0.000407</td>\n",
       "      <td>0.039966</td>\n",
       "      <td>0.000000</td>\n",
       "      <td>0.012311</td>\n",
       "      <td>0.024305</td>\n",
       "      <td>0.006427</td>\n",
       "      <td>0.000000</td>\n",
       "      <td>...</td>\n",
       "      <td>0.000045</td>\n",
       "      <td>0.000091</td>\n",
       "      <td>0.000045</td>\n",
       "      <td>0.183987</td>\n",
       "      <td>0.000498</td>\n",
       "      <td>0.024803</td>\n",
       "      <td>0.000136</td>\n",
       "      <td>0.017742</td>\n",
       "      <td>0.000996</td>\n",
       "      <td>0.026885</td>\n",
       "    </tr>\n",
       "    <tr>\n",
       "      <th>DEFAULT</th>\n",
       "      <td>0.000000</td>\n",
       "      <td>0.000000</td>\n",
       "      <td>0.050000</td>\n",
       "      <td>0.000000</td>\n",
       "      <td>0.050000</td>\n",
       "      <td>0.000000</td>\n",
       "      <td>0.100000</td>\n",
       "      <td>0.000000</td>\n",
       "      <td>0.000000</td>\n",
       "      <td>0.000000</td>\n",
       "      <td>...</td>\n",
       "      <td>0.000000</td>\n",
       "      <td>0.000000</td>\n",
       "      <td>0.000000</td>\n",
       "      <td>0.050000</td>\n",
       "      <td>0.000000</td>\n",
       "      <td>0.100000</td>\n",
       "      <td>0.000000</td>\n",
       "      <td>0.000000</td>\n",
       "      <td>0.000000</td>\n",
       "      <td>0.000000</td>\n",
       "    </tr>\n",
       "    <tr>\n",
       "      <th>DELM</th>\n",
       "      <td>0.337448</td>\n",
       "      <td>0.033315</td>\n",
       "      <td>0.018341</td>\n",
       "      <td>0.007700</td>\n",
       "      <td>0.057924</td>\n",
       "      <td>0.000077</td>\n",
       "      <td>0.043182</td>\n",
       "      <td>0.008513</td>\n",
       "      <td>0.002554</td>\n",
       "      <td>0.000039</td>\n",
       "      <td>...</td>\n",
       "      <td>0.000000</td>\n",
       "      <td>0.000271</td>\n",
       "      <td>0.000077</td>\n",
       "      <td>0.061407</td>\n",
       "      <td>0.000310</td>\n",
       "      <td>0.009325</td>\n",
       "      <td>0.000929</td>\n",
       "      <td>0.004721</td>\n",
       "      <td>0.000310</td>\n",
       "      <td>0.013581</td>\n",
       "    </tr>\n",
       "    <tr>\n",
       "      <th>DET</th>\n",
       "      <td>0.000000</td>\n",
       "      <td>0.002906</td>\n",
       "      <td>0.000000</td>\n",
       "      <td>0.000000</td>\n",
       "      <td>0.012833</td>\n",
       "      <td>0.000000</td>\n",
       "      <td>0.000969</td>\n",
       "      <td>0.000242</td>\n",
       "      <td>0.000000</td>\n",
       "      <td>0.000000</td>\n",
       "      <td>...</td>\n",
       "      <td>0.000000</td>\n",
       "      <td>0.000000</td>\n",
       "      <td>0.000000</td>\n",
       "      <td>0.002906</td>\n",
       "      <td>0.001453</td>\n",
       "      <td>0.001211</td>\n",
       "      <td>0.000000</td>\n",
       "      <td>0.000242</td>\n",
       "      <td>0.019128</td>\n",
       "      <td>0.008717</td>\n",
       "    </tr>\n",
       "    <tr>\n",
       "      <th>IF</th>\n",
       "      <td>0.000000</td>\n",
       "      <td>0.055556</td>\n",
       "      <td>0.020202</td>\n",
       "      <td>0.000000</td>\n",
       "      <td>0.010101</td>\n",
       "      <td>0.000000</td>\n",
       "      <td>0.002525</td>\n",
       "      <td>0.042929</td>\n",
       "      <td>0.002525</td>\n",
       "      <td>0.000000</td>\n",
       "      <td>...</td>\n",
       "      <td>0.000000</td>\n",
       "      <td>0.000000</td>\n",
       "      <td>0.000000</td>\n",
       "      <td>0.136364</td>\n",
       "      <td>0.000000</td>\n",
       "      <td>0.025253</td>\n",
       "      <td>0.000000</td>\n",
       "      <td>0.022727</td>\n",
       "      <td>0.002525</td>\n",
       "      <td>0.060606</td>\n",
       "    </tr>\n",
       "    <tr>\n",
       "      <th>INT</th>\n",
       "      <td>0.000000</td>\n",
       "      <td>0.000000</td>\n",
       "      <td>0.000000</td>\n",
       "      <td>0.000000</td>\n",
       "      <td>0.000000</td>\n",
       "      <td>0.000000</td>\n",
       "      <td>1.000000</td>\n",
       "      <td>0.000000</td>\n",
       "      <td>0.000000</td>\n",
       "      <td>0.000000</td>\n",
       "      <td>...</td>\n",
       "      <td>0.000000</td>\n",
       "      <td>0.000000</td>\n",
       "      <td>0.000000</td>\n",
       "      <td>0.000000</td>\n",
       "      <td>0.000000</td>\n",
       "      <td>0.000000</td>\n",
       "      <td>0.000000</td>\n",
       "      <td>0.000000</td>\n",
       "      <td>0.000000</td>\n",
       "      <td>0.000000</td>\n",
       "    </tr>\n",
       "    <tr>\n",
       "      <th>MORP</th>\n",
       "      <td>0.000000</td>\n",
       "      <td>0.030303</td>\n",
       "      <td>0.007576</td>\n",
       "      <td>0.000000</td>\n",
       "      <td>0.083333</td>\n",
       "      <td>0.000000</td>\n",
       "      <td>0.090909</td>\n",
       "      <td>0.000000</td>\n",
       "      <td>0.000000</td>\n",
       "      <td>0.000000</td>\n",
       "      <td>...</td>\n",
       "      <td>0.000000</td>\n",
       "      <td>0.000000</td>\n",
       "      <td>0.000000</td>\n",
       "      <td>0.333333</td>\n",
       "      <td>0.000000</td>\n",
       "      <td>0.007576</td>\n",
       "      <td>0.000000</td>\n",
       "      <td>0.015152</td>\n",
       "      <td>0.000000</td>\n",
       "      <td>0.128788</td>\n",
       "    </tr>\n",
       "    <tr>\n",
       "      <th>MQUA</th>\n",
       "      <td>0.000000</td>\n",
       "      <td>0.000000</td>\n",
       "      <td>0.000000</td>\n",
       "      <td>0.000000</td>\n",
       "      <td>0.012346</td>\n",
       "      <td>0.000000</td>\n",
       "      <td>0.000000</td>\n",
       "      <td>0.000000</td>\n",
       "      <td>0.000000</td>\n",
       "      <td>0.000000</td>\n",
       "      <td>...</td>\n",
       "      <td>0.000000</td>\n",
       "      <td>0.000000</td>\n",
       "      <td>0.000000</td>\n",
       "      <td>0.098765</td>\n",
       "      <td>0.000000</td>\n",
       "      <td>0.012346</td>\n",
       "      <td>0.000000</td>\n",
       "      <td>0.074074</td>\n",
       "      <td>0.000000</td>\n",
       "      <td>0.000000</td>\n",
       "    </tr>\n",
       "    <tr>\n",
       "      <th>MS</th>\n",
       "      <td>0.000000</td>\n",
       "      <td>0.146465</td>\n",
       "      <td>0.005051</td>\n",
       "      <td>0.000000</td>\n",
       "      <td>0.080808</td>\n",
       "      <td>0.000000</td>\n",
       "      <td>0.353535</td>\n",
       "      <td>0.000000</td>\n",
       "      <td>0.000000</td>\n",
       "      <td>0.000000</td>\n",
       "      <td>...</td>\n",
       "      <td>0.000000</td>\n",
       "      <td>0.000000</td>\n",
       "      <td>0.000000</td>\n",
       "      <td>0.090909</td>\n",
       "      <td>0.005051</td>\n",
       "      <td>0.000000</td>\n",
       "      <td>0.000000</td>\n",
       "      <td>0.000000</td>\n",
       "      <td>0.000000</td>\n",
       "      <td>0.085859</td>\n",
       "    </tr>\n",
       "    <tr>\n",
       "      <th>N</th>\n",
       "      <td>0.000000</td>\n",
       "      <td>0.200293</td>\n",
       "      <td>0.008956</td>\n",
       "      <td>0.000146</td>\n",
       "      <td>0.073250</td>\n",
       "      <td>0.000037</td>\n",
       "      <td>0.085024</td>\n",
       "      <td>0.008407</td>\n",
       "      <td>0.000174</td>\n",
       "      <td>0.000000</td>\n",
       "      <td>...</td>\n",
       "      <td>0.000000</td>\n",
       "      <td>0.000009</td>\n",
       "      <td>0.000000</td>\n",
       "      <td>0.124801</td>\n",
       "      <td>0.000183</td>\n",
       "      <td>0.020401</td>\n",
       "      <td>0.000000</td>\n",
       "      <td>0.004117</td>\n",
       "      <td>0.000842</td>\n",
       "      <td>0.109706</td>\n",
       "    </tr>\n",
       "    <tr>\n",
       "      <th>NP</th>\n",
       "      <td>0.000000</td>\n",
       "      <td>0.100000</td>\n",
       "      <td>0.000000</td>\n",
       "      <td>0.000000</td>\n",
       "      <td>0.400000</td>\n",
       "      <td>0.000000</td>\n",
       "      <td>0.000000</td>\n",
       "      <td>0.000000</td>\n",
       "      <td>0.000000</td>\n",
       "      <td>0.000000</td>\n",
       "      <td>...</td>\n",
       "      <td>0.000000</td>\n",
       "      <td>0.000000</td>\n",
       "      <td>0.000000</td>\n",
       "      <td>0.100000</td>\n",
       "      <td>0.000000</td>\n",
       "      <td>0.000000</td>\n",
       "      <td>0.000000</td>\n",
       "      <td>0.000000</td>\n",
       "      <td>0.000000</td>\n",
       "      <td>0.100000</td>\n",
       "    </tr>\n",
       "    <tr>\n",
       "      <th>OH</th>\n",
       "      <td>0.000000</td>\n",
       "      <td>0.000000</td>\n",
       "      <td>0.000000</td>\n",
       "      <td>0.000000</td>\n",
       "      <td>0.000000</td>\n",
       "      <td>0.000000</td>\n",
       "      <td>0.000000</td>\n",
       "      <td>0.000000</td>\n",
       "      <td>0.000000</td>\n",
       "      <td>0.000000</td>\n",
       "      <td>...</td>\n",
       "      <td>0.000000</td>\n",
       "      <td>0.000000</td>\n",
       "      <td>0.000000</td>\n",
       "      <td>0.000000</td>\n",
       "      <td>0.000000</td>\n",
       "      <td>0.000000</td>\n",
       "      <td>0.000000</td>\n",
       "      <td>0.000000</td>\n",
       "      <td>0.000000</td>\n",
       "      <td>0.000000</td>\n",
       "    </tr>\n",
       "    <tr>\n",
       "      <th>OHH</th>\n",
       "      <td>0.000000</td>\n",
       "      <td>0.000000</td>\n",
       "      <td>0.000000</td>\n",
       "      <td>0.000000</td>\n",
       "      <td>0.000000</td>\n",
       "      <td>0.000000</td>\n",
       "      <td>0.200000</td>\n",
       "      <td>0.000000</td>\n",
       "      <td>0.000000</td>\n",
       "      <td>0.000000</td>\n",
       "      <td>...</td>\n",
       "      <td>0.000000</td>\n",
       "      <td>0.000000</td>\n",
       "      <td>0.000000</td>\n",
       "      <td>0.000000</td>\n",
       "      <td>0.000000</td>\n",
       "      <td>0.600000</td>\n",
       "      <td>0.000000</td>\n",
       "      <td>0.000000</td>\n",
       "      <td>0.000000</td>\n",
       "      <td>0.000000</td>\n",
       "    </tr>\n",
       "    <tr>\n",
       "      <th>P</th>\n",
       "      <td>0.000000</td>\n",
       "      <td>0.024187</td>\n",
       "      <td>0.006077</td>\n",
       "      <td>0.000092</td>\n",
       "      <td>0.005832</td>\n",
       "      <td>0.000000</td>\n",
       "      <td>0.004850</td>\n",
       "      <td>0.049662</td>\n",
       "      <td>0.000031</td>\n",
       "      <td>0.000000</td>\n",
       "      <td>...</td>\n",
       "      <td>0.000276</td>\n",
       "      <td>0.000000</td>\n",
       "      <td>0.000000</td>\n",
       "      <td>0.047729</td>\n",
       "      <td>0.000123</td>\n",
       "      <td>0.044966</td>\n",
       "      <td>0.000000</td>\n",
       "      <td>0.016083</td>\n",
       "      <td>0.001995</td>\n",
       "      <td>0.014119</td>\n",
       "    </tr>\n",
       "    <tr>\n",
       "      <th>PP</th>\n",
       "      <td>0.000000</td>\n",
       "      <td>0.000000</td>\n",
       "      <td>0.000000</td>\n",
       "      <td>0.000000</td>\n",
       "      <td>0.000000</td>\n",
       "      <td>0.000000</td>\n",
       "      <td>0.000000</td>\n",
       "      <td>0.000000</td>\n",
       "      <td>0.000000</td>\n",
       "      <td>0.000000</td>\n",
       "      <td>...</td>\n",
       "      <td>0.000000</td>\n",
       "      <td>0.000000</td>\n",
       "      <td>0.000000</td>\n",
       "      <td>0.011765</td>\n",
       "      <td>0.000000</td>\n",
       "      <td>0.023529</td>\n",
       "      <td>0.000000</td>\n",
       "      <td>0.058824</td>\n",
       "      <td>0.000000</td>\n",
       "      <td>0.176471</td>\n",
       "    </tr>\n",
       "    <tr>\n",
       "      <th>PRO</th>\n",
       "      <td>0.000000</td>\n",
       "      <td>0.089954</td>\n",
       "      <td>0.022401</td>\n",
       "      <td>0.000175</td>\n",
       "      <td>0.097830</td>\n",
       "      <td>0.000000</td>\n",
       "      <td>0.034127</td>\n",
       "      <td>0.005775</td>\n",
       "      <td>0.000175</td>\n",
       "      <td>0.000000</td>\n",
       "      <td>...</td>\n",
       "      <td>0.000000</td>\n",
       "      <td>0.000000</td>\n",
       "      <td>0.000000</td>\n",
       "      <td>0.321666</td>\n",
       "      <td>0.001925</td>\n",
       "      <td>0.011551</td>\n",
       "      <td>0.000000</td>\n",
       "      <td>0.004025</td>\n",
       "      <td>0.000350</td>\n",
       "      <td>0.145782</td>\n",
       "    </tr>\n",
       "    <tr>\n",
       "      <th>PS</th>\n",
       "      <td>0.000000</td>\n",
       "      <td>0.000000</td>\n",
       "      <td>0.000000</td>\n",
       "      <td>0.000000</td>\n",
       "      <td>0.064516</td>\n",
       "      <td>0.000000</td>\n",
       "      <td>0.419355</td>\n",
       "      <td>0.000000</td>\n",
       "      <td>0.000000</td>\n",
       "      <td>0.000000</td>\n",
       "      <td>...</td>\n",
       "      <td>0.000000</td>\n",
       "      <td>0.032258</td>\n",
       "      <td>0.000000</td>\n",
       "      <td>0.451613</td>\n",
       "      <td>0.000000</td>\n",
       "      <td>0.000000</td>\n",
       "      <td>0.000000</td>\n",
       "      <td>0.000000</td>\n",
       "      <td>0.000000</td>\n",
       "      <td>0.000000</td>\n",
       "    </tr>\n",
       "    <tr>\n",
       "      <th>QUA</th>\n",
       "      <td>0.000000</td>\n",
       "      <td>0.003846</td>\n",
       "      <td>0.001099</td>\n",
       "      <td>0.000000</td>\n",
       "      <td>0.000000</td>\n",
       "      <td>0.000000</td>\n",
       "      <td>0.000549</td>\n",
       "      <td>0.015934</td>\n",
       "      <td>0.000000</td>\n",
       "      <td>0.000000</td>\n",
       "      <td>...</td>\n",
       "      <td>0.000000</td>\n",
       "      <td>0.000000</td>\n",
       "      <td>0.000000</td>\n",
       "      <td>0.116484</td>\n",
       "      <td>0.000000</td>\n",
       "      <td>0.015934</td>\n",
       "      <td>0.000000</td>\n",
       "      <td>0.000549</td>\n",
       "      <td>0.029670</td>\n",
       "      <td>0.001099</td>\n",
       "    </tr>\n",
       "    <tr>\n",
       "      <th>SPEC</th>\n",
       "      <td>0.000000</td>\n",
       "      <td>0.020000</td>\n",
       "      <td>0.000000</td>\n",
       "      <td>0.000000</td>\n",
       "      <td>0.000000</td>\n",
       "      <td>0.000000</td>\n",
       "      <td>0.000000</td>\n",
       "      <td>0.000000</td>\n",
       "      <td>0.000000</td>\n",
       "      <td>0.000000</td>\n",
       "      <td>...</td>\n",
       "      <td>0.000000</td>\n",
       "      <td>0.000000</td>\n",
       "      <td>0.000000</td>\n",
       "      <td>0.002857</td>\n",
       "      <td>0.000000</td>\n",
       "      <td>0.002857</td>\n",
       "      <td>0.000000</td>\n",
       "      <td>0.000000</td>\n",
       "      <td>0.000000</td>\n",
       "      <td>0.002857</td>\n",
       "    </tr>\n",
       "    <tr>\n",
       "      <th>V</th>\n",
       "      <td>0.000000</td>\n",
       "      <td>0.011556</td>\n",
       "      <td>0.010167</td>\n",
       "      <td>0.000314</td>\n",
       "      <td>0.286335</td>\n",
       "      <td>0.000000</td>\n",
       "      <td>0.502486</td>\n",
       "      <td>0.004837</td>\n",
       "      <td>0.001120</td>\n",
       "      <td>0.000000</td>\n",
       "      <td>...</td>\n",
       "      <td>0.000000</td>\n",
       "      <td>0.000045</td>\n",
       "      <td>0.000045</td>\n",
       "      <td>0.069915</td>\n",
       "      <td>0.000403</td>\n",
       "      <td>0.006494</td>\n",
       "      <td>0.000045</td>\n",
       "      <td>0.002508</td>\n",
       "      <td>0.000179</td>\n",
       "      <td>0.032606</td>\n",
       "    </tr>\n",
       "  </tbody>\n",
       "</table>\n",
       "<p>24 rows × 24 columns</p>\n",
       "</div>"
      ],
      "text/plain": [
       "              <S>       ADJ       ADV        AR       CON   DEFAULT      DELM  \\\n",
       "<S>      0.000000  0.021096  0.038867  0.000344  0.104449  0.001490  0.082091   \n",
       "ADJ      0.000000  0.085981  0.011732  0.000000  0.115581  0.000034  0.080853   \n",
       "ADV      0.000000  0.172518  0.022490  0.000000  0.027153  0.000000  0.041141   \n",
       "AR       0.000000  0.001702  0.000000  0.797447  0.012766  0.000000  0.175319   \n",
       "CON      0.000000  0.093012  0.038744  0.000407  0.039966  0.000000  0.012311   \n",
       "DEFAULT  0.000000  0.000000  0.050000  0.000000  0.050000  0.000000  0.100000   \n",
       "DELM     0.337448  0.033315  0.018341  0.007700  0.057924  0.000077  0.043182   \n",
       "DET      0.000000  0.002906  0.000000  0.000000  0.012833  0.000000  0.000969   \n",
       "IF       0.000000  0.055556  0.020202  0.000000  0.010101  0.000000  0.002525   \n",
       "INT      0.000000  0.000000  0.000000  0.000000  0.000000  0.000000  1.000000   \n",
       "MORP     0.000000  0.030303  0.007576  0.000000  0.083333  0.000000  0.090909   \n",
       "MQUA     0.000000  0.000000  0.000000  0.000000  0.012346  0.000000  0.000000   \n",
       "MS       0.000000  0.146465  0.005051  0.000000  0.080808  0.000000  0.353535   \n",
       "N        0.000000  0.200293  0.008956  0.000146  0.073250  0.000037  0.085024   \n",
       "NP       0.000000  0.100000  0.000000  0.000000  0.400000  0.000000  0.000000   \n",
       "OH       0.000000  0.000000  0.000000  0.000000  0.000000  0.000000  0.000000   \n",
       "OHH      0.000000  0.000000  0.000000  0.000000  0.000000  0.000000  0.200000   \n",
       "P        0.000000  0.024187  0.006077  0.000092  0.005832  0.000000  0.004850   \n",
       "PP       0.000000  0.000000  0.000000  0.000000  0.000000  0.000000  0.000000   \n",
       "PRO      0.000000  0.089954  0.022401  0.000175  0.097830  0.000000  0.034127   \n",
       "PS       0.000000  0.000000  0.000000  0.000000  0.064516  0.000000  0.419355   \n",
       "QUA      0.000000  0.003846  0.001099  0.000000  0.000000  0.000000  0.000549   \n",
       "SPEC     0.000000  0.020000  0.000000  0.000000  0.000000  0.000000  0.000000   \n",
       "V        0.000000  0.011556  0.010167  0.000314  0.286335  0.000000  0.502486   \n",
       "\n",
       "              DET        IF       INT  ...        NP        OH       OHH  \\\n",
       "<S>      0.043797  0.012153  0.000115  ...  0.000000  0.000000  0.000115   \n",
       "ADJ      0.006604  0.000503  0.000000  ...  0.000000  0.000000  0.000000   \n",
       "ADV      0.018925  0.005485  0.000000  ...  0.000000  0.000000  0.000000   \n",
       "AR       0.000000  0.000000  0.000000  ...  0.000000  0.000000  0.000000   \n",
       "CON      0.024305  0.006427  0.000000  ...  0.000045  0.000091  0.000045   \n",
       "DEFAULT  0.000000  0.000000  0.000000  ...  0.000000  0.000000  0.000000   \n",
       "DELM     0.008513  0.002554  0.000039  ...  0.000000  0.000271  0.000077   \n",
       "DET      0.000242  0.000000  0.000000  ...  0.000000  0.000000  0.000000   \n",
       "IF       0.042929  0.002525  0.000000  ...  0.000000  0.000000  0.000000   \n",
       "INT      0.000000  0.000000  0.000000  ...  0.000000  0.000000  0.000000   \n",
       "MORP     0.000000  0.000000  0.000000  ...  0.000000  0.000000  0.000000   \n",
       "MQUA     0.000000  0.000000  0.000000  ...  0.000000  0.000000  0.000000   \n",
       "MS       0.000000  0.000000  0.000000  ...  0.000000  0.000000  0.000000   \n",
       "N        0.008407  0.000174  0.000000  ...  0.000000  0.000009  0.000000   \n",
       "NP       0.000000  0.000000  0.000000  ...  0.000000  0.000000  0.000000   \n",
       "OH       0.000000  0.000000  0.000000  ...  0.000000  0.000000  0.000000   \n",
       "OHH      0.000000  0.000000  0.000000  ...  0.000000  0.000000  0.000000   \n",
       "P        0.049662  0.000031  0.000000  ...  0.000276  0.000000  0.000000   \n",
       "PP       0.000000  0.000000  0.000000  ...  0.000000  0.000000  0.000000   \n",
       "PRO      0.005775  0.000175  0.000000  ...  0.000000  0.000000  0.000000   \n",
       "PS       0.000000  0.000000  0.000000  ...  0.000000  0.032258  0.000000   \n",
       "QUA      0.015934  0.000000  0.000000  ...  0.000000  0.000000  0.000000   \n",
       "SPEC     0.000000  0.000000  0.000000  ...  0.000000  0.000000  0.000000   \n",
       "V        0.004837  0.001120  0.000000  ...  0.000000  0.000045  0.000045   \n",
       "\n",
       "                P        PP       PRO        PS       QUA      SPEC         V  \n",
       "<S>      0.175533  0.000917  0.039555  0.000229  0.011121  0.001032  0.007108  \n",
       "ADJ      0.189528  0.000201  0.017800  0.000000  0.003553  0.000402  0.233072  \n",
       "ADV      0.213933  0.000274  0.024136  0.000000  0.007131  0.000549  0.065551  \n",
       "AR       0.000851  0.000000  0.000851  0.000851  0.000000  0.000000  0.001702  \n",
       "CON      0.183987  0.000498  0.024803  0.000136  0.017742  0.000996  0.026885  \n",
       "DEFAULT  0.050000  0.000000  0.100000  0.000000  0.000000  0.000000  0.000000  \n",
       "DELM     0.061407  0.000310  0.009325  0.000929  0.004721  0.000310  0.013581  \n",
       "DET      0.002906  0.001453  0.001211  0.000000  0.000242  0.019128  0.008717  \n",
       "IF       0.136364  0.000000  0.025253  0.000000  0.022727  0.002525  0.060606  \n",
       "INT      0.000000  0.000000  0.000000  0.000000  0.000000  0.000000  0.000000  \n",
       "MORP     0.333333  0.000000  0.007576  0.000000  0.015152  0.000000  0.128788  \n",
       "MQUA     0.098765  0.000000  0.012346  0.000000  0.074074  0.000000  0.000000  \n",
       "MS       0.090909  0.005051  0.000000  0.000000  0.000000  0.000000  0.085859  \n",
       "N        0.124801  0.000183  0.020401  0.000000  0.004117  0.000842  0.109706  \n",
       "NP       0.100000  0.000000  0.000000  0.000000  0.000000  0.000000  0.100000  \n",
       "OH       0.000000  0.000000  0.000000  0.000000  0.000000  0.000000  0.000000  \n",
       "OHH      0.000000  0.000000  0.600000  0.000000  0.000000  0.000000  0.000000  \n",
       "P        0.047729  0.000123  0.044966  0.000000  0.016083  0.001995  0.014119  \n",
       "PP       0.011765  0.000000  0.023529  0.000000  0.058824  0.000000  0.176471  \n",
       "PRO      0.321666  0.001925  0.011551  0.000000  0.004025  0.000350  0.145782  \n",
       "PS       0.451613  0.000000  0.000000  0.000000  0.000000  0.000000  0.000000  \n",
       "QUA      0.116484  0.000000  0.015934  0.000000  0.000549  0.029670  0.001099  \n",
       "SPEC     0.002857  0.000000  0.002857  0.000000  0.000000  0.000000  0.002857  \n",
       "V        0.069915  0.000403  0.006494  0.000045  0.002508  0.000179  0.032606  \n",
       "\n",
       "[24 rows x 24 columns]"
      ]
     },
     "metadata": {},
     "output_type": "display_data"
    }
   ],
   "source": [
    "tags_df = pd.DataFrame(transition_matrix, columns = list(all_tags), index=list(all_tags))\n",
    "display(tags_df)"
   ]
  },
  {
   "cell_type": "code",
   "execution_count": 67,
   "metadata": {},
   "outputs": [],
   "source": [
    "import operator\n",
    "\n",
    "def extract_vocab(df):\n",
    "    word_count = df.word.value_counts().to_dict()\n",
    "    sorted_word_count = dict(sorted(word_count.items(), key=operator.itemgetter(1),reverse=True))\n",
    "    del sorted_word_count[\" \"] # delete blanck lines\n",
    "    \n",
    "    single_occurrence_words = [] # threshold\n",
    "    for word in sorted_word_count:\n",
    "        if sorted_word_count[word] == 1:\n",
    "            single_occurrence_words.append(word)\n",
    "    new_word_counts = {k:v for k,v in sorted_word_count.items() if v != 1}\n",
    "    new_word_counts[\"UNK\"] = len(single_occurrence_words)\n",
    "    new_word_counts = dict(sorted(new_word_counts.items(), key=operator.itemgetter(1),reverse=True)) # keys are our vocabulary\n",
    "    vocabs = sorted(new_word_counts.keys())\n",
    "    return vocabs "
   ]
  },
  {
   "cell_type": "code",
   "execution_count": 64,
   "metadata": {},
   "outputs": [],
   "source": [
    "vocab_counts = extract_vocab(df)"
   ]
  },
  {
   "cell_type": "code",
   "execution_count": 70,
   "metadata": {},
   "outputs": [
    {
     "data": {
      "text/plain": [
       "10218"
      ]
     },
     "execution_count": 70,
     "metadata": {},
     "output_type": "execute_result"
    }
   ],
   "source": [
    "# vocab_counts\n",
    "vocabs = sorted(vocab_counts.keys())\n",
    "len(vocabs)"
   ]
  },
  {
   "cell_type": "code",
   "execution_count": 74,
   "metadata": {},
   "outputs": [],
   "source": [
    "vocab = extract_vocab(df)\n",
    "# vocab[0]\n",
    "import pickle\n",
    "\n",
    "with open(\"/mnt/DAE855F7E855D1FD/github_msc/NLP/HW3/vocabs\", \"wb\") as f:   #Pickling\n",
    "    pickle.dump(vocab, f)"
   ]
  },
  {
   "cell_type": "code",
   "execution_count": 75,
   "metadata": {},
   "outputs": [],
   "source": [
    "with open(\"/mnt/DAE855F7E855D1FD/github_msc/NLP/HW3/vocabs\", \"rb\") as f:   # Unpickling\n",
    "    lexicon = pickle.load(f)"
   ]
  },
  {
   "cell_type": "code",
   "execution_count": 56,
   "metadata": {},
   "outputs": [
    {
     "name": "stdout",
     "output_type": "stream",
     "text": [
      "count vocab : 10218\n",
      "tags len : 24\n"
     ]
    }
   ],
   "source": [
    "count_vocab = len(new_word_count)\n",
    "tags = len(all_tags)\n",
    "print(f'count vocab : {count_vocab}')\n",
    "print(f'tags len : {tags}')"
   ]
  },
  {
   "cell_type": "markdown",
   "metadata": {},
   "source": [
    "# observation matrix"
   ]
  },
  {
   "cell_type": "code",
   "execution_count": 95,
   "metadata": {},
   "outputs": [],
   "source": [
    "def create_observation_matrix(df, alpha):\n",
    "    vocabs = extract_vocab(df)\n",
    "    tag_count = df.tag.value_counts().to_dict()\n",
    "    all_tags = sorted(tag_count.keys())\n",
    "    word_given_tag_count = {}\n",
    "    for i in vocabs: # change name to vocab\n",
    "        for j in all_tags:\n",
    "                key = (i, j)\n",
    "                word_given_tag_count[key] = 0\n",
    "\n",
    "    for i in range(df.shape[0]):\n",
    "        word, tag = df.word[i], df.tag[i]\n",
    "        key = (word, tag)\n",
    "        if word == \" \": # for blank llines\n",
    "            pass\n",
    "        elif word not in vocabs:\n",
    "            key = (\"UNK\", tag)\n",
    "            word_given_tag_count[key] += 1\n",
    "        else:\n",
    "            word_given_tag_count[key] += 1  \n",
    "\n",
    "    tag_count = df.tag.value_counts().to_dict()\n",
    "    all_tags = sorted(tag_count.keys())\n",
    "    observation_matrix = np.zeros((len(vocabs), len(all_tags))) \n",
    "\n",
    "    for i in range(observation_matrix.shape[0]):\n",
    "        for j in range(observation_matrix.shape[1]):\n",
    "            count = 0\n",
    "            key = (vocabs[i], all_tags[j])\n",
    "            if key in word_given_tag_count:\n",
    "                count = word_given_tag_count[key]\n",
    "            count_tag = tag_count[all_tags[j]]\n",
    "            observation_matrix[i][j] = (count + alpha) / (count_tag + alpha*len(vocabs))   \n",
    "    observation_matrix = np.delete(observation_matrix, 0, axis=1) \n",
    "    observation_matrix = observation_matrix.T\n",
    "    return observation_matrix"
   ]
  },
  {
   "cell_type": "code",
   "execution_count": 39,
   "metadata": {},
   "outputs": [],
   "source": [
    "x = create_observation_matrix(df, vocab_counts, 0)"
   ]
  },
  {
   "cell_type": "code",
   "execution_count": 54,
   "metadata": {},
   "outputs": [
    {
     "data": {
      "text/html": [
       "<div>\n",
       "<style scoped>\n",
       "    .dataframe tbody tr th:only-of-type {\n",
       "        vertical-align: middle;\n",
       "    }\n",
       "\n",
       "    .dataframe tbody tr th {\n",
       "        vertical-align: top;\n",
       "    }\n",
       "\n",
       "    .dataframe thead th {\n",
       "        text-align: right;\n",
       "    }\n",
       "</style>\n",
       "<table border=\"1\" class=\"dataframe\">\n",
       "  <thead>\n",
       "    <tr style=\"text-align: right;\">\n",
       "      <th></th>\n",
       "      <th>ADJ</th>\n",
       "      <th>ADV</th>\n",
       "      <th>AR</th>\n",
       "      <th>CON</th>\n",
       "      <th>DEFAULT</th>\n",
       "      <th>DELM</th>\n",
       "      <th>DET</th>\n",
       "      <th>IF</th>\n",
       "      <th>INT</th>\n",
       "      <th>MORP</th>\n",
       "      <th>...</th>\n",
       "      <th>NP</th>\n",
       "      <th>OH</th>\n",
       "      <th>OHH</th>\n",
       "      <th>P</th>\n",
       "      <th>PP</th>\n",
       "      <th>PRO</th>\n",
       "      <th>PS</th>\n",
       "      <th>QUA</th>\n",
       "      <th>SPEC</th>\n",
       "      <th>V</th>\n",
       "    </tr>\n",
       "  </thead>\n",
       "  <tbody>\n",
       "    <tr>\n",
       "      <th>!</th>\n",
       "      <td>0.000000</td>\n",
       "      <td>0.0</td>\n",
       "      <td>0.0</td>\n",
       "      <td>0.0</td>\n",
       "      <td>0.00</td>\n",
       "      <td>0.002476</td>\n",
       "      <td>0.0</td>\n",
       "      <td>0.0</td>\n",
       "      <td>0.0</td>\n",
       "      <td>0.0</td>\n",
       "      <td>...</td>\n",
       "      <td>0.0</td>\n",
       "      <td>0.0</td>\n",
       "      <td>0.0</td>\n",
       "      <td>0.000000</td>\n",
       "      <td>0.0</td>\n",
       "      <td>0.0</td>\n",
       "      <td>0.0</td>\n",
       "      <td>0.0</td>\n",
       "      <td>0.0</td>\n",
       "      <td>0.0</td>\n",
       "    </tr>\n",
       "    <tr>\n",
       "      <th>\"</th>\n",
       "      <td>0.000000</td>\n",
       "      <td>0.0</td>\n",
       "      <td>0.0</td>\n",
       "      <td>0.0</td>\n",
       "      <td>0.00</td>\n",
       "      <td>0.027086</td>\n",
       "      <td>0.0</td>\n",
       "      <td>0.0</td>\n",
       "      <td>0.0</td>\n",
       "      <td>0.0</td>\n",
       "      <td>...</td>\n",
       "      <td>0.0</td>\n",
       "      <td>0.0</td>\n",
       "      <td>0.0</td>\n",
       "      <td>0.000000</td>\n",
       "      <td>0.0</td>\n",
       "      <td>0.0</td>\n",
       "      <td>0.0</td>\n",
       "      <td>0.0</td>\n",
       "      <td>0.0</td>\n",
       "      <td>0.0</td>\n",
       "    </tr>\n",
       "    <tr>\n",
       "      <th>#</th>\n",
       "      <td>0.000000</td>\n",
       "      <td>0.0</td>\n",
       "      <td>0.0</td>\n",
       "      <td>0.0</td>\n",
       "      <td>0.60</td>\n",
       "      <td>0.033741</td>\n",
       "      <td>0.0</td>\n",
       "      <td>0.0</td>\n",
       "      <td>0.0</td>\n",
       "      <td>0.0</td>\n",
       "      <td>...</td>\n",
       "      <td>0.0</td>\n",
       "      <td>0.0</td>\n",
       "      <td>0.0</td>\n",
       "      <td>0.000000</td>\n",
       "      <td>0.0</td>\n",
       "      <td>0.0</td>\n",
       "      <td>0.0</td>\n",
       "      <td>0.0</td>\n",
       "      <td>0.0</td>\n",
       "      <td>0.0</td>\n",
       "    </tr>\n",
       "    <tr>\n",
       "      <th>%</th>\n",
       "      <td>0.000000</td>\n",
       "      <td>0.0</td>\n",
       "      <td>0.0</td>\n",
       "      <td>0.0</td>\n",
       "      <td>0.00</td>\n",
       "      <td>0.002670</td>\n",
       "      <td>0.0</td>\n",
       "      <td>0.0</td>\n",
       "      <td>0.0</td>\n",
       "      <td>0.0</td>\n",
       "      <td>...</td>\n",
       "      <td>0.0</td>\n",
       "      <td>0.0</td>\n",
       "      <td>0.0</td>\n",
       "      <td>0.000000</td>\n",
       "      <td>0.0</td>\n",
       "      <td>0.0</td>\n",
       "      <td>0.0</td>\n",
       "      <td>0.0</td>\n",
       "      <td>0.0</td>\n",
       "      <td>0.0</td>\n",
       "    </tr>\n",
       "    <tr>\n",
       "      <th>(</th>\n",
       "      <td>0.000000</td>\n",
       "      <td>0.0</td>\n",
       "      <td>0.0</td>\n",
       "      <td>0.0</td>\n",
       "      <td>0.05</td>\n",
       "      <td>0.065508</td>\n",
       "      <td>0.0</td>\n",
       "      <td>0.0</td>\n",
       "      <td>0.0</td>\n",
       "      <td>0.0</td>\n",
       "      <td>...</td>\n",
       "      <td>0.0</td>\n",
       "      <td>0.0</td>\n",
       "      <td>0.0</td>\n",
       "      <td>0.000000</td>\n",
       "      <td>0.0</td>\n",
       "      <td>0.0</td>\n",
       "      <td>0.0</td>\n",
       "      <td>0.0</td>\n",
       "      <td>0.0</td>\n",
       "      <td>0.0</td>\n",
       "    </tr>\n",
       "    <tr>\n",
       "      <th>...</th>\n",
       "      <td>...</td>\n",
       "      <td>...</td>\n",
       "      <td>...</td>\n",
       "      <td>...</td>\n",
       "      <td>...</td>\n",
       "      <td>...</td>\n",
       "      <td>...</td>\n",
       "      <td>...</td>\n",
       "      <td>...</td>\n",
       "      <td>...</td>\n",
       "      <td>...</td>\n",
       "      <td>...</td>\n",
       "      <td>...</td>\n",
       "      <td>...</td>\n",
       "      <td>...</td>\n",
       "      <td>...</td>\n",
       "      <td>...</td>\n",
       "      <td>...</td>\n",
       "      <td>...</td>\n",
       "      <td>...</td>\n",
       "      <td>...</td>\n",
       "    </tr>\n",
       "    <tr>\n",
       "      <th>‏در</th>\n",
       "      <td>0.000000</td>\n",
       "      <td>0.0</td>\n",
       "      <td>0.0</td>\n",
       "      <td>0.0</td>\n",
       "      <td>0.00</td>\n",
       "      <td>0.000000</td>\n",
       "      <td>0.0</td>\n",
       "      <td>0.0</td>\n",
       "      <td>0.0</td>\n",
       "      <td>0.0</td>\n",
       "      <td>...</td>\n",
       "      <td>0.0</td>\n",
       "      <td>0.0</td>\n",
       "      <td>0.0</td>\n",
       "      <td>0.000092</td>\n",
       "      <td>0.0</td>\n",
       "      <td>0.0</td>\n",
       "      <td>0.0</td>\n",
       "      <td>0.0</td>\n",
       "      <td>0.0</td>\n",
       "      <td>0.0</td>\n",
       "    </tr>\n",
       "    <tr>\n",
       "      <th>‏مربوط</th>\n",
       "      <td>0.000067</td>\n",
       "      <td>0.0</td>\n",
       "      <td>0.0</td>\n",
       "      <td>0.0</td>\n",
       "      <td>0.00</td>\n",
       "      <td>0.000000</td>\n",
       "      <td>0.0</td>\n",
       "      <td>0.0</td>\n",
       "      <td>0.0</td>\n",
       "      <td>0.0</td>\n",
       "      <td>...</td>\n",
       "      <td>0.0</td>\n",
       "      <td>0.0</td>\n",
       "      <td>0.0</td>\n",
       "      <td>0.000000</td>\n",
       "      <td>0.0</td>\n",
       "      <td>0.0</td>\n",
       "      <td>0.0</td>\n",
       "      <td>0.0</td>\n",
       "      <td>0.0</td>\n",
       "      <td>0.0</td>\n",
       "    </tr>\n",
       "    <tr>\n",
       "      <th>“</th>\n",
       "      <td>0.000000</td>\n",
       "      <td>0.0</td>\n",
       "      <td>0.0</td>\n",
       "      <td>0.0</td>\n",
       "      <td>0.00</td>\n",
       "      <td>0.000426</td>\n",
       "      <td>0.0</td>\n",
       "      <td>0.0</td>\n",
       "      <td>0.0</td>\n",
       "      <td>0.0</td>\n",
       "      <td>...</td>\n",
       "      <td>0.0</td>\n",
       "      <td>0.0</td>\n",
       "      <td>0.0</td>\n",
       "      <td>0.000000</td>\n",
       "      <td>0.0</td>\n",
       "      <td>0.0</td>\n",
       "      <td>0.0</td>\n",
       "      <td>0.0</td>\n",
       "      <td>0.0</td>\n",
       "      <td>0.0</td>\n",
       "    </tr>\n",
       "    <tr>\n",
       "      <th>”</th>\n",
       "      <td>0.000000</td>\n",
       "      <td>0.0</td>\n",
       "      <td>0.0</td>\n",
       "      <td>0.0</td>\n",
       "      <td>0.00</td>\n",
       "      <td>0.000464</td>\n",
       "      <td>0.0</td>\n",
       "      <td>0.0</td>\n",
       "      <td>0.0</td>\n",
       "      <td>0.0</td>\n",
       "      <td>...</td>\n",
       "      <td>0.0</td>\n",
       "      <td>0.0</td>\n",
       "      <td>0.0</td>\n",
       "      <td>0.000000</td>\n",
       "      <td>0.0</td>\n",
       "      <td>0.0</td>\n",
       "      <td>0.0</td>\n",
       "      <td>0.0</td>\n",
       "      <td>0.0</td>\n",
       "      <td>0.0</td>\n",
       "    </tr>\n",
       "    <tr>\n",
       "      <th>…</th>\n",
       "      <td>0.000000</td>\n",
       "      <td>0.0</td>\n",
       "      <td>0.0</td>\n",
       "      <td>0.0</td>\n",
       "      <td>0.00</td>\n",
       "      <td>0.000232</td>\n",
       "      <td>0.0</td>\n",
       "      <td>0.0</td>\n",
       "      <td>0.0</td>\n",
       "      <td>0.0</td>\n",
       "      <td>...</td>\n",
       "      <td>0.0</td>\n",
       "      <td>0.0</td>\n",
       "      <td>0.0</td>\n",
       "      <td>0.000000</td>\n",
       "      <td>0.0</td>\n",
       "      <td>0.0</td>\n",
       "      <td>0.0</td>\n",
       "      <td>0.0</td>\n",
       "      <td>0.0</td>\n",
       "      <td>0.0</td>\n",
       "    </tr>\n",
       "  </tbody>\n",
       "</table>\n",
       "<p>10218 rows × 23 columns</p>\n",
       "</div>"
      ],
      "text/plain": [
       "             ADJ  ADV   AR  CON  DEFAULT      DELM  DET   IF  INT  MORP  ...  \\\n",
       "!       0.000000  0.0  0.0  0.0     0.00  0.002476  0.0  0.0  0.0   0.0  ...   \n",
       "\"       0.000000  0.0  0.0  0.0     0.00  0.027086  0.0  0.0  0.0   0.0  ...   \n",
       "#       0.000000  0.0  0.0  0.0     0.60  0.033741  0.0  0.0  0.0   0.0  ...   \n",
       "%       0.000000  0.0  0.0  0.0     0.00  0.002670  0.0  0.0  0.0   0.0  ...   \n",
       "(       0.000000  0.0  0.0  0.0     0.05  0.065508  0.0  0.0  0.0   0.0  ...   \n",
       "...          ...  ...  ...  ...      ...       ...  ...  ...  ...   ...  ...   \n",
       "‏در     0.000000  0.0  0.0  0.0     0.00  0.000000  0.0  0.0  0.0   0.0  ...   \n",
       "‏مربوط  0.000067  0.0  0.0  0.0     0.00  0.000000  0.0  0.0  0.0   0.0  ...   \n",
       "“       0.000000  0.0  0.0  0.0     0.00  0.000426  0.0  0.0  0.0   0.0  ...   \n",
       "”       0.000000  0.0  0.0  0.0     0.00  0.000464  0.0  0.0  0.0   0.0  ...   \n",
       "…       0.000000  0.0  0.0  0.0     0.00  0.000232  0.0  0.0  0.0   0.0  ...   \n",
       "\n",
       "         NP   OH  OHH         P   PP  PRO   PS  QUA  SPEC    V  \n",
       "!       0.0  0.0  0.0  0.000000  0.0  0.0  0.0  0.0   0.0  0.0  \n",
       "\"       0.0  0.0  0.0  0.000000  0.0  0.0  0.0  0.0   0.0  0.0  \n",
       "#       0.0  0.0  0.0  0.000000  0.0  0.0  0.0  0.0   0.0  0.0  \n",
       "%       0.0  0.0  0.0  0.000000  0.0  0.0  0.0  0.0   0.0  0.0  \n",
       "(       0.0  0.0  0.0  0.000000  0.0  0.0  0.0  0.0   0.0  0.0  \n",
       "...     ...  ...  ...       ...  ...  ...  ...  ...   ...  ...  \n",
       "‏در     0.0  0.0  0.0  0.000092  0.0  0.0  0.0  0.0   0.0  0.0  \n",
       "‏مربوط  0.0  0.0  0.0  0.000000  0.0  0.0  0.0  0.0   0.0  0.0  \n",
       "“       0.0  0.0  0.0  0.000000  0.0  0.0  0.0  0.0   0.0  0.0  \n",
       "”       0.0  0.0  0.0  0.000000  0.0  0.0  0.0  0.0   0.0  0.0  \n",
       "…       0.0  0.0  0.0  0.000000  0.0  0.0  0.0  0.0   0.0  0.0  \n",
       "\n",
       "[10218 rows x 23 columns]"
      ]
     },
     "metadata": {},
     "output_type": "display_data"
    }
   ],
   "source": [
    "__df = pd.DataFrame(observation_matrix, columns = list(all_tags1), index=list(vocabs))\n",
    "display(__df)"
   ]
  },
  {
   "cell_type": "code",
   "execution_count": 88,
   "metadata": {},
   "outputs": [],
   "source": [
    "# np.save('/mnt/DAE855F7E855D1FD/github_msc/NLP/HW3/observation_matrix.npy', observation_matrix)"
   ]
  },
  {
   "cell_type": "markdown",
   "metadata": {},
   "source": [
    "elimination for both martixes\n",
    "smoothing\n",
    "calculate pi\n",
    "viterbi algo\n",
    "test data????"
   ]
  },
  {
   "cell_type": "code",
   "execution_count": 63,
   "metadata": {},
   "outputs": [],
   "source": [
    "def initial_probabilities(transition_matrix):\n",
    "    return transition_matrix[0, :]"
   ]
  },
  {
   "cell_type": "code",
   "execution_count": 99,
   "metadata": {},
   "outputs": [],
   "source": [
    "def read_test_file(train_file_path):\n",
    "    with open(train_file_path,'r') as f:\n",
    "        lines = f.read().splitlines()\n",
    "\n",
    "    words, tags = [], []\n",
    "    for i in range(len(lines)):\n",
    "        try : \n",
    "            x, y = lines[i].split(\" \")\n",
    "            words.append(x)\n",
    "            tags.append(y)\n",
    "        except ValueError: # if we have empty line\n",
    "            pass\n",
    "    return words, tags   "
   ]
  },
  {
   "cell_type": "code",
   "execution_count": 69,
   "metadata": {},
   "outputs": [
    {
     "ename": "NameError",
     "evalue": "name 'vocab' is not defined",
     "output_type": "error",
     "traceback": [
      "\u001b[0;31m---------------------------------------------------------------------------\u001b[0m",
      "\u001b[0;31mNameError\u001b[0m                                 Traceback (most recent call last)",
      "\u001b[0;32m/tmp/ipykernel_249591/3989842988.py\u001b[0m in \u001b[0;36m<module>\u001b[0;34m\u001b[0m\n\u001b[0;32m----> 1\u001b[0;31m \u001b[0mvocab\u001b[0m\u001b[0;34m\u001b[0m\u001b[0;34m\u001b[0m\u001b[0m\n\u001b[0m",
      "\u001b[0;31mNameError\u001b[0m: name 'vocab' is not defined"
     ]
    }
   ],
   "source": [
    "vocab"
   ]
  },
  {
   "cell_type": "code",
   "execution_count": 79,
   "metadata": {},
   "outputs": [
    {
     "data": {
      "text/plain": [
       "376"
      ]
     },
     "execution_count": 79,
     "metadata": {},
     "output_type": "execute_result"
    }
   ],
   "source": [
    "vocab.index(\"UNK\")"
   ]
  },
  {
   "cell_type": "code",
   "execution_count": 86,
   "metadata": {},
   "outputs": [],
   "source": [
    "def vocab_index_observv(o, t, vocab):\n",
    "    if o[t] in vocab:\n",
    "        return vocab.index(o[t])\n",
    "    else:\n",
    "        unk_index = vocab.index(\"UNK\")\n",
    "        return unk_index  "
   ]
  },
  {
   "cell_type": "code",
   "execution_count": 87,
   "metadata": {},
   "outputs": [
    {
     "data": {
      "text/plain": [
       "376"
      ]
     },
     "execution_count": 87,
     "metadata": {},
     "output_type": "execute_result"
    }
   ],
   "source": [
    "\n",
    "vocab_index_observv(o, 0, vocab)"
   ]
  },
  {
   "cell_type": "code",
   "execution_count": 90,
   "metadata": {},
   "outputs": [
    {
     "data": {
      "text/plain": [
       "0.0"
      ]
     },
     "execution_count": 90,
     "metadata": {},
     "output_type": "execute_result"
    }
   ],
   "source": [
    "x = np.zeros((2, 3))\n",
    "x[1, 2]"
   ]
  },
  {
   "cell_type": "code",
   "execution_count": 88,
   "metadata": {},
   "outputs": [
    {
     "data": {
      "text/plain": [
       "True"
      ]
     },
     "execution_count": 88,
     "metadata": {},
     "output_type": "execute_result"
    }
   ],
   "source": [
    "x = float('-inf')\n",
    "-1 > x"
   ]
  },
  {
   "cell_type": "code",
   "execution_count": 91,
   "metadata": {},
   "outputs": [],
   "source": [
    "tag_count = df.tag.value_counts().to_dict()\n",
    "all_tags = sorted(tag_count.keys())\n",
    "all_tags.remove(\"<S>\")"
   ]
  },
  {
   "cell_type": "code",
   "execution_count": 111,
   "metadata": {},
   "outputs": [
    {
     "data": {
      "text/plain": [
       "(23, 10218)"
      ]
     },
     "execution_count": 111,
     "metadata": {},
     "output_type": "execute_result"
    }
   ],
   "source": [
    "observation_matrix.shape"
   ]
  },
  {
   "cell_type": "code",
   "execution_count": 154,
   "metadata": {},
   "outputs": [
    {
     "data": {
      "text/plain": [
       "(4,)"
      ]
     },
     "execution_count": 154,
     "metadata": {},
     "output_type": "execute_result"
    }
   ],
   "source": [
    "x = np.ones((3, 4))\n",
    "y = x[0, :]\n",
    "y.shape"
   ]
  },
  {
   "cell_type": "code",
   "execution_count": 155,
   "metadata": {},
   "outputs": [],
   "source": [
    "b = np.ones((4, 4))*2"
   ]
  },
  {
   "cell_type": "code",
   "execution_count": 156,
   "metadata": {},
   "outputs": [
    {
     "data": {
      "text/plain": [
       "(4,)"
      ]
     },
     "execution_count": 156,
     "metadata": {},
     "output_type": "execute_result"
    }
   ],
   "source": [
    "m = y *  b[:, 0]\n",
    "m.shape"
   ]
  },
  {
   "cell_type": "code",
   "execution_count": 173,
   "metadata": {},
   "outputs": [],
   "source": [
    "viterb = np.zeros((4, 4))\n",
    "transition_matri = np.zeros((4, 4))\n",
    "observation_matri = np.zeros((4, 4))"
   ]
  },
  {
   "cell_type": "code",
   "execution_count": 175,
   "metadata": {},
   "outputs": [],
   "source": [
    "z = viterb[:, -1] * transition_matri[:, 0] * observation_matri[0,1]"
   ]
  },
  {
   "cell_type": "code",
   "execution_count": 176,
   "metadata": {},
   "outputs": [
    {
     "data": {
      "text/plain": [
       "0"
      ]
     },
     "execution_count": 176,
     "metadata": {},
     "output_type": "execute_result"
    }
   ],
   "source": [
    "np.argmax(z)"
   ]
  },
  {
   "cell_type": "code",
   "execution_count": 193,
   "metadata": {},
   "outputs": [],
   "source": [
    "def viterbi(observ, observation_matrix, transition_matrix, vocab):\n",
    "    pi = initial_probabilities(transition_matrix)\n",
    "    transition_matrix = transition_matrix[1:, :]\n",
    "    N, T = observation_matrix.shape[0], len(observ)\n",
    "    viterbi = np.zeros((N, T))\n",
    "    backpointer = np.zeros((N, T))\n",
    "    viterbi[:, 0] = pi* observation_matrix[:, vocab_index_observv(observ, 0, vocab)]\n",
    "    backpointer[:, 0] = 0\n",
    "    for t in range(1, T):\n",
    "        for s in range(N):\n",
    "            value = viterbi[:, t-1] * transition_matrix[:, s] * observation_matrix[s, vocab_index_observv(observ, t, vocab)]\n",
    "            viterbi[s, t] = np.max(value)\n",
    "            backpointer[s, t] = np.argmax(value)\n",
    "    bestpath = np.zeros(T)\n",
    "    prob = np.max(viterbi[:, T-1])            \n",
    "    last_state = np.argmax(viterbi[:, T-1])  \n",
    "    bestpath[0] = last_state\n",
    "    backtrack_index = 1\n",
    "    for t in range(T-2, -1, -1):\n",
    "        bestpath[backtrack_index] = backpointer[int(last_state), t]\n",
    "        last_state = backpointer[int(last_state), t] \n",
    "        backtrack_index += 1\n",
    "\n",
    "    # Flip the path array since we were backtracking    \n",
    "    bestpath = np.flip(bestpath, axis=0)    \n",
    "    return bestpath, prob    \n",
    "                   "
   ]
  },
  {
   "cell_type": "code",
   "execution_count": 194,
   "metadata": {},
   "outputs": [],
   "source": [
    "def viterbi_log(observ, observation_matrix, transition_matrix, vocab):\n",
    "    pi = initial_probabilities(transition_matrix)\n",
    "    transition_matrix = transition_matrix[1:, :]\n",
    "    N, T = observation_matrix.shape[0], len(observ)\n",
    "    viterbi = np.zeros((N, T))\n",
    "    backpointer = np.zeros((N, T))\n",
    "    viterbi[:, 0] = np.log(pi* observation_matrix[:, vocab_index_observv(observ, 0, vocab)])\n",
    "    backpointer[:, 0] = 0\n",
    "    for t in range(1, T):\n",
    "        for s in range(N):\n",
    "            value = viterbi[:, t-1] + np.log(transition_matrix[:, s]) + np.log(observation_matrix[s, vocab_index_observv(observ, t, vocab)])\n",
    "            viterbi[s, t] = np.max(value)\n",
    "            backpointer[s, t] = np.argmax(value)\n",
    "    bestpath = np.zeros(T)\n",
    "    prob = np.max(viterbi[:, T-1])            \n",
    "    last_state = np.argmax(viterbi[:, T-1])  \n",
    "    bestpath[0] = last_state\n",
    "    backtrack_index = 1\n",
    "    for t in range(T-2, -1, -1):\n",
    "        bestpath[backtrack_index] = backpointer[int(last_state), t]\n",
    "        last_state = backpointer[int(last_state), t] \n",
    "        backtrack_index += 1\n",
    "\n",
    "    # Flip the path array since we were backtracking    \n",
    "    bestpath = np.flip(bestpath, axis=0)    \n",
    "    return bestpath, prob    \n",
    "                   "
   ]
  },
  {
   "cell_type": "code",
   "execution_count": 146,
   "metadata": {},
   "outputs": [],
   "source": [
    "df = read_train_file('/mnt/DAE855F7E855D1FD/github_msc/NLP/HW3/Train.txt', '/mnt/DAE855F7E855D1FD/github_msc/NLP/HW3/tag_word.csv')\n",
    "transition_matrix = create_transition_matrix(df, alpha=0.01)\n",
    "vocab = extract_vocab(df)\n",
    "observation_matrix = create_observation_matrix(df, alpha=0.01)\n",
    "observ, gold_tag = read_test_file('/mnt/DAE855F7E855D1FD/github_msc/NLP/HW3/Test.txt')"
   ]
  },
  {
   "cell_type": "code",
   "execution_count": 232,
   "metadata": {},
   "outputs": [
    {
     "data": {
      "text/plain": [
       "['N',\n",
       " 'N',\n",
       " 'DELM',\n",
       " 'P',\n",
       " 'N',\n",
       " 'DELM',\n",
       " 'N',\n",
       " 'DELM',\n",
       " 'N',\n",
       " 'DELM',\n",
       " 'PRO',\n",
       " 'V',\n",
       " 'PRO',\n",
       " 'V',\n",
       " 'DELM',\n",
       " 'DELM',\n",
       " 'N',\n",
       " 'P',\n",
       " 'N',\n",
       " 'PRO',\n",
       " 'V',\n",
       " 'DELM',\n",
       " 'N',\n",
       " 'QUA',\n",
       " 'N',\n",
       " 'N',\n",
       " 'CON',\n",
       " 'N',\n",
       " 'P',\n",
       " 'N',\n",
       " 'ADJ',\n",
       " 'V',\n",
       " 'DELM',\n",
       " 'PRO',\n",
       " 'P',\n",
       " 'P',\n",
       " 'N',\n",
       " 'N',\n",
       " 'CON',\n",
       " 'N',\n",
       " 'N',\n",
       " 'V',\n",
       " 'DELM']"
      ]
     },
     "execution_count": 232,
     "metadata": {},
     "output_type": "execute_result"
    }
   ],
   "source": [
    "gold_tag[10:53]"
   ]
  },
  {
   "cell_type": "code",
   "execution_count": 208,
   "metadata": {},
   "outputs": [
    {
     "data": {
      "text/plain": [
       "259794"
      ]
     },
     "execution_count": 208,
     "metadata": {},
     "output_type": "execute_result"
    }
   ],
   "source": [
    "len(observ)"
   ]
  },
  {
   "cell_type": "code",
   "execution_count": 160,
   "metadata": {},
   "outputs": [
    {
     "data": {
      "text/plain": [
       "(23, 10218)"
      ]
     },
     "execution_count": 160,
     "metadata": {},
     "output_type": "execute_result"
    }
   ],
   "source": [
    "observation_matrix.shape"
   ]
  },
  {
   "cell_type": "code",
   "execution_count": 184,
   "metadata": {},
   "outputs": [
    {
     "ename": "KeyboardInterrupt",
     "evalue": "",
     "output_type": "error",
     "traceback": [
      "\u001b[0;31m---------------------------------------------------------------------------\u001b[0m",
      "\u001b[0;31mKeyboardInterrupt\u001b[0m                         Traceback (most recent call last)",
      "\u001b[0;32m/tmp/ipykernel_249591/4045046649.py\u001b[0m in \u001b[0;36m<module>\u001b[0;34m\u001b[0m\n\u001b[0;32m----> 1\u001b[0;31m \u001b[0mpath\u001b[0m \u001b[0;34m,\u001b[0m \u001b[0mprob\u001b[0m \u001b[0;34m=\u001b[0m \u001b[0mviterbi\u001b[0m\u001b[0;34m(\u001b[0m\u001b[0mobserv\u001b[0m\u001b[0;34m,\u001b[0m \u001b[0mobservation_matrix\u001b[0m\u001b[0;34m,\u001b[0m \u001b[0mtransition_matrix\u001b[0m\u001b[0;34m,\u001b[0m \u001b[0mvocab\u001b[0m\u001b[0;34m)\u001b[0m\u001b[0;34m\u001b[0m\u001b[0;34m\u001b[0m\u001b[0m\n\u001b[0m\u001b[1;32m      2\u001b[0m \u001b[0;31m# tags = [all_tags[i] for i in path]\u001b[0m\u001b[0;34m\u001b[0m\u001b[0;34m\u001b[0m\u001b[0m\n",
      "\u001b[0;32m/tmp/ipykernel_249591/1304051526.py\u001b[0m in \u001b[0;36mviterbi\u001b[0;34m(observ, observation_matrix, transition_matrix, vocab)\u001b[0m\n\u001b[1;32m      9\u001b[0m     \u001b[0;32mfor\u001b[0m \u001b[0mt\u001b[0m \u001b[0;32min\u001b[0m \u001b[0mrange\u001b[0m\u001b[0;34m(\u001b[0m\u001b[0;36m1\u001b[0m\u001b[0;34m,\u001b[0m \u001b[0mT\u001b[0m\u001b[0;34m)\u001b[0m\u001b[0;34m:\u001b[0m\u001b[0;34m\u001b[0m\u001b[0;34m\u001b[0m\u001b[0m\n\u001b[1;32m     10\u001b[0m         \u001b[0;32mfor\u001b[0m \u001b[0ms\u001b[0m \u001b[0;32min\u001b[0m \u001b[0mrange\u001b[0m\u001b[0;34m(\u001b[0m\u001b[0mN\u001b[0m\u001b[0;34m)\u001b[0m\u001b[0;34m:\u001b[0m\u001b[0;34m\u001b[0m\u001b[0;34m\u001b[0m\u001b[0m\n\u001b[0;32m---> 11\u001b[0;31m             \u001b[0mvalue\u001b[0m \u001b[0;34m=\u001b[0m \u001b[0mviterbi\u001b[0m\u001b[0;34m[\u001b[0m\u001b[0;34m:\u001b[0m\u001b[0;34m,\u001b[0m \u001b[0mt\u001b[0m\u001b[0;34m-\u001b[0m\u001b[0;36m1\u001b[0m\u001b[0;34m]\u001b[0m \u001b[0;34m*\u001b[0m \u001b[0mtransition_matrix\u001b[0m\u001b[0;34m[\u001b[0m\u001b[0;34m:\u001b[0m\u001b[0;34m,\u001b[0m \u001b[0ms\u001b[0m\u001b[0;34m]\u001b[0m \u001b[0;34m*\u001b[0m \u001b[0mobservation_matrix\u001b[0m\u001b[0;34m[\u001b[0m\u001b[0ms\u001b[0m\u001b[0;34m,\u001b[0m \u001b[0mget_index_observ\u001b[0m\u001b[0;34m(\u001b[0m\u001b[0mobserv\u001b[0m\u001b[0;34m,\u001b[0m \u001b[0mt\u001b[0m\u001b[0;34m,\u001b[0m \u001b[0mvocab\u001b[0m\u001b[0;34m)\u001b[0m\u001b[0;34m]\u001b[0m\u001b[0;34m\u001b[0m\u001b[0;34m\u001b[0m\u001b[0m\n\u001b[0m\u001b[1;32m     12\u001b[0m             \u001b[0mviterbi\u001b[0m\u001b[0;34m[\u001b[0m\u001b[0ms\u001b[0m\u001b[0;34m,\u001b[0m \u001b[0mt\u001b[0m\u001b[0;34m]\u001b[0m \u001b[0;34m=\u001b[0m \u001b[0mnp\u001b[0m\u001b[0;34m.\u001b[0m\u001b[0mmax\u001b[0m\u001b[0;34m(\u001b[0m\u001b[0mvalue\u001b[0m\u001b[0;34m)\u001b[0m\u001b[0;34m\u001b[0m\u001b[0;34m\u001b[0m\u001b[0m\n\u001b[1;32m     13\u001b[0m             \u001b[0mbackpointer\u001b[0m\u001b[0;34m[\u001b[0m\u001b[0ms\u001b[0m\u001b[0;34m,\u001b[0m \u001b[0mt\u001b[0m\u001b[0;34m]\u001b[0m \u001b[0;34m=\u001b[0m \u001b[0mnp\u001b[0m\u001b[0;34m.\u001b[0m\u001b[0margmax\u001b[0m\u001b[0;34m(\u001b[0m\u001b[0mvalue\u001b[0m\u001b[0;34m)\u001b[0m\u001b[0;34m\u001b[0m\u001b[0;34m\u001b[0m\u001b[0m\n",
      "\u001b[0;32m/tmp/ipykernel_249591/3325010240.py\u001b[0m in \u001b[0;36mget_index_observ\u001b[0;34m(o, t, vocab)\u001b[0m\n\u001b[1;32m      1\u001b[0m \u001b[0;32mdef\u001b[0m \u001b[0mget_index_observ\u001b[0m\u001b[0;34m(\u001b[0m\u001b[0mo\u001b[0m\u001b[0;34m,\u001b[0m \u001b[0mt\u001b[0m\u001b[0;34m,\u001b[0m \u001b[0mvocab\u001b[0m\u001b[0;34m)\u001b[0m\u001b[0;34m:\u001b[0m\u001b[0;34m\u001b[0m\u001b[0;34m\u001b[0m\u001b[0m\n\u001b[1;32m      2\u001b[0m     \u001b[0;32mif\u001b[0m \u001b[0mo\u001b[0m\u001b[0;34m[\u001b[0m\u001b[0mt\u001b[0m\u001b[0;34m]\u001b[0m \u001b[0;32min\u001b[0m \u001b[0mvocab\u001b[0m\u001b[0;34m:\u001b[0m\u001b[0;34m\u001b[0m\u001b[0;34m\u001b[0m\u001b[0m\n\u001b[0;32m----> 3\u001b[0;31m         \u001b[0;32mreturn\u001b[0m \u001b[0mvocab\u001b[0m\u001b[0;34m.\u001b[0m\u001b[0mindex\u001b[0m\u001b[0;34m(\u001b[0m\u001b[0mo\u001b[0m\u001b[0;34m[\u001b[0m\u001b[0mt\u001b[0m\u001b[0;34m]\u001b[0m\u001b[0;34m)\u001b[0m\u001b[0;34m\u001b[0m\u001b[0;34m\u001b[0m\u001b[0m\n\u001b[0m\u001b[1;32m      4\u001b[0m     \u001b[0;32melse\u001b[0m\u001b[0;34m:\u001b[0m\u001b[0;34m\u001b[0m\u001b[0;34m\u001b[0m\u001b[0m\n\u001b[1;32m      5\u001b[0m         \u001b[0munk_index\u001b[0m \u001b[0;34m=\u001b[0m \u001b[0mvocab\u001b[0m\u001b[0;34m.\u001b[0m\u001b[0mindex\u001b[0m\u001b[0;34m(\u001b[0m\u001b[0;34m\"UNK\"\u001b[0m\u001b[0;34m)\u001b[0m\u001b[0;34m\u001b[0m\u001b[0;34m\u001b[0m\u001b[0m\n",
      "\u001b[0;31mKeyboardInterrupt\u001b[0m: "
     ]
    }
   ],
   "source": [
    "path , prob = viterbi(observ, observation_matrix, transition_matrix, vocab)\n",
    "# tags = [all_tags[i] for i in path] \n"
   ]
  },
  {
   "cell_type": "code",
   "execution_count": 105,
   "metadata": {},
   "outputs": [
    {
     "data": {
      "text/plain": [
       "(23, 10218)"
      ]
     },
     "execution_count": 105,
     "metadata": {},
     "output_type": "execute_result"
    }
   ],
   "source": [
    "observation_matrix.shape"
   ]
  },
  {
   "cell_type": "code",
   "execution_count": 147,
   "metadata": {},
   "outputs": [
    {
     "data": {
      "text/plain": [
       "['هجري', 'شمسي', 'فوت', 'كرد', 'و', 'در', 'قم', 'دفن', 'شد', '.']"
      ]
     },
     "execution_count": 147,
     "metadata": {},
     "output_type": "execute_result"
    }
   ],
   "source": [
    "O = observ[:10]\n",
    "O"
   ]
  },
  {
   "cell_type": "code",
   "execution_count": 141,
   "metadata": {},
   "outputs": [],
   "source": [
    "T = gold_tag[:10]"
   ]
  },
  {
   "cell_type": "code",
   "execution_count": 142,
   "metadata": {},
   "outputs": [
    {
     "data": {
      "text/plain": [
       "['ADJ', 'ADJ', 'N', 'V', 'CON', 'P', 'N', 'N', 'V', 'DELM']"
      ]
     },
     "execution_count": 142,
     "metadata": {},
     "output_type": "execute_result"
    }
   ],
   "source": [
    "T"
   ]
  },
  {
   "cell_type": "code",
   "execution_count": 190,
   "metadata": {},
   "outputs": [],
   "source": [
    "path , prob = viterbi(O, observation_matrix, transition_matrix, vocab)"
   ]
  },
  {
   "cell_type": "code",
   "execution_count": 192,
   "metadata": {},
   "outputs": [
    {
     "data": {
      "text/plain": [
       "8.017610903233123e-29"
      ]
     },
     "execution_count": 192,
     "metadata": {},
     "output_type": "execute_result"
    }
   ],
   "source": [
    "prob"
   ]
  },
  {
   "cell_type": "code",
   "execution_count": 148,
   "metadata": {},
   "outputs": [
    {
     "name": "stdout",
     "output_type": "stream",
     "text": [
      "best path pointer : 5\n",
      "lst before loop : [5]\n",
      "last idx : 5, t : 8\n",
      "lst in loop : [5, 12]\n",
      "last idx : 12, t : 7\n",
      "lst in loop : [5, 12, 12]\n",
      "last idx : 12, t : 6\n",
      "lst in loop : [5, 12, 12, 16]\n",
      "last idx : 16, t : 5\n",
      "lst in loop : [5, 12, 12, 16, 3]\n",
      "last idx : 3, t : 4\n",
      "lst in loop : [5, 12, 12, 16, 3, 22]\n",
      "last idx : 22, t : 3\n",
      "lst in loop : [5, 12, 12, 16, 3, 22, 12]\n",
      "last idx : 12, t : 2\n",
      "lst in loop : [5, 12, 12, 16, 3, 22, 12, 12]\n",
      "last idx : 12, t : 1\n",
      "lst in loop : [5, 12, 12, 16, 3, 22, 12, 12, 0]\n",
      "last idx : 0, t : 0\n",
      "lst in loop : [5, 12, 12, 16, 3, 22, 12, 12, 0, 0]\n"
     ]
    }
   ],
   "source": [
    "path , prob = viterbi(O, observation_matrix, transition_matrix, vocab)"
   ]
  },
  {
   "cell_type": "code",
   "execution_count": 168,
   "metadata": {},
   "outputs": [],
   "source": [
    "path , prob = viterbi2(O, observation_matrix, transition_matrix, vocab)"
   ]
  },
  {
   "cell_type": "code",
   "execution_count": 169,
   "metadata": {},
   "outputs": [
    {
     "data": {
      "text/plain": [
       "array([ 0., 12., 12., 22.,  3., 16., 12., 12., 22.,  5.])"
      ]
     },
     "execution_count": 169,
     "metadata": {},
     "output_type": "execute_result"
    }
   ],
   "source": [
    "path"
   ]
  },
  {
   "cell_type": "code",
   "execution_count": 199,
   "metadata": {},
   "outputs": [],
   "source": [
    "path = path.astype(np.int16)"
   ]
  },
  {
   "cell_type": "code",
   "execution_count": 201,
   "metadata": {},
   "outputs": [],
   "source": [
    "import time\n",
    "start_time = time.time()\n"
   ]
  },
  {
   "cell_type": "code",
   "execution_count": 205,
   "metadata": {},
   "outputs": [
    {
     "name": "stdout",
     "output_type": "stream",
     "text": [
      "wall time : 46.90720868110657 seconds\n"
     ]
    }
   ],
   "source": [
    "print(f'wall time : {(time.time() - start_time)} seconds')"
   ]
  },
  {
   "cell_type": "code",
   "execution_count": 206,
   "metadata": {},
   "outputs": [],
   "source": [
    "BASE_PATH = '/mnt/DAE855F7E855D1FD/github_msc/NLP/HW3/'\n",
    "with open(BASE_PATH + \"result.txt\", \"w\") as f:\n",
    "  f.write(f'wall time : {(time.time() - start_time)} seconds\\n')\n",
    "  f.write(f'hello')"
   ]
  },
  {
   "cell_type": "code",
   "execution_count": 200,
   "metadata": {},
   "outputs": [
    {
     "data": {
      "text/plain": [
       "array([ 0,  0, 12, 12, 22,  3, 16, 12, 12,  5], dtype=int16)"
      ]
     },
     "execution_count": 200,
     "metadata": {},
     "output_type": "execute_result"
    }
   ],
   "source": [
    "path"
   ]
  },
  {
   "cell_type": "code",
   "execution_count": 178,
   "metadata": {},
   "outputs": [
    {
     "data": {
      "text/plain": [
       "-64.69332721169258"
      ]
     },
     "execution_count": 178,
     "metadata": {},
     "output_type": "execute_result"
    }
   ],
   "source": [
    "prob"
   ]
  },
  {
   "cell_type": "code",
   "execution_count": 180,
   "metadata": {},
   "outputs": [],
   "source": [
    "from scipy.special import logsumexp\n",
    "x = logsumexp(prob)"
   ]
  },
  {
   "cell_type": "code",
   "execution_count": 181,
   "metadata": {},
   "outputs": [
    {
     "data": {
      "text/plain": [
       "-64.69332721169258"
      ]
     },
     "execution_count": 181,
     "metadata": {},
     "output_type": "execute_result"
    }
   ],
   "source": [
    "x"
   ]
  },
  {
   "cell_type": "markdown",
   "metadata": {},
   "source": []
  },
  {
   "cell_type": "code",
   "execution_count": 149,
   "metadata": {},
   "outputs": [
    {
     "data": {
      "text/plain": [
       "8.017610903233123e-29"
      ]
     },
     "execution_count": 149,
     "metadata": {},
     "output_type": "execute_result"
    }
   ],
   "source": [
    "prob"
   ]
  },
  {
   "cell_type": "code",
   "execution_count": 150,
   "metadata": {},
   "outputs": [],
   "source": [
    "tags = [all_tags[i] for i in path] \n"
   ]
  },
  {
   "cell_type": "code",
   "execution_count": 153,
   "metadata": {},
   "outputs": [
    {
     "data": {
      "text/plain": [
       "['ADJ', 'ADJ', 'N', 'V', 'CON', 'P', 'N', 'N', 'V', 'DELM']"
      ]
     },
     "execution_count": 153,
     "metadata": {},
     "output_type": "execute_result"
    }
   ],
   "source": [
    "T"
   ]
  },
  {
   "cell_type": "code",
   "execution_count": 151,
   "metadata": {},
   "outputs": [
    {
     "data": {
      "text/plain": [
       "['DELM', 'N', 'N', 'P', 'CON', 'V', 'N', 'N', 'ADJ', 'ADJ']"
      ]
     },
     "execution_count": 151,
     "metadata": {},
     "output_type": "execute_result"
    }
   ],
   "source": [
    "tags"
   ]
  },
  {
   "cell_type": "code",
   "execution_count": 152,
   "metadata": {},
   "outputs": [
    {
     "name": "stdout",
     "output_type": "stream",
     "text": [
      "0.4\n"
     ]
    }
   ],
   "source": [
    "tags == T\n",
    "true = 0\n",
    "for i in range(len(tags)):\n",
    "    if tags[i] == T[i]:\n",
    "        true += 1\n",
    "\n",
    "acc = true/ len(tags)\n",
    "print(acc)"
   ]
  },
  {
   "cell_type": "code",
   "execution_count": 216,
   "metadata": {},
   "outputs": [
    {
     "data": {
      "text/plain": [
       "259794"
      ]
     },
     "execution_count": 216,
     "metadata": {},
     "output_type": "execute_result"
    }
   ],
   "source": [
    "len(observ)"
   ]
  },
  {
   "cell_type": "code",
   "execution_count": 218,
   "metadata": {},
   "outputs": [
    {
     "data": {
      "text/plain": [
       "0.05029613704799594"
      ]
     },
     "execution_count": 218,
     "metadata": {},
     "output_type": "execute_result"
    }
   ],
   "source": [
    "observation_matrix[all_tags.index(\"N\"), vocab.index(\"UNK\")]"
   ]
  },
  {
   "cell_type": "code",
   "execution_count": 223,
   "metadata": {},
   "outputs": [
    {
     "name": "stdout",
     "output_type": "stream",
     "text": [
      "P(\"UNK\"|ADJ) => 0.05645753449735386\n",
      "P(\"UNK\"|ADV) => 0.03682053690057575\n",
      "P(\"UNK\"|AR) => 0.3742698758201663\n",
      "P(\"UNK\"|CON) => 0.003289304736220377\n",
      "P(\"UNK\"|DEFAULT) => 0.03282042887542969\n",
      "P(\"UNK\"|DELM) => 0.00027017464613287965\n",
      "P(\"UNK\"|DET) => 0.0011837870789994753\n",
      "P(\"UNK\"|IF) => 0.002027379661969569\n",
      "P(\"UNK\"|INT) => 0.009694759070838933\n",
      "P(\"UNK\"|MORP) => 0.04274489708771031\n",
      "P(\"UNK\"|MQUA) => 0.010972813625941696\n",
      "P(\"UNK\"|MS) => 0.07332267306282897\n",
      "P(\"UNK\"|N) => 0.05029613704799594\n",
      "P(\"UNK\"|NP) => 0.00900338741308611\n",
      "P(\"UNK\"|OH) => 0.00884568225608688\n",
      "P(\"UNK\"|OHH) => 0.01875349878708714\n",
      "P(\"UNK\"|P) => 0.0004898694028366529\n",
      "P(\"UNK\"|PP) => 0.0374505823271717\n",
      "P(\"UNK\"|PRO) => 0.001721060902516772\n",
      "P(\"UNK\"|PS) => 0.015092356209641085\n",
      "P(\"UNK\"|QUA) => 0.004167143555754403\n",
      "P(\"UNK\"|SPEC) => 0.002233623778141448\n",
      "P(\"UNK\"|V) => 0.033439028979213685\n"
     ]
    }
   ],
   "source": [
    "for i in range(len(observation_matrix[:, vocab.index(\"UNK\")])):\n",
    "    tag = all_tags[i]\n",
    "    print(f'P(\"UNK\"|{tag}) => {observation_matrix[i, vocab.index(\"UNK\")]}')"
   ]
  },
  {
   "cell_type": "code",
   "execution_count": 220,
   "metadata": {},
   "outputs": [
    {
     "data": {
      "text/plain": [
       "23"
      ]
     },
     "execution_count": 220,
     "metadata": {},
     "output_type": "execute_result"
    }
   ],
   "source": [
    "len(observation_matrix[:, vocab.index(\"UNK\")])"
   ]
  },
  {
   "cell_type": "code",
   "execution_count": 226,
   "metadata": {},
   "outputs": [
    {
     "data": {
      "text/plain": [
       "['،',\n",
       " 'از',\n",
       " 'داستان',\n",
       " '\"',\n",
       " 'ويلانالدوله',\n",
       " '\"',\n",
       " 'مجموعه',\n",
       " '\"',\n",
       " 'يكي',\n",
       " 'بود',\n",
       " 'يكي',\n",
       " 'نبود',\n",
       " '\"',\n",
       " '،',\n",
       " 'نمونهاي',\n",
       " 'از',\n",
       " 'نثر',\n",
       " 'وي',\n",
       " 'است',\n",
       " ':',\n",
       " 'ويلانالدوله',\n",
       " 'هر',\n",
       " 'روز',\n",
       " 'صبح',\n",
       " 'كه',\n",
       " 'چشمش',\n",
       " 'از',\n",
       " 'خواب',\n",
       " 'باز',\n",
       " 'ميشود',\n",
       " '،',\n",
       " 'خود',\n",
       " 'را',\n",
       " 'در',\n",
       " 'خانه',\n",
       " 'غير',\n",
       " 'و',\n",
       " 'رختخواب',\n",
       " 'ناشناسي',\n",
       " 'ميبيند',\n",
       " '.',\n",
       " 'محض',\n",
       " 'خالي']"
      ]
     },
     "execution_count": 226,
     "metadata": {},
     "output_type": "execute_result"
    }
   ],
   "source": [
    "observ[12:55]"
   ]
  },
  {
   "cell_type": "code",
   "execution_count": 207,
   "metadata": {},
   "outputs": [
    {
     "name": "stdout",
     "output_type": "stream",
     "text": [
      "              precision    recall  f1-score   support\n",
      "\n",
      "         ADJ       0.00      0.00      0.00         2\n",
      "         CON       1.00      1.00      1.00         1\n",
      "        DELM       0.00      0.00      0.00         1\n",
      "           N       0.75      1.00      0.86         3\n",
      "           P       0.00      0.00      0.00         1\n",
      "           V       0.00      0.00      0.00         2\n",
      "\n",
      "    accuracy                           0.40        10\n",
      "   macro avg       0.29      0.33      0.31        10\n",
      "weighted avg       0.33      0.40      0.36        10\n",
      "\n"
     ]
    }
   ],
   "source": [
    "from sklearn.metrics import classification_report\n",
    "print(classification_report(T, tags))  #########"
   ]
  },
  {
   "cell_type": "code",
   "execution_count": 135,
   "metadata": {},
   "outputs": [
    {
     "data": {
      "text/plain": [
       "['ADJ',\n",
       " 'ADV',\n",
       " 'AR',\n",
       " 'CON',\n",
       " 'DEFAULT',\n",
       " 'DELM',\n",
       " 'DET',\n",
       " 'IF',\n",
       " 'INT',\n",
       " 'MORP',\n",
       " 'MQUA',\n",
       " 'MS',\n",
       " 'N',\n",
       " 'NP',\n",
       " 'OH',\n",
       " 'OHH',\n",
       " 'P',\n",
       " 'PP',\n",
       " 'PRO',\n",
       " 'PS',\n",
       " 'QUA',\n",
       " 'SPEC',\n",
       " 'V']"
      ]
     },
     "execution_count": 135,
     "metadata": {},
     "output_type": "execute_result"
    }
   ],
   "source": [
    "all_tags"
   ]
  },
  {
   "cell_type": "code",
   "execution_count": 138,
   "metadata": {},
   "outputs": [
    {
     "data": {
      "text/plain": [
       "0.05665057656208099"
      ]
     },
     "execution_count": 138,
     "metadata": {},
     "output_type": "execute_result"
    }
   ],
   "source": [
    "observation_matrix[all_tags.index(\"ADJ\"), vocab.index(\"UNK\")]"
   ]
  },
  {
   "cell_type": "code",
   "execution_count": 140,
   "metadata": {},
   "outputs": [
    {
     "data": {
      "text/plain": [
       "0.0004910988336402701"
      ]
     },
     "execution_count": 140,
     "metadata": {},
     "output_type": "execute_result"
    }
   ],
   "source": [
    "observation_matrix[all_tags.index(\"P\"), vocab.index(\"UNK\")]"
   ]
  },
  {
   "cell_type": "code",
   "execution_count": null,
   "metadata": {},
   "outputs": [],
   "source": [
    "from sklearn"
   ]
  },
  {
   "cell_type": "code",
   "execution_count": 210,
   "metadata": {},
   "outputs": [
    {
     "data": {
      "text/plain": [
       "259794"
      ]
     },
     "execution_count": 210,
     "metadata": {},
     "output_type": "execute_result"
    }
   ],
   "source": [
    "len(gold_tag)"
   ]
  },
  {
   "cell_type": "code",
   "execution_count": 211,
   "metadata": {},
   "outputs": [
    {
     "data": {
      "text/plain": [
       "259794"
      ]
     },
     "execution_count": 211,
     "metadata": {},
     "output_type": "execute_result"
    }
   ],
   "source": [
    "from utils import *\n",
    "pred_tag = load_list('/mnt/DAE855F7E855D1FD/github_msc/NLP/HW3/predicted_tag')\n",
    "len(pred_tag)"
   ]
  },
  {
   "cell_type": "code",
   "execution_count": 213,
   "metadata": {},
   "outputs": [
    {
     "data": {
      "text/plain": [
       "['ADJ', 'ADJ', 'N', 'N', 'V', 'CON', 'P', 'N', 'N', 'V']"
      ]
     },
     "execution_count": 213,
     "metadata": {},
     "output_type": "execute_result"
    }
   ],
   "source": [
    "pred_tag[:10]\n"
   ]
  },
  {
   "cell_type": "code",
   "execution_count": 212,
   "metadata": {},
   "outputs": [
    {
     "data": {
      "text/plain": [
       "['ADJ', 'ADJ', 'N', 'V', 'CON', 'P', 'N', 'N', 'V', 'DELM']"
      ]
     },
     "execution_count": 212,
     "metadata": {},
     "output_type": "execute_result"
    }
   ],
   "source": [
    "gold_tag[:10]"
   ]
  },
  {
   "cell_type": "code",
   "execution_count": 214,
   "metadata": {},
   "outputs": [
    {
     "name": "stderr",
     "output_type": "stream",
     "text": [
      "/home/zahra/anaconda3/lib/python3.9/site-packages/sklearn/metrics/_classification.py:1248: UndefinedMetricWarning: Precision and F-score are ill-defined and being set to 0.0 in labels with no predicted samples. Use `zero_division` parameter to control this behavior.\n",
      "  _warn_prf(average, modifier, msg_start, len(result))\n",
      "/home/zahra/anaconda3/lib/python3.9/site-packages/sklearn/metrics/_classification.py:1248: UndefinedMetricWarning: Recall and F-score are ill-defined and being set to 0.0 in labels with no true samples. Use `zero_division` parameter to control this behavior.\n",
      "  _warn_prf(average, modifier, msg_start, len(result))\n",
      "/home/zahra/anaconda3/lib/python3.9/site-packages/sklearn/metrics/_classification.py:1248: UndefinedMetricWarning: Precision and F-score are ill-defined and being set to 0.0 in labels with no predicted samples. Use `zero_division` parameter to control this behavior.\n",
      "  _warn_prf(average, modifier, msg_start, len(result))\n",
      "/home/zahra/anaconda3/lib/python3.9/site-packages/sklearn/metrics/_classification.py:1248: UndefinedMetricWarning: Recall and F-score are ill-defined and being set to 0.0 in labels with no true samples. Use `zero_division` parameter to control this behavior.\n",
      "  _warn_prf(average, modifier, msg_start, len(result))\n"
     ]
    },
    {
     "name": "stdout",
     "output_type": "stream",
     "text": [
      "              precision    recall  f1-score   support\n",
      "\n",
      "         ADJ       0.13      0.69      0.21     32226\n",
      "         ADV       0.01      0.00      0.00      3096\n",
      "          AR       0.03      0.65      0.05        75\n",
      "         CON       0.02      0.01      0.01     20781\n",
      "     DEFAULT       0.00      0.00      0.00        21\n",
      "        DELM       0.07      0.03      0.04     27934\n",
      "         DET       0.00      0.00      0.00      3839\n",
      "          IF       0.00      0.00      0.00       177\n",
      "         INT       0.00      0.00      0.00         5\n",
      "        MORP       0.00      0.00      0.00       176\n",
      "        MQUA       0.00      0.00      0.00        37\n",
      "          MS       0.00      0.00      0.00        62\n",
      "           N       0.39      0.14      0.20    115385\n",
      "          NP       0.00      0.00      0.00         0\n",
      "          OH       0.00      0.00      0.00        10\n",
      "           P       0.03      0.01      0.02     30790\n",
      "          PP       0.00      0.00      0.00        56\n",
      "         PRO       0.01      0.00      0.01      4493\n",
      "          PS       0.00      0.00      0.00         7\n",
      "         QUA       0.00      0.00      0.00      1418\n",
      "        SPEC       0.01      0.00      0.00       380\n",
      "           V       0.01      0.00      0.01     18826\n",
      "\n",
      "    accuracy                           0.15    259794\n",
      "   macro avg       0.03      0.07      0.03    259794\n",
      "weighted avg       0.20      0.15      0.12    259794\n",
      "\n"
     ]
    },
    {
     "name": "stderr",
     "output_type": "stream",
     "text": [
      "/home/zahra/anaconda3/lib/python3.9/site-packages/sklearn/metrics/_classification.py:1248: UndefinedMetricWarning: Precision and F-score are ill-defined and being set to 0.0 in labels with no predicted samples. Use `zero_division` parameter to control this behavior.\n",
      "  _warn_prf(average, modifier, msg_start, len(result))\n",
      "/home/zahra/anaconda3/lib/python3.9/site-packages/sklearn/metrics/_classification.py:1248: UndefinedMetricWarning: Recall and F-score are ill-defined and being set to 0.0 in labels with no true samples. Use `zero_division` parameter to control this behavior.\n",
      "  _warn_prf(average, modifier, msg_start, len(result))\n"
     ]
    }
   ],
   "source": [
    "print(classification_report(gold_tag, pred_tag))"
   ]
  },
  {
   "cell_type": "code",
   "execution_count": null,
   "metadata": {},
   "outputs": [],
   "source": []
  }
 ],
 "metadata": {
  "interpreter": {
   "hash": "666300eb3fca4ff5ed7012f671ad3c1ea782d164be62c46c1232ba0db9557bbc"
  },
  "kernelspec": {
   "display_name": "Python 3.7.0 ('chatbot')",
   "language": "python",
   "name": "python3"
  },
  "language_info": {
   "codemirror_mode": {
    "name": "ipython",
    "version": 3
   },
   "file_extension": ".py",
   "mimetype": "text/x-python",
   "name": "python",
   "nbconvert_exporter": "python",
   "pygments_lexer": "ipython3",
   "version": "3.9.7"
  },
  "orig_nbformat": 4
 },
 "nbformat": 4,
 "nbformat_minor": 2
}
