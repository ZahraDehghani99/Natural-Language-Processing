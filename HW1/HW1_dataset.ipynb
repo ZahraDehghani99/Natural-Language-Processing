{
  "nbformat": 4,
  "nbformat_minor": 0,
  "metadata": {
    "colab": {
      "name": "NLP_HW1.ipynb",
      "provenance": [],
      "collapsed_sections": [],
      "authorship_tag": "ABX9TyPoTynpnDJ4k+0rc0jNqgKm",
      "include_colab_link": true
    },
    "kernelspec": {
      "name": "python3",
      "display_name": "Python 3"
    },
    "language_info": {
      "name": "python"
    }
  },
  "cells": [
    {
      "cell_type": "markdown",
      "metadata": {
        "id": "view-in-github",
        "colab_type": "text"
      },
      "source": [
        "<a href=\"https://colab.research.google.com/github/ZahraDehghani99/Natural-Language-Processing/blob/main/HW1/HW1_dataset.ipynb\" target=\"_parent\"><img src=\"https://colab.research.google.com/assets/colab-badge.svg\" alt=\"Open In Colab\"/></a>"
      ]
    },
    {
      "cell_type": "markdown",
      "source": [
        "# Home Work 1"
      ],
      "metadata": {
        "id": "5rEG87twgh6B"
      }
    },
    {
      "cell_type": "markdown",
      "source": [
        "## Data preparation\n",
        "In this section, we want to work on the Hamshahri corpus dataset. From the rar file, we use data in ham2->corpus. This directory consists of news files from 1996 to 2007. We want to work on one year's news. I select 2007 news."
      ],
      "metadata": {
        "id": "cbEeHCQWglBO"
      }
    },
    {
      "cell_type": "code",
      "execution_count": 1,
      "metadata": {
        "id": "79ifcgdngELE"
      },
      "outputs": [],
      "source": [
        "# Libraries for parsing XML\n",
        "import xml.etree.ElementTree as ET\n",
        "import pandas as pd  \n",
        "import csv\n",
        "import re\n",
        "import os\n",
        "\n",
        "# plot\n",
        "import matplotlib.pyplot as plt\n",
        "import seaborn as sns\n",
        "\n",
        "import warnings\n",
        "warnings.filterwarnings('ignore')"
      ]
    },
    {
      "cell_type": "code",
      "source": [
        "from google.colab import drive\n",
        "drive.mount('/content/drive')"
      ],
      "metadata": {
        "colab": {
          "base_uri": "https://localhost:8080/"
        },
        "id": "Z1XKA55dia-9",
        "outputId": "d9c1778a-d44e-4c95-ecaa-0427fb9ce753"
      },
      "execution_count": 2,
      "outputs": [
        {
          "output_type": "stream",
          "name": "stdout",
          "text": [
            "Drive already mounted at /content/drive; to attempt to forcibly remount, call drive.mount(\"/content/drive\", force_remount=True).\n"
          ]
        }
      ]
    },
    {
      "cell_type": "code",
      "source": [
        "# Let's take a look at folders inside the path\n",
        "os.listdir(\"/content/drive/MyDrive/AI-Internship/HAM2\")"
      ],
      "metadata": {
        "colab": {
          "base_uri": "https://localhost:8080/"
        },
        "id": "Mc50GzNRie31",
        "outputId": "41ff9525-d943-4202-e98b-5c3ccde7c7cb"
      },
      "execution_count": 3,
      "outputs": [
        {
          "output_type": "execute_result",
          "data": {
            "text/plain": [
              "['1996',\n",
              " '1997',\n",
              " '1998',\n",
              " '1999',\n",
              " '2000',\n",
              " '2001',\n",
              " '2002',\n",
              " '2003',\n",
              " '2004',\n",
              " '2005',\n",
              " '2006',\n",
              " '2007']"
            ]
          },
          "metadata": {},
          "execution_count": 3
        }
      ]
    },
    {
      "cell_type": "code",
      "source": [
        "print(f'number of files in 2007 folder : {len(os.listdir(\"/content/drive/MyDrive/AI-Internship/HAM2/2007\"))} \\n')\n",
        "print(f'some files in 2007 : {os.listdir(\"/content/drive/MyDrive/AI-Internship/HAM2/2007\")[:10]}')"
      ],
      "metadata": {
        "colab": {
          "base_uri": "https://localhost:8080/"
        },
        "id": "o1KOmsddiqOO",
        "outputId": "952b51a3-a0f3-43b6-c371-f34cd588fb5e"
      },
      "execution_count": 4,
      "outputs": [
        {
          "output_type": "stream",
          "name": "stdout",
          "text": [
            "number of files in 2007 folder : 90 \n",
            "\n",
            "some files in 2007 : ['hamshahri.dtd', 'HAM2-070102.xml', 'HAM2-070101.xml', 'HAM2-070110.xml', 'HAM2-070103.xml', 'HAM2-070106.xml', 'HAM2-070107.xml', 'HAM2-070104.xml', 'HAM2-070121.xml', 'HAM2-070114.xml']\n"
          ]
        }
      ]
    },
    {
      "cell_type": "markdown",
      "source": [
        "As we can see, news files are in the XML format. We should parse the XML files and then convert them to csv file. \n",
        "\n",
        "In the above we can see we have a DTD file. Let's take a look at this file."
      ],
      "metadata": {
        "id": "JGhf--AKRMds"
      }
    },
    {
      "cell_type": "code",
      "source": [
        "!cat /content/drive/MyDrive/AI-Internship/HAM2/2007/hamshahri.dtd"
      ],
      "metadata": {
        "colab": {
          "base_uri": "https://localhost:8080/"
        },
        "id": "aHTQVAYVkO9x",
        "outputId": "62baaab1-bc40-4780-9324-284454c5ad2f"
      },
      "execution_count": 5,
      "outputs": [
        {
          "output_type": "stream",
          "name": "stdout",
          "text": [
            "<?xml version=\"1.0\" encoding=\"ISO-8859-1\"?>\r\n",
            "<!ELEMENT HAMSHAHRI2 (COPYRIGHT, DOC+)>\r\n",
            "<!ELEMENT DOC (DOCID, DOCNO, ORIGINALFILE, ISSUE, DATE, CAT, CAT, TITLE, TEXT)>\r\n",
            "<!ELEMENT DOCID (#PCDATA)>\r\n",
            "<!ELEMENT DOCNO (#PCDATA)>\r\n",
            "<!ELEMENT ORIGINALFILE (#PCDATA)>\r\n",
            "<!ELEMENT ISSUE (#PCDATA)>\r\n",
            "<!ELEMENT DATE (#PCDATA)>\r\n",
            "<!ATTLIST DATE calender (Persian | Western) #REQUIRED>\r\n",
            "<!ELEMENT CAT (#PCDATA)>\r\n",
            "<!ATTLIST CAT xml:lang (en | fa) #REQUIRED>\r\n",
            "<!ELEMENT TITLE (#PCDATA)>\r\n",
            "<!ELEMENT TEXT (#PCDATA)>"
          ]
        }
      ]
    },
    {
      "cell_type": "code",
      "source": [
        "# store file names in the filename. We don't need a DTD file. So, we select elements from index 1 to the end.\n",
        "filename = os.listdir(\"/content/drive/MyDrive/AI-Internship/HAM2/2007\")[1:]\n",
        "print(f'number of XML files in 2007 : {len(filename)}')"
      ],
      "metadata": {
        "colab": {
          "base_uri": "https://localhost:8080/"
        },
        "id": "ZnyW2c4YjqTA",
        "outputId": "c1f4eebc-d918-46e3-df20-e1fc214157fd"
      },
      "execution_count": 6,
      "outputs": [
        {
          "output_type": "stream",
          "name": "stdout",
          "text": [
            "number of XML files in 2007 : 89\n"
          ]
        }
      ]
    },
    {
      "cell_type": "markdown",
      "source": [
        "Let's take a look at the first file to see its content."
      ],
      "metadata": {
        "id": "qwCrtwG-SNNo"
      }
    },
    {
      "cell_type": "code",
      "source": [
        "# Reading the first file\n",
        "filepath = \"/content/drive/MyDrive/AI-Internship/HAM2/2007\"\n",
        "file_path_file1 = os.path.join(filepath, filename[0])\n",
        "tree = ET.parse(file_path_file1)\n",
        "root = tree.getroot()\n",
        "print(f'root.tag and root.atrib : {root.tag} {root.attrib}')"
      ],
      "metadata": {
        "colab": {
          "base_uri": "https://localhost:8080/"
        },
        "id": "Tu5IpKxqku8Z",
        "outputId": "b4157afd-4d83-4c07-fecd-866a58117484"
      },
      "execution_count": 7,
      "outputs": [
        {
          "output_type": "stream",
          "name": "stdout",
          "text": [
            "root.tag and root.atrib : HAMSHAHRI2 {}\n"
          ]
        }
      ]
    },
    {
      "cell_type": "code",
      "source": [
        "elements = [elem.tag for elem in root.iter()]\n",
        "print(f'all elements in the tree : {set(elements)}')"
      ],
      "metadata": {
        "colab": {
          "base_uri": "https://localhost:8080/"
        },
        "id": "1SKgpF8UlIBs",
        "outputId": "dcd50761-8b29-4257-ada2-545d797317a0"
      },
      "execution_count": 8,
      "outputs": [
        {
          "output_type": "stream",
          "name": "stdout",
          "text": [
            "all elements in the tree : {'ORIGINALFILE', 'COPYRIGHT', 'TITLE', 'DATE', 'DOCNO', 'TEXT', 'DOCID', 'CAT', 'DOC', 'HAMSHAHRI2', 'IMAGE', 'ISSUE'}\n"
          ]
        }
      ]
    },
    {
      "cell_type": "code",
      "source": [
        "child_list = []\n",
        "for child in root:    \n",
        "  child_list.append([child.tag, child.attrib]) \n",
        "print(f'children of the root : {child_list}\\n')\n",
        "print(f'number of childrens in first file : {len(child_list)}')"
      ],
      "metadata": {
        "colab": {
          "base_uri": "https://localhost:8080/"
        },
        "id": "3aGVdKv6lTyU",
        "outputId": "984c6b62-2e63-4e9a-db86-aeeab8719487"
      },
      "execution_count": 9,
      "outputs": [
        {
          "output_type": "stream",
          "name": "stdout",
          "text": [
            "children of the root : [['COPYRIGHT', {}], ['DOC', {}], ['DOC', {}], ['DOC', {}], ['DOC', {}], ['DOC', {}], ['DOC', {}], ['DOC', {}], ['DOC', {}], ['DOC', {}], ['DOC', {}], ['DOC', {}], ['DOC', {}], ['DOC', {}], ['DOC', {}], ['DOC', {}], ['DOC', {}], ['DOC', {}], ['DOC', {}], ['DOC', {}], ['DOC', {}], ['DOC', {}], ['DOC', {}], ['DOC', {}], ['DOC', {}], ['DOC', {}], ['DOC', {}], ['DOC', {}], ['DOC', {}], ['DOC', {}], ['DOC', {}], ['DOC', {}], ['DOC', {}], ['DOC', {}], ['DOC', {}], ['DOC', {}], ['DOC', {}], ['DOC', {}], ['DOC', {}], ['DOC', {}], ['DOC', {}], ['DOC', {}], ['DOC', {}], ['DOC', {}], ['DOC', {}], ['DOC', {}], ['DOC', {}], ['DOC', {}], ['DOC', {}], ['DOC', {}], ['DOC', {}], ['DOC', {}], ['DOC', {}], ['DOC', {}], ['DOC', {}], ['DOC', {}], ['DOC', {}], ['DOC', {}], ['DOC', {}], ['DOC', {}], ['DOC', {}], ['DOC', {}], ['DOC', {}], ['DOC', {}], ['DOC', {}], ['DOC', {}], ['DOC', {}], ['DOC', {}], ['DOC', {}], ['DOC', {}], ['DOC', {}], ['DOC', {}], ['DOC', {}], ['DOC', {}], ['DOC', {}], ['DOC', {}], ['DOC', {}], ['DOC', {}], ['DOC', {}], ['DOC', {}], ['DOC', {}], ['DOC', {}], ['DOC', {}], ['DOC', {}], ['DOC', {}], ['DOC', {}], ['DOC', {}], ['DOC', {}], ['DOC', {}], ['DOC', {}], ['DOC', {}], ['DOC', {}], ['DOC', {}], ['DOC', {}], ['DOC', {}], ['DOC', {}], ['DOC', {}], ['DOC', {}], ['DOC', {}], ['DOC', {}], ['DOC', {}]]\n",
            "\n",
            "number of childrens in first file : 101\n"
          ]
        }
      ]
    },
    {
      "cell_type": "code",
      "source": [
        "print(ET.tostring(child, encoding='utf8').decode('utf8'))"
      ],
      "metadata": {
        "colab": {
          "base_uri": "https://localhost:8080/"
        },
        "id": "ugt_aJHuld-R",
        "outputId": "7acc43c8-4691-449f-93f2-67b395dcb8ac"
      },
      "execution_count": 10,
      "outputs": [
        {
          "output_type": "stream",
          "name": "stdout",
          "text": [
            "<?xml version='1.0' encoding='utf8'?>\n",
            "<DOC>\n",
            "<DOCID>HAM2-851012-100</DOCID>\n",
            "<DOCNO>HAM2-851012-100</DOCNO>\n",
            "<ORIGINALFILE>/1385/851012/world/_siasatw.htm</ORIGINALFILE>\n",
            "<ISSUE>سه شنبه 12 دي 1385</ISSUE>\n",
            "<DATE calender=\"Western\">2007-01-02</DATE>\n",
            "<DATE calender=\"Persian\">1385/10/12</DATE>\n",
            "<CAT xml:lang=\"fa\">سیاسی</CAT>\n",
            "<CAT xml:lang=\"en\">Politics</CAT>\n",
            "<TITLE>\n",
            "هيچ نگراني وجود ندارد\n",
            "الياس نادران نماينده مجلس در گفت وگو با همشهري انتخابات 24 آذر را ارزيابي مي كند\n",
            "</TITLE>\n",
            "<TEXT>\n",
            "<IMAGE>/1385/851012/world/008517.jpg</IMAGE>\n",
            "\n",
            "داريوش غفاري\n",
            "الياس نادران از نمايندگان مجلس هفتم است كه در ليست ائتلاف آبادگران ايران اسلامي در انتخابات هفتمين دوره مجلس شوراي اسلامي به مجلس راه يافت.\n",
            "وي همواره يكي از نيروهاي موثر در اصولگرايان مجلس بوده كه بيشتر در بخش اقتصادي مجلس هفتم نظرات كارشناسانه متعددي ارايه كرده است.\n",
            "نادران عليرغم اينكه عضو فراكسيون اصولگرايان مجلس شوراي اسلامي است اما هميشه رويه اي مستقل و منتقدانه نسبت به رفتار اصولگرايان از جمله عملكرد دولت داشته است گر چه در زمان مقتضي حمايت هاي خود را نيز از جنبه هاي مثبت عملكردي دولت داشته است.\n",
            "نادران معتقد است كه اصولگرايان نياز به يك بازبيني منطقي در شيوه هاي خود دارند تا بتوانند در آينده به طور منسجم تر عمل كنند.\n",
            "وي بر اين مساله تاكيد دارد كه اصولگرايان بايد اختلاف نظرات جزيي را كنار گذاشته و منطقي رفتاري را تعريف كنند و همه به منشور اصولگرايي و منطق رفتار اصولگرايي مقيد و پايبند باشند و بر اين اساس كار به پيش برود.\n",
            "*چه عاملي را در حضور با انگيزه و گسترده مردم عليرغم بيشتر پيش بيني ها حتي پيش بيني برخي مسئولان مؤثر مي دانيد؟\n",
            "- مردم ايران هميشه شگفتي آفرين بوده اند. در انتخابات 24آذر نيز مجموعه عواملي در اين مساله اثرگذار بود كه حضور پررنگ تري در اين انتخابات داشته باشند. از جمله عوامل حضور گسترده مردم در انتخابات 24 آذر را مي توان عوامل خارجي دانست كه شرايط هسته اي و چالش هاي بين المللي در آن دخيل بوده است. اصرار رسانه هاي وابسته به استكبار براي عدم حضور مردم و مأيوس كردن آنها از اثرگذاري در انتخابات حساسيت مردم را نسبت به امر انتخابات تحريك كرد و بنا به رويه اي كه تا كنون بوده كه هر وقت آنها بيشتر اصرار مي كردند مردم بيشتر حضور مي يافتند اين بار نيز مردم شگفتي را خلق كردند. در بعد مسايل داخلي عوامل متعددي موثر بوده است. اولاً تأكيد مقام معظم رهبري بر حضور پررنگ مردم در مقاطع مختلف، ديگر همزماني انتخابات خبرگان و شوراي شهر يعني همان تجميع انتخابات كه از قبل هم پيش بيني مي شد كه هم افزايي ايجاد كند و علاقمندان بر هر يك از اين دو انتخابات را به پاي صندوق ها بكشاند. علاوه بر اين مسايل به اعتقاد من عملكرد مثبت شوراهاي دوم شهر و اينكه مردم خود را در ازاي انتخاب مسئولاني كه مديريت شهر را بر عهده گيرند موثر ديدند. البته تلاش هاي رسانه هاي جمعي و تدابيري كه براي تهييج مردم براي ورود به عرصه انتخابات تدارك ديده شده بود از جمله تبيين جايگاه شوراها و خبرگان رهبري و برخوردهاي مثبتي كه صورت گرفت و تا حدودي عدم برخورد سياسي و جناحي دستگاه هاي اجرايي و نظارتي در حضور گسترده مردم موثر بوده است.\n",
            "* غير از حضور گسترده كه مردم در اين انتخابات رويكرد متفاوتي را نيز به نمايش گذاشتند. همين كه تركيب شوراي شهر تهران يك دست نبوده و تركيبي تقريبا ائتلافي بوده است؟ چگونه مي توان اين رويكرد را ارزيابي كرد؟\n",
            "- البته در سطح شهرستانها اين مسايل كمتر ديده شده است. آنچه بيشتر از همه نمود پررنگي پيدا كرده است انتخابات شهر تهران است. در انتخابات شهر تهران ائتلافي بين جناح هاي رقيب صورت نگرفته است و اين مردم بوده اند كه تركيبي از آرا را ابراز كرده اند. به اعتقاد من در اين مساله چند عامل موثر بوده است. اولا اينكه در جبهه اصولگرايي بر خلاف آنچه كه در جبهه دوم خرداد اتفاق افتاد ما شاهد ليست واحد نبوديم. بنابراين رقابت در داخل جبهه اصولگرايان هم وجود داشت. اين باعث شد كه مردم حق انتخاب طيف گسترده تري از نامزدها را داشته باشند. دوم اينكه جبهه دوم خرداد در عرصه انتخابات تدبيري را انديشيد كه تمام اختلافات درون گروهي خود را به بعد از انتخابات شوراي شهر موكول كردند و با وعده توزيع مديريت هاي شهري به افراد آنها را از صحنه رقابت خارج كردند و يا حضورشان را كم رنگ كردند و تلاش كردند ليست واحدي داده و از همه ظرفيت و شخصيت هاي ملي خود استفاده كردند. در عين حال تلاش كردند از چهره هاي كمتر مساله دار و كمتر سياسي در عرصه رقابت شوراي شهر استفاده كنند. به همين دليل افراد مشهورتر آنان كه در عرصه هاي مختلف مديريتي شركت داشتند امكان رأي آوردن را پيدا كردند. مجموعه عوامل هم در جبهه اصولگرايي و هم در جبهه اصلاح طلبان باعث شد كه اين شرايط فراهم شود كه شوراي شهر تركيبي شود. البته من اعتقادي ندارم كه شوراي تهران ائتلافي است زيرا اكثريت با ائتلاف بزرگ اصولگرايان است. قطعا اعضاي ائتلاف بزرگ اصولگرايان به دليل سعه صدري كه دارند از همه ظرفيت شورا براي پيشبرد مديريت شهري استفاده خواهند كرد اما براي تعيين شهردار و حوزه هاي مديريت شهري نيازي به ائتلاف با اقليت ندارند.\n",
            "* اشاره به وضعيت اصولگرايان در انتخابات شوراي شهر تهران كرديد اصولگرايان در اين انتخابات زمينه هاي وحدت خود را شكننده نشان دادند و اين گونه نشان داده شد كه كوچك ترين اختلاف امكان دارد وحدت آنان را بشكند و آراي آنان تقسيم شود. چرا اصولگرايان كارشان به اينجا كشيده شد؟\n",
            "- تلاش براي به ائتلاف آوردن همه گروه هاي اصولگرا انجام شد و تلاش براي اينكه چتر اصولگرايي گسترده شود صورت گرفته اما به نتيجه نرسيد كه شايد عمده دليل آن اين باشد كه گروه هايي كه احساس نزديكي بيشتري با دولت مي كردند و خودشان را بيشتر از بقيه حامي دولت مي دانستند تلقي اين را داشتند كه با توجه به وجهه مردمي آقاي دكتر احمدي نژاد امكان راي گرفتن از مردم را با اتكاي پشتوانه رييس جمهوري داشته باشند و نيازي به ائتلاف با ديگر گرايش هاي اصولگرايي ندارند. البته بر اساس نظرسنجي هايي كه صورت گرفته بود و اعلام رضايتي كه مردم از شوراي دوم شهر تهران داشتند و خدماتي كه چهره هاي برجسته شوراي دوم انجام داده بودند قابل پيش بيني بود كه مردم از ليست ائتلاف بزرگ اصولگرايان استقبال كنند. متاسفانه دوستان ما در ساير عرصه هاي مربوط به جبهه اصولگرايي اين تحليل را نپذيرفتند. البته اعتقاد ندارم كه اينها بيرون جبهه اصولگرايي خيمه زده اند اينها درون جبهه اصولگرايي هستند اما خواستند كه به نوعي تمايز بين ليست خود و ليست ائتلاف بزرگ قائل شوند. نكته اي كه حايز اهميت است اين است كه سرجمع آراي ليست هاي اصولگرايان اگر ائتلاف به صورت كامل انجام مي شد با آنچه كه در آرايش سياسي مجلس هفتم مشاهده شد تفاوتي نداشت. يعني مردم همان اقبالي كه در مجلس هفتم نسبت به آبادگران در تهران داشتند در شوراها هم آن را نشان دادند. به دليل اينكه دو ليست و ليست هاي تركيبي متعدد داده شد آرا بين آنها توزيع شد. اصلاح طلب ها هم بيشترين رايي را كه كسب كردند مربوط به خانم معصومه ابتكار بود و آن بيشتر از اولين راي كانديداي شان در مجلس هفتم نيست. اين نشان مي دهد كه اقبال به اصلاح طلبان و جبهه دوم خرداد در تهران افزايش پيدا نكرده است و اصولگرايان نيز اعتبار خود را از دست نداده اند. البته وقتي آرا توزيع و متعدد شود نتيجه اش اين مي شود كه شوراي شهر از يكپارچگي بيرون مي آيد.\n",
            "*گذشته از اينكه اكثريت شوراي تهران با ائتلاف بزرگ اصولگرايان است. بايد به اين مسئله توجه كرد كه حركت هماهنگي كه اصولگرايان در دو سه انتخابات گذشته داشته اند نتوانسته اند در اين انتخابات داشته باشند به عقيده شما اين مساله باعث تشديد اختلافات و شكاف جدي در جبهه اصولگرايي در انتخابات آينده نخواهد بود؟ به ويژه اينكه عده اي هم خود را بيشتر از بقيه حامي دولت مي دانند؟\n",
            "- با توجه به تجربه 24 آذر و اتفاقاتي كه قبل و بعد از آن افتاد حتما همه افرادي كه در جبهه اصولگرايي موثر هستند بايد تلاش كنند و آسيب شناسي دروني انجام دهند و بر اساس اين آسيب شناسي بر محوريت معيارهاي اصولگرايي بر ائتلاف و به وحدت رساندن نيروها تلاش كنند. از اين مساله كه اصولگرايان به نقطه مشترك دست يابند كه ائتلاف هاي قابل قبولي داشته باشيم به هيچ وجه نااميد نيستم. اتفاقا به عقيده من فرصت خوبي فراهم شده كه همه گرايشات درون جبهه اصولگرايي با تحليل درست از انتخابات 24 آذر براي مجلس هشتم خود را آماده كنند. اختلاف نظرات جزيي را كنار گذاشته و منطق رفتاري را تعريف كنند و همه به منشور اصولگرايي و منطق رفتار اصولگرايي مقيد و پايبند باشند و بر اين اساس كار به پيش برود.\n",
            "* ليست رايحه خوش خدمت كه به عقيده شما خود را بيشتر حامي دولت مي دانستند عليرغم اينكه از نزديكان رئيس جمهوري هستند نتوانستند به جز يكي دو نفر بقيه به شوراي شهر راه يابند برخي اين مساله را ناكامي دولت احمدي نژاد مي دانند و برخي نيز اين دو مسئله را بي ارتباط مي دانند ارزيابي شما از رفتار كساني كه اين ليست را ارايه كردند چيست؟\n",
            "- افرادي كه خود را منتسب به يك جريان از اصولگرايي\n",
            "مي كنند نبايد اين مساله را با آن جريان اصولگرايي همزاد بگيريم و به دليل همين سوءتفاهم همزادپنداري است كه مشكل ايجاد\n",
            "مي شود و افراد تصور مي كنند كه از پشتوانه مقبوليت و جايگاه مردمي آن شخصيت يا نهاد مي توانند استفاده كنند. در هر صورت اين ليست مجموعه اي از جوانها بودند كه با دولت همكاري خوبي داشتند و در سمت هاي مشاوره اي كمك مي كردند و پس از موقعي كه بايد از دولت جدا مي شدند براي حضور در رقابت هاي سياسي استعفا دادند. اين عده تجربه كافي برگزاري انتخابات بزرگ و رقابت هاي سياسي جدي با اين وسعت را نداشتند و به اين دليل هم تصور مي كردند كه پشتوانه مردمي آقاي رئيس جمهوري\n",
            "مي تواند به آنها كمك كند. مردم وقتي مي خواهند به افراد راي دهند به كاركردهاي خود آنها نگاه مي كنند و نه به پشتوانه ها. اگر جبهه دوم خرداد را هم ببينيم با اينكه آقاي خاتمي و كروبي و بسياري از افراد جبهه دوم خرداد حضور پيدا كردند و از مردم خواستند كه يكپارچه به ليست دوم خرداد راي دهند مردم جز به سه نفر افراد شاخصي كه به اعتبار سوابق ذهني كه از آنها داشتند به آنها راي دادند و به بقيه اعتنا نكردند.\n",
            "اين مساله نشان مي دهد كه مردم خيلي به اين نوع از پشتيباني ها و حمايت ها و يا ادعاهاي چسبندگي به مقامات توجهي نمي كنند، بلكه به كاركردها و عقبه افراد نگاه مي كنند و به پشتوانه هاي سياسي تشكيلاتي و حمايت هاي گروه هاي مختلف نگاه مي كنند. آنچه به اعتقاد مردم در اين اتفاقي كه افتاد مهم بود بيشتر از اين منظر است كه اگر ما دچار تفرقه و خودبزرگ بيني شديم و تصور كرديم كه مردم وقتي در عرصه اي به ما اقبال كرده اند اين تا ابد باقي خواهد ماند حتما اينگونه نيست. اگر ما كاركرد مثبتي نداشته باشيم و افرادي كه به عرصه رقابتها وارد مي شوند، عقبه مثبت و روشن و كارآمد نشان ندهند مردم عقد اخوت با هيچ كس نبسته اند.\n",
            "*پس عقيده شما اين است كه اين مساله را شكست دولت تلقي نمي كنيد؟\n",
            "- به هيچ وجه شكست دولت نيست. اتفاقا فكر مي كنم دولت اگر تحليلي از انتخابات داشته باشد و با كمك مجلس و نهادهاي مدني اگر همراهي و هم نظري و همكاري تنگاتنگ داشته باشند كه بتوانند خدمات برجسته براي كشور انجام دهند حتما اقبال مردم در دوره هاي بعد در مجلس هشتم و انتخابات بعدي رياست جمهوري نسبت به اصولگرايان بيشتر خواهد شد. مردم ايران نشان داده اند كه به اصولگرايان اميد بسته اند و به آنها اعتماد دارند و همان محبوبيت و مقبوليت مردمي در جبهه اصولگرايي وجود دارد و اگر اين ائتلاف و هم نظري در خدمت رساني به مردم كه شعار اوليه اصولگرايان بوده تداوم پيدا كند قطعا اقبال مردم به مجموعه جبهه اصولگرايان تقويت خواهد شد و هيچ نگراني از اين نظر وجود ندارد.\n",
            "*گفتيد كه شوراي شهر مجموعه اي تركيبي است نه ائتلافي. به عقيده شما اين مجموعه تركيبي مشكلي براي كار كردن ندارد و به سرنوشت شوراي اول دچار نمي شود؟\n",
            "- از اين منظر هيچ نگراني وجود ندارد. اولا افراد موثر در شورا كه جز ائتلاف بزرگ اصولگرايان هستند غالبا سابقه 4 سال خدمت رساني در شوراي دوم را داشته اند. مديريت چمران و دوستاني كه سابقه خدمت داشته اند و سعه صدر آنها در برخورد با گرايش هاي مختلف روشن است. اقليت هم براي اينكه نمي خواهد به افراط گري هاي قبل روي بياورد و شعارهاي تند و راديكال عليه مديريت نظام و عليه اصل نظام بدهد همراهي خواهد كرد و اين همراهي مثبت است. بايد از ظرفيت ايجاد شده استقبال كرد. يعني آن بخشي از جبهه دوم خرداد كه رفتار اصولگرايانه داشته باشد و خود را بتواند با شرايط موجود در كشور تطبيق دهد و خدمت رساني صادقانه را وجهه همت خود قرار دهد حتما بايد استقبال كنيم و فرصت را فراهم كنيم كه حضور پيدا كنند. به هيچ وجه انحصارطلبي و بسته عمل كردن نه در شان اصولگرايان است و نه در اعتقادات اصولگرايان چنين چيزي جايز است. فرصت خوبي است كه ما نشان دهيم مديريت اصولگرايي تحمل مي كند. مجلس هفتم هم اين نوع مديريت را نشان داد. برخي مواقع پيشنهادهاي معقول اقليت مجلس از طرف اكثريت با استقبال مواجه مي شود. زيرا ما به منطق و توسعه ظرفيت و استفاده از همه امكانات نگاه مي كنيم. اين مساله در شوراي شهر سوم هم نخواهد بود. من حتي فكر مي كنم شوراي شهر سوم تهران نمونه و الگويي خواهد بود از تعاملات مثبت بين اصولگرايان و جبهه دوم خرداد و اصولگرايان نشان خواهند داد كه تدبير لازم را براي مديريت كردن اقليت و استفاده از ظرفيت هاي آنان براي به سامان رساندن مديريت شهري خواهند داشت.\n",
            "</TEXT>\n",
            "</DOC>\n",
            "\n"
          ]
        }
      ]
    },
    {
      "cell_type": "markdown",
      "source": [
        "As we can see, some DOCs has IMAGE child."
      ],
      "metadata": {
        "id": "lGtrQxObTSxv"
      }
    },
    {
      "cell_type": "code",
      "source": [
        "for child in root.findall('./DOC/TEXT/'):\n",
        "  print(child.tag, child.attrib)"
      ],
      "metadata": {
        "colab": {
          "base_uri": "https://localhost:8080/"
        },
        "id": "j04N9vpvlh_T",
        "outputId": "93417b4d-b322-4456-c300-819700bcb08f"
      },
      "execution_count": 11,
      "outputs": [
        {
          "output_type": "stream",
          "name": "stdout",
          "text": [
            "IMAGE {}\n",
            "IMAGE {}\n",
            "IMAGE {}\n",
            "IMAGE {}\n",
            "IMAGE {}\n",
            "IMAGE {}\n",
            "IMAGE {}\n",
            "IMAGE {}\n",
            "IMAGE {}\n",
            "IMAGE {}\n",
            "IMAGE {}\n",
            "IMAGE {}\n",
            "IMAGE {}\n",
            "IMAGE {}\n",
            "IMAGE {}\n",
            "IMAGE {}\n",
            "IMAGE {}\n",
            "IMAGE {}\n",
            "IMAGE {}\n",
            "IMAGE {}\n",
            "IMAGE {}\n",
            "IMAGE {}\n",
            "IMAGE {}\n",
            "IMAGE {}\n",
            "IMAGE {}\n",
            "IMAGE {}\n",
            "IMAGE {}\n",
            "IMAGE {}\n",
            "IMAGE {}\n",
            "IMAGE {}\n",
            "IMAGE {}\n",
            "IMAGE {}\n",
            "IMAGE {}\n",
            "IMAGE {}\n",
            "IMAGE {}\n",
            "IMAGE {}\n",
            "IMAGE {}\n",
            "IMAGE {}\n",
            "IMAGE {}\n"
          ]
        }
      ]
    },
    {
      "cell_type": "markdown",
      "source": [
        "## Convert XML to CSV"
      ],
      "metadata": {
        "id": "FpYxdrtITjOc"
      }
    },
    {
      "cell_type": "markdown",
      "source": [
        "In this section we want to convert XML files to a CSV file. Each DOC in a XML file has different parts but we need only 4 of them (id, title, text and label). So our CSV file must have 4 columns and each row corresponds to each DOC in XML files."
      ],
      "metadata": {
        "id": "UOZYJH49ToUs"
      }
    },
    {
      "cell_type": "code",
      "source": [
        "from xml.etree.ElementTree import ParseError\n",
        "\n",
        "cols = ['id', 'title','text','label']\n",
        "csv_file = open('hamshahri-2007.csv', 'w', newline='')\n",
        "csvwriter = csv.writer(csv_file, lineterminator ='\\n')\n",
        "csvwriter.writerow(cols)\n",
        "\n",
        "def make_csv(folderpath, xmlfilename, csvwriter, csv_file):\n",
        "  try:\n",
        "    # parse each xml file\n",
        "    for i in range(len(xmlfilename)):\n",
        "      tree = ET.parse(os.path.join(folderpath, xmlfilename[i]))\n",
        "      root = tree.getroot()\n",
        "\n",
        "      for elem in root.findall(\"DOC\") :\n",
        "        rows = []\n",
        "        # parse DOCID\n",
        "        id = elem.find(\"DOCID\")\n",
        "        if id != None:\n",
        "          id = id.text\n",
        "        rows.append(id)\n",
        "\n",
        "        # parse TITLE\n",
        "        title = elem.find(\"TITLE\")\n",
        "        if title != None:\n",
        "          title = re.sub('\\n', ' ', title.text)\n",
        "        rows.append(title)  \n",
        "\n",
        "        # parse TEXT (thanks to https://stackoverflow.com/questions/68847136/parsing-xml-cdata-section-and-convert-it-to-csv-using-elementtree-python\n",
        "        # I found out how to read CDATA *after* IMAGE child in some DOCs)\n",
        "        sent = elem.find(\"TEXT\")\n",
        "        if sent != None:\n",
        "          sentence = list(sent)[-1].tail.strip() if list(sent) else sent.text.strip()\n",
        "          sentence = re.sub('\\n', ' ', sentence)\n",
        "          select_sentence = sentence.split('.')[:2] # select two first sentences\n",
        "          select_sentence = '.'.join(select_sentence)\n",
        "        rows.append(select_sentence)\n",
        "\n",
        "        # parse CAT\n",
        "        label = elem.find('CAT')\n",
        "        if label != None:\n",
        "          label = label.text\n",
        "        rows.append(label)  \n",
        "\n",
        "        # write rows in csv file\n",
        "        csvwriter.writerow(rows)\n",
        "    csv_file.close()\n",
        "  \n",
        "  except ParseError:\n",
        "    print(xmlfilename[i])\n",
        "    raise"
      ],
      "metadata": {
        "id": "FuLGrBpwlnlh"
      },
      "execution_count": 11,
      "outputs": []
    },
    {
      "cell_type": "code",
      "source": [
        "filepath = \"/content/drive/MyDrive/AI-Internship/HAM2/2007\"\n",
        "make_csv(filepath, filename, csvwriter, csv_file)"
      ],
      "metadata": {
        "id": "0ERc1wY0l6-2"
      },
      "execution_count": 12,
      "outputs": []
    },
    {
      "cell_type": "code",
      "source": [
        "df = pd.read_csv('/content/hamshahri-2007.csv')\n",
        "df.head()"
      ],
      "metadata": {
        "colab": {
          "base_uri": "https://localhost:8080/",
          "height": 206
        },
        "id": "o5YbncLnna7V",
        "outputId": "3ec1652f-7cef-4f69-cda6-7ea6d739d83b"
      },
      "execution_count": 13,
      "outputs": [
        {
          "output_type": "execute_result",
          "data": {
            "text/plain": [
              "                id                                              title  \\\n",
              "0  HAM2-851012-001   22 نمايش اين هفته در تالارهاي مختلف به اجرا د...   \n",
              "1  HAM2-851012-002                      مردگان، فيلم برگزيده منتقدان    \n",
              "2  HAM2-851012-003               برنامه هاي امروز جشنواره موسيقي فجر    \n",
              "3  HAM2-851012-004   پاسخ پارسايي به اعتراض هنرمندانآثاري كه از جش...   \n",
              "4  HAM2-851012-005                         تجلي كودك از دريچه معنويت    \n",
              "\n",
              "                                                text      label  \n",
              "0  گروه ادب و هنر- با نزديك شدن به بيست و پنجمين ...  ادب و هنر  \n",
              "1  مهر: انجمن منتقدان فيلم شيكاگو درام جنايي مردگ...  ادب و هنر  \n",
              "2  گروه ادب و هنر- امروز گروه موسيقي بانوان ياورا...  ادب و هنر  \n",
              "3  واحد مركزي خبر: رئيس مركز هنرهاي نمايشي گفت: ت...  ادب و هنر  \n",
              "4  گروه ادب و هنر- موزه هنرهاي معاصر فلسطين كه هم...  ادب و هنر  "
            ],
            "text/html": [
              "\n",
              "  <div id=\"df-00e9019c-3c26-481e-9d4e-70bc018aa4b9\">\n",
              "    <div class=\"colab-df-container\">\n",
              "      <div>\n",
              "<style scoped>\n",
              "    .dataframe tbody tr th:only-of-type {\n",
              "        vertical-align: middle;\n",
              "    }\n",
              "\n",
              "    .dataframe tbody tr th {\n",
              "        vertical-align: top;\n",
              "    }\n",
              "\n",
              "    .dataframe thead th {\n",
              "        text-align: right;\n",
              "    }\n",
              "</style>\n",
              "<table border=\"1\" class=\"dataframe\">\n",
              "  <thead>\n",
              "    <tr style=\"text-align: right;\">\n",
              "      <th></th>\n",
              "      <th>id</th>\n",
              "      <th>title</th>\n",
              "      <th>text</th>\n",
              "      <th>label</th>\n",
              "    </tr>\n",
              "  </thead>\n",
              "  <tbody>\n",
              "    <tr>\n",
              "      <th>0</th>\n",
              "      <td>HAM2-851012-001</td>\n",
              "      <td>22 نمايش اين هفته در تالارهاي مختلف به اجرا د...</td>\n",
              "      <td>گروه ادب و هنر- با نزديك شدن به بيست و پنجمين ...</td>\n",
              "      <td>ادب و هنر</td>\n",
              "    </tr>\n",
              "    <tr>\n",
              "      <th>1</th>\n",
              "      <td>HAM2-851012-002</td>\n",
              "      <td>مردگان، فيلم برگزيده منتقدان</td>\n",
              "      <td>مهر: انجمن منتقدان فيلم شيكاگو درام جنايي مردگ...</td>\n",
              "      <td>ادب و هنر</td>\n",
              "    </tr>\n",
              "    <tr>\n",
              "      <th>2</th>\n",
              "      <td>HAM2-851012-003</td>\n",
              "      <td>برنامه هاي امروز جشنواره موسيقي فجر</td>\n",
              "      <td>گروه ادب و هنر- امروز گروه موسيقي بانوان ياورا...</td>\n",
              "      <td>ادب و هنر</td>\n",
              "    </tr>\n",
              "    <tr>\n",
              "      <th>3</th>\n",
              "      <td>HAM2-851012-004</td>\n",
              "      <td>پاسخ پارسايي به اعتراض هنرمندانآثاري كه از جش...</td>\n",
              "      <td>واحد مركزي خبر: رئيس مركز هنرهاي نمايشي گفت: ت...</td>\n",
              "      <td>ادب و هنر</td>\n",
              "    </tr>\n",
              "    <tr>\n",
              "      <th>4</th>\n",
              "      <td>HAM2-851012-005</td>\n",
              "      <td>تجلي كودك از دريچه معنويت</td>\n",
              "      <td>گروه ادب و هنر- موزه هنرهاي معاصر فلسطين كه هم...</td>\n",
              "      <td>ادب و هنر</td>\n",
              "    </tr>\n",
              "  </tbody>\n",
              "</table>\n",
              "</div>\n",
              "      <button class=\"colab-df-convert\" onclick=\"convertToInteractive('df-00e9019c-3c26-481e-9d4e-70bc018aa4b9')\"\n",
              "              title=\"Convert this dataframe to an interactive table.\"\n",
              "              style=\"display:none;\">\n",
              "        \n",
              "  <svg xmlns=\"http://www.w3.org/2000/svg\" height=\"24px\"viewBox=\"0 0 24 24\"\n",
              "       width=\"24px\">\n",
              "    <path d=\"M0 0h24v24H0V0z\" fill=\"none\"/>\n",
              "    <path d=\"M18.56 5.44l.94 2.06.94-2.06 2.06-.94-2.06-.94-.94-2.06-.94 2.06-2.06.94zm-11 1L8.5 8.5l.94-2.06 2.06-.94-2.06-.94L8.5 2.5l-.94 2.06-2.06.94zm10 10l.94 2.06.94-2.06 2.06-.94-2.06-.94-.94-2.06-.94 2.06-2.06.94z\"/><path d=\"M17.41 7.96l-1.37-1.37c-.4-.4-.92-.59-1.43-.59-.52 0-1.04.2-1.43.59L10.3 9.45l-7.72 7.72c-.78.78-.78 2.05 0 2.83L4 21.41c.39.39.9.59 1.41.59.51 0 1.02-.2 1.41-.59l7.78-7.78 2.81-2.81c.8-.78.8-2.07 0-2.86zM5.41 20L4 18.59l7.72-7.72 1.47 1.35L5.41 20z\"/>\n",
              "  </svg>\n",
              "      </button>\n",
              "      \n",
              "  <style>\n",
              "    .colab-df-container {\n",
              "      display:flex;\n",
              "      flex-wrap:wrap;\n",
              "      gap: 12px;\n",
              "    }\n",
              "\n",
              "    .colab-df-convert {\n",
              "      background-color: #E8F0FE;\n",
              "      border: none;\n",
              "      border-radius: 50%;\n",
              "      cursor: pointer;\n",
              "      display: none;\n",
              "      fill: #1967D2;\n",
              "      height: 32px;\n",
              "      padding: 0 0 0 0;\n",
              "      width: 32px;\n",
              "    }\n",
              "\n",
              "    .colab-df-convert:hover {\n",
              "      background-color: #E2EBFA;\n",
              "      box-shadow: 0px 1px 2px rgba(60, 64, 67, 0.3), 0px 1px 3px 1px rgba(60, 64, 67, 0.15);\n",
              "      fill: #174EA6;\n",
              "    }\n",
              "\n",
              "    [theme=dark] .colab-df-convert {\n",
              "      background-color: #3B4455;\n",
              "      fill: #D2E3FC;\n",
              "    }\n",
              "\n",
              "    [theme=dark] .colab-df-convert:hover {\n",
              "      background-color: #434B5C;\n",
              "      box-shadow: 0px 1px 3px 1px rgba(0, 0, 0, 0.15);\n",
              "      filter: drop-shadow(0px 1px 2px rgba(0, 0, 0, 0.3));\n",
              "      fill: #FFFFFF;\n",
              "    }\n",
              "  </style>\n",
              "\n",
              "      <script>\n",
              "        const buttonEl =\n",
              "          document.querySelector('#df-00e9019c-3c26-481e-9d4e-70bc018aa4b9 button.colab-df-convert');\n",
              "        buttonEl.style.display =\n",
              "          google.colab.kernel.accessAllowed ? 'block' : 'none';\n",
              "\n",
              "        async function convertToInteractive(key) {\n",
              "          const element = document.querySelector('#df-00e9019c-3c26-481e-9d4e-70bc018aa4b9');\n",
              "          const dataTable =\n",
              "            await google.colab.kernel.invokeFunction('convertToInteractive',\n",
              "                                                     [key], {});\n",
              "          if (!dataTable) return;\n",
              "\n",
              "          const docLinkHtml = 'Like what you see? Visit the ' +\n",
              "            '<a target=\"_blank\" href=https://colab.research.google.com/notebooks/data_table.ipynb>data table notebook</a>'\n",
              "            + ' to learn more about interactive tables.';\n",
              "          element.innerHTML = '';\n",
              "          dataTable['output_type'] = 'display_data';\n",
              "          await google.colab.output.renderOutput(dataTable, element);\n",
              "          const docLink = document.createElement('div');\n",
              "          docLink.innerHTML = docLinkHtml;\n",
              "          element.appendChild(docLink);\n",
              "        }\n",
              "      </script>\n",
              "    </div>\n",
              "  </div>\n",
              "  "
            ]
          },
          "metadata": {},
          "execution_count": 13
        }
      ]
    },
    {
      "cell_type": "code",
      "source": [
        "print(f'hamshahri-2007 shape : {df.shape}')"
      ],
      "metadata": {
        "colab": {
          "base_uri": "https://localhost:8080/"
        },
        "id": "3eG16jmav7Ti",
        "outputId": "8d067999-aae9-4df1-b3b5-4c4d8fabe93e"
      },
      "execution_count": 14,
      "outputs": [
        {
          "output_type": "stream",
          "name": "stdout",
          "text": [
            "hamshahri-2007 shape : (9364, 4)\n"
          ]
        }
      ]
    },
    {
      "cell_type": "code",
      "source": [
        "df.label.value_counts()"
      ],
      "metadata": {
        "colab": {
          "base_uri": "https://localhost:8080/"
        },
        "id": "-JFg1eNPrRIH",
        "outputId": "ca104254-bef0-4201-e78a-9516550b569d"
      },
      "execution_count": 15,
      "outputs": [
        {
          "output_type": "execute_result",
          "data": {
            "text/plain": [
              "اجتماعی                                       1157\n",
              "سیاسی                                         1066\n",
              "گوناگون                                       1035\n",
              "اقتصاد                                         880\n",
              "گوناگون.شهری                                   865\n",
              "اقتصاد.بورس و بانک                             653\n",
              "ادب و هنر                                      637\n",
              "گوناگون.خارجی                                  624\n",
              "گوناگون.حوادث                                  538\n",
              "علمی فرهنگی.علمی.ارتباطات و فناوری اطلاعات     393\n",
              "علمی فرهنگی.علمی.پزشکی و درمان                 306\n",
              "ادب و هنر.هنر.سینما                            253\n",
              "علمی فرهنگی.علمی                               226\n",
              "ادب و هنر.هنر.تئاتر                            145\n",
              "علمی فرهنگی                                    134\n",
              "ادب و هنر.هنر                                  103\n",
              "علمی فرهنگی.علمی.کتاب                           99\n",
              "گردشگری                                         68\n",
              "ادب و هنر.ادبیات                                52\n",
              "ادب و هنر.هنر.موسیقی                            47\n",
              "اجتماعی.معارف                                   41\n",
              "ورزش                                            27\n",
              "سیاسی.سیاست داخلی                               15\n",
              "Name: label, dtype: int64"
            ]
          },
          "metadata": {},
          "execution_count": 15
        }
      ]
    },
    {
      "cell_type": "markdown",
      "source": [
        "Let's show the distribution of data in each class. First we should install some libraries to show persian words in the correct way."
      ],
      "metadata": {
        "id": "WUKdkQRWvnIB"
      }
    },
    {
      "cell_type": "code",
      "source": [
        "!pip install -q python-bidi\n",
        "!pip install -q arabic-reshaper"
      ],
      "metadata": {
        "id": "EVTYoI_Q_mEC"
      },
      "execution_count": 17,
      "outputs": []
    },
    {
      "cell_type": "code",
      "source": [
        "# libraries for show persian words in correct way(right to left)\n",
        "from bidi.algorithm import get_display\n",
        "from arabic_reshaper import reshape\n",
        "\n",
        "y = pd.DataFrame(df['label'])\n",
        "classes = [get_display(reshape(label)) for label in y.label]\n",
        "y = pd.DataFrame(classes)\n",
        "y.columns = ['label']"
      ],
      "metadata": {
        "id": "FqxR-7Zv_qCK"
      },
      "execution_count": 18,
      "outputs": []
    },
    {
      "cell_type": "code",
      "source": [
        "fig = plt.figure(figsize=(16,10))\n",
        "sns.countplot(x=\"label\", data=y)\n",
        "plt.title(\"Distribution of data in each class\")\n",
        "plt.xticks(rotation=90)\n",
        "plt.rc('xtick', labelsize=15)\n",
        "plt.show()"
      ],
      "metadata": {
        "colab": {
          "base_uri": "https://localhost:8080/",
          "height": 815
        },
        "id": "U7euea6trWr6",
        "outputId": "847733ec-6931-4148-ba09-839adc65b086"
      },
      "execution_count": 19,
      "outputs": [
        {
          "output_type": "display_data",
          "data": {
            "text/plain": [
              "<Figure size 1152x720 with 1 Axes>"
            ],
            "image/png": "[encoded data removed]"
          },
          "metadata": {
            "needs_background": "light"
          }
        }
      ]
    },
    {
      "cell_type": "markdown",
      "source": [
        "we want to use just social news for our dataset."
      ],
      "metadata": {
        "id": "OkSigwWU1kTW"
      }
    },
    {
      "cell_type": "code",
      "source": [
        "mask_column = ['اجتماعی']\n",
        "dataset = df.copy()\n",
        "df_social = dataset.loc[dataset['label'].isin(mask_column)]"
      ],
      "metadata": {
        "id": "Dhx_j_wuD9Te"
      },
      "execution_count": 16,
      "outputs": []
    },
    {
      "cell_type": "code",
      "source": [
        "df_social.head()"
      ],
      "metadata": {
        "colab": {
          "base_uri": "https://localhost:8080/",
          "height": 206
        },
        "id": "fSBpY9JLEPlh",
        "outputId": "ea4cc400-4f19-44f6-a45a-3321e2c22e02"
      },
      "execution_count": 17,
      "outputs": [
        {
          "output_type": "execute_result",
          "data": {
            "text/plain": [
              "                 id                                              title  \\\n",
              "20  HAM2-851012-021   سازمان بهزيستي مطرح كرد درخواست افزايش 6 براب...   \n",
              "21  HAM2-851012-022                                           با مردم    \n",
              "22  HAM2-851012-023   با ابلاغ شيوه نامه اجرايي پرونده هاي مطالبه م...   \n",
              "23  HAM2-851012-024   مهلت 2 ماهه وزارت رفاه براي راه اندازي بانك ا...   \n",
              "24  HAM2-851012-025       برنامه جامع كنترل آسيب هاي اجتماعي تدوين شد    \n",
              "\n",
              "                                                 text    label  \n",
              "20  گروه اجتماعي- سازمان بهزيستي رشد 6 برابري بودج...  اجتماعی  \n",
              "21  پرندگان را دريابيم پرندگان زيباترين نشانه هاي ...  اجتماعی  \n",
              "22  گروه اجتماعي - آيت الله هاشمي شاهرودي، رئيس قو...  اجتماعی  \n",
              "23  فارس: عضو كميسيون اجتماعي مجلس از مهلت 2 ماهه ...  اجتماعی  \n",
              "24  فارس: رئيس سازمان بهزيستي كشور از تدوين برنامه...  اجتماعی  "
            ],
            "text/html": [
              "\n",
              "  <div id=\"df-b18931cc-7277-40a0-b6d5-ae88768160cd\">\n",
              "    <div class=\"colab-df-container\">\n",
              "      <div>\n",
              "<style scoped>\n",
              "    .dataframe tbody tr th:only-of-type {\n",
              "        vertical-align: middle;\n",
              "    }\n",
              "\n",
              "    .dataframe tbody tr th {\n",
              "        vertical-align: top;\n",
              "    }\n",
              "\n",
              "    .dataframe thead th {\n",
              "        text-align: right;\n",
              "    }\n",
              "</style>\n",
              "<table border=\"1\" class=\"dataframe\">\n",
              "  <thead>\n",
              "    <tr style=\"text-align: right;\">\n",
              "      <th></th>\n",
              "      <th>id</th>\n",
              "      <th>title</th>\n",
              "      <th>text</th>\n",
              "      <th>label</th>\n",
              "    </tr>\n",
              "  </thead>\n",
              "  <tbody>\n",
              "    <tr>\n",
              "      <th>20</th>\n",
              "      <td>HAM2-851012-021</td>\n",
              "      <td>سازمان بهزيستي مطرح كرد درخواست افزايش 6 براب...</td>\n",
              "      <td>گروه اجتماعي- سازمان بهزيستي رشد 6 برابري بودج...</td>\n",
              "      <td>اجتماعی</td>\n",
              "    </tr>\n",
              "    <tr>\n",
              "      <th>21</th>\n",
              "      <td>HAM2-851012-022</td>\n",
              "      <td>با مردم</td>\n",
              "      <td>پرندگان را دريابيم پرندگان زيباترين نشانه هاي ...</td>\n",
              "      <td>اجتماعی</td>\n",
              "    </tr>\n",
              "    <tr>\n",
              "      <th>22</th>\n",
              "      <td>HAM2-851012-023</td>\n",
              "      <td>با ابلاغ شيوه نامه اجرايي پرونده هاي مطالبه م...</td>\n",
              "      <td>گروه اجتماعي - آيت الله هاشمي شاهرودي، رئيس قو...</td>\n",
              "      <td>اجتماعی</td>\n",
              "    </tr>\n",
              "    <tr>\n",
              "      <th>23</th>\n",
              "      <td>HAM2-851012-024</td>\n",
              "      <td>مهلت 2 ماهه وزارت رفاه براي راه اندازي بانك ا...</td>\n",
              "      <td>فارس: عضو كميسيون اجتماعي مجلس از مهلت 2 ماهه ...</td>\n",
              "      <td>اجتماعی</td>\n",
              "    </tr>\n",
              "    <tr>\n",
              "      <th>24</th>\n",
              "      <td>HAM2-851012-025</td>\n",
              "      <td>برنامه جامع كنترل آسيب هاي اجتماعي تدوين شد</td>\n",
              "      <td>فارس: رئيس سازمان بهزيستي كشور از تدوين برنامه...</td>\n",
              "      <td>اجتماعی</td>\n",
              "    </tr>\n",
              "  </tbody>\n",
              "</table>\n",
              "</div>\n",
              "      <button class=\"colab-df-convert\" onclick=\"convertToInteractive('df-b18931cc-7277-40a0-b6d5-ae88768160cd')\"\n",
              "              title=\"Convert this dataframe to an interactive table.\"\n",
              "              style=\"display:none;\">\n",
              "        \n",
              "  <svg xmlns=\"http://www.w3.org/2000/svg\" height=\"24px\"viewBox=\"0 0 24 24\"\n",
              "       width=\"24px\">\n",
              "    <path d=\"M0 0h24v24H0V0z\" fill=\"none\"/>\n",
              "    <path d=\"M18.56 5.44l.94 2.06.94-2.06 2.06-.94-2.06-.94-.94-2.06-.94 2.06-2.06.94zm-11 1L8.5 8.5l.94-2.06 2.06-.94-2.06-.94L8.5 2.5l-.94 2.06-2.06.94zm10 10l.94 2.06.94-2.06 2.06-.94-2.06-.94-.94-2.06-.94 2.06-2.06.94z\"/><path d=\"M17.41 7.96l-1.37-1.37c-.4-.4-.92-.59-1.43-.59-.52 0-1.04.2-1.43.59L10.3 9.45l-7.72 7.72c-.78.78-.78 2.05 0 2.83L4 21.41c.39.39.9.59 1.41.59.51 0 1.02-.2 1.41-.59l7.78-7.78 2.81-2.81c.8-.78.8-2.07 0-2.86zM5.41 20L4 18.59l7.72-7.72 1.47 1.35L5.41 20z\"/>\n",
              "  </svg>\n",
              "      </button>\n",
              "      \n",
              "  <style>\n",
              "    .colab-df-container {\n",
              "      display:flex;\n",
              "      flex-wrap:wrap;\n",
              "      gap: 12px;\n",
              "    }\n",
              "\n",
              "    .colab-df-convert {\n",
              "      background-color: #E8F0FE;\n",
              "      border: none;\n",
              "      border-radius: 50%;\n",
              "      cursor: pointer;\n",
              "      display: none;\n",
              "      fill: #1967D2;\n",
              "      height: 32px;\n",
              "      padding: 0 0 0 0;\n",
              "      width: 32px;\n",
              "    }\n",
              "\n",
              "    .colab-df-convert:hover {\n",
              "      background-color: #E2EBFA;\n",
              "      box-shadow: 0px 1px 2px rgba(60, 64, 67, 0.3), 0px 1px 3px 1px rgba(60, 64, 67, 0.15);\n",
              "      fill: #174EA6;\n",
              "    }\n",
              "\n",
              "    [theme=dark] .colab-df-convert {\n",
              "      background-color: #3B4455;\n",
              "      fill: #D2E3FC;\n",
              "    }\n",
              "\n",
              "    [theme=dark] .colab-df-convert:hover {\n",
              "      background-color: #434B5C;\n",
              "      box-shadow: 0px 1px 3px 1px rgba(0, 0, 0, 0.15);\n",
              "      filter: drop-shadow(0px 1px 2px rgba(0, 0, 0, 0.3));\n",
              "      fill: #FFFFFF;\n",
              "    }\n",
              "  </style>\n",
              "\n",
              "      <script>\n",
              "        const buttonEl =\n",
              "          document.querySelector('#df-b18931cc-7277-40a0-b6d5-ae88768160cd button.colab-df-convert');\n",
              "        buttonEl.style.display =\n",
              "          google.colab.kernel.accessAllowed ? 'block' : 'none';\n",
              "\n",
              "        async function convertToInteractive(key) {\n",
              "          const element = document.querySelector('#df-b18931cc-7277-40a0-b6d5-ae88768160cd');\n",
              "          const dataTable =\n",
              "            await google.colab.kernel.invokeFunction('convertToInteractive',\n",
              "                                                     [key], {});\n",
              "          if (!dataTable) return;\n",
              "\n",
              "          const docLinkHtml = 'Like what you see? Visit the ' +\n",
              "            '<a target=\"_blank\" href=https://colab.research.google.com/notebooks/data_table.ipynb>data table notebook</a>'\n",
              "            + ' to learn more about interactive tables.';\n",
              "          element.innerHTML = '';\n",
              "          dataTable['output_type'] = 'display_data';\n",
              "          await google.colab.output.renderOutput(dataTable, element);\n",
              "          const docLink = document.createElement('div');\n",
              "          docLink.innerHTML = docLinkHtml;\n",
              "          element.appendChild(docLink);\n",
              "        }\n",
              "      </script>\n",
              "    </div>\n",
              "  </div>\n",
              "  "
            ]
          },
          "metadata": {},
          "execution_count": 17
        }
      ]
    },
    {
      "cell_type": "code",
      "source": [
        "print(f'social shape : {df_social.shape}')"
      ],
      "metadata": {
        "colab": {
          "base_uri": "https://localhost:8080/"
        },
        "id": "8Isfhyn7xt38",
        "outputId": "6ef0ceb9-ab64-4baf-b316-6c0e94300533"
      },
      "execution_count": 18,
      "outputs": [
        {
          "output_type": "stream",
          "name": "stdout",
          "text": [
            "social shape : (1157, 4)\n"
          ]
        }
      ]
    },
    {
      "cell_type": "markdown",
      "source": [
        "Let's write the text of this new dataset in a .txt file and use this dataset in language model.Each line should have on sentence."
      ],
      "metadata": {
        "id": "RJQQLia-x_CM"
      }
    },
    {
      "cell_type": "code",
      "source": [
        "text = [txt for txt in df_social.text]\n",
        "sentences = [sent.split('.') for sent in text]\n",
        "line = []\n",
        "for i in sentences:\n",
        "  for j in i:\n",
        "    line.append(j)\n",
        "print(f'number of lines : {len(line)}')    "
      ],
      "metadata": {
        "colab": {
          "base_uri": "https://localhost:8080/"
        },
        "id": "zamt4fLqH-Eo",
        "outputId": "8f3d1af3-7881-416e-d479-e97c7f3d4f77"
      },
      "execution_count": 19,
      "outputs": [
        {
          "output_type": "stream",
          "name": "stdout",
          "text": [
            "number of lines : 2314\n"
          ]
        }
      ]
    },
    {
      "cell_type": "code",
      "source": [
        "with open('social.txt', 'w', encoding='utf-8') as f:\n",
        "  for sent in line:\n",
        "    f.write(str(sent))\n",
        "    f.write('\\n')"
      ],
      "metadata": {
        "id": "lZGwQqpEESrr"
      },
      "execution_count": 20,
      "outputs": []
    }
  ]
}